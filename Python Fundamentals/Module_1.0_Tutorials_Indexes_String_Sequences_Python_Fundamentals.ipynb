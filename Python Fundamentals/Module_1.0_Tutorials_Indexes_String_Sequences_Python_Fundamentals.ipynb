{
 "cells": [
  {
   "cell_type": "markdown",
   "source": [
    "# Python Fundamentals Module 1: String Iterables (P2M1)\n",
    "## Sequence: String\n",
    "- **Accessing String Characters with index**\n",
    "- Accessing sub-strings with index slicing\n",
    "- Iterating through Characters of a String\n",
    "- More String Methods\n",
    "\n",
    "----- \n",
    "\n",
    "><font size=\"5\" color=\"#00A0B2\"  face=\"verdana\"> <B>Student will be able to</B></font>  \n",
    "- **Work with String Characters by index**\n",
    "- Slice strings into substrings\n",
    "- Iterate through String Characters\n",
    "- Use String Methods"
   ],
   "metadata": {}
  },
  {
   "cell_type": "markdown",
   "source": [
    "# &nbsp;\n",
    "<font size=\"6\" color=\"#00A0B2\"  face=\"verdana\"> <B>Concepts</B></font>\n",
    "## \"iterables\" ... Accessing a single String Character\n",
    "Iterables include data types and structures like strings, lists, tuples, dictionaries, and more. It is possible to even define your own. For more on iterables, see https://docs.python.org/3/glossary.html#term-iterable\n",
    "\n",
    "\n",
    "[![view video](https://openclipart.org/download/219326/1432343177.svg)](https://youtu.be/wXKaSdVuK_I)\n",
    "\n",
    "### addressing a string index\n",
    "Strings are sequences of characters.  Another common sequence type used in this course is a **list**.  Sequences index items counting from 0 for the first item.\n",
    "\n",
    "```python\n",
    "# assign string to student_name\n",
    "student_name = \"Alton\"\n",
    "# first character is at index 0\n",
    "student_name[0]\n",
    "```  \n"
   ],
   "metadata": {
    "collapsed": true
   }
  },
  {
   "cell_type": "markdown",
   "source": [
    "\n",
    "<font size=\"4\" color=\"#00A0B2\"  face=\"verdana\"> <B>Examples</B></font>"
   ],
   "metadata": {}
  },
  {
   "cell_type": "code",
   "execution_count": 8,
   "source": [
    "# [ ] review and run example - note the first element is always index = 0\r\n",
    "student_name = \"Alton\"\r\n",
    "print(student_name[0], \"<-- first character at index 0\")\r\n",
    "print(student_name[1])\r\n",
    "print(student_name[2])\r\n",
    "print(student_name[3])\r\n",
    "print(student_name[4])"
   ],
   "outputs": [
    {
     "output_type": "stream",
     "name": "stdout",
     "text": [
      "A <-- first character at index 0\n",
      "l\n",
      "t\n",
      "o\n",
      "n\n"
     ]
    }
   ],
   "metadata": {}
  },
  {
   "cell_type": "code",
   "execution_count": 9,
   "source": [
    "# [ ] review and run example\r\n",
    "student_name = \"Jin\"\r\n",
    "if student_name[0].lower() == \"a\":\r\n",
    "    print('Winner! Name starts with A:', student_name)\r\n",
    "elif student_name[0].lower() == \"j\":\r\n",
    "    print('Winner! Name starts with J:', student_name)\r\n",
    "else:\r\n",
    "    print('Not a match, try again tomorrow:', student_name)"
   ],
   "outputs": [
    {
     "output_type": "stream",
     "name": "stdout",
     "text": [
      "Winner! Name starts with J: Jin\n"
     ]
    }
   ],
   "metadata": {}
  },
  {
   "cell_type": "code",
   "execution_count": 10,
   "source": [
    "# [ ] review and run ERROR example\r\n",
    "# cannot index out of range\r\n",
    "student_name = \"Tobias\"\r\n",
    "print(student_name[5])\r\n",
    "print(student_name[-1])"
   ],
   "outputs": [
    {
     "output_type": "stream",
     "name": "stdout",
     "text": [
      "s\n",
      "s\n"
     ]
    }
   ],
   "metadata": {}
  },
  {
   "cell_type": "markdown",
   "source": [
    "# &nbsp;\n",
    "<font size=\"6\" color=\"#B24C00\"  face=\"verdana\"> <B>Task 1</B></font>\n",
    "\n",
    "## Work with individual string characters  \n",
    "\n",
    "|                                                                 |\n",
    "|-----------------------------------------------------------------|\n",
    "|  **Remember:** the first character in a string is at **index 0**|\n",
    "|                                                                 |\n"
   ],
   "metadata": {
    "collapsed": true
   }
  },
  {
   "cell_type": "code",
   "execution_count": null,
   "source": [
    "# [ ] assign a string 5 or more letters long to the variable: street_name\r\n",
    "# [ ] print the 1st, 3rd and 5th characters\r\n",
    "aString = \"Hello World!\"\r\n",
    "\r\n",
    "\r\n"
   ],
   "outputs": [],
   "metadata": {}
  },
  {
   "cell_type": "code",
   "execution_count": null,
   "source": [
    "# [ ] Create an input variable: team_name - ask that second letter = \"i\", \"o\", or \"u\"\r\n",
    "# [ ] Test if team_name 2nd character = \"i\", \"o\", or \"u\" and print a message\r\n",
    "# note: use if, elif and else\r\n",
    "\r\n"
   ],
   "outputs": [],
   "metadata": {}
  },
  {
   "cell_type": "markdown",
   "source": [
    "# &nbsp;\n",
    "<font size=\"6\" color=\"#00A0B2\"  face=\"verdana\"> <B>Concepts</B></font>\n",
    "## Using a negative index \n",
    "### Access the end of a string using -1\n",
    "Strings assign an **index** number address to each string character\n",
    "\n",
    "- first character in a string is index 0\n",
    "- last character in a string is index **-1**\n",
    "\n",
    "To access the last character in a string\n",
    "```python\n",
    "student_name[-1]\n",
    "```\n"
   ],
   "metadata": {}
  },
  {
   "cell_type": "markdown",
   "source": [
    "\n",
    "<font size=\"4\" color=\"#00A0B2\"  face=\"verdana\"> <B>Examples</B></font>\n",
    "\n"
   ],
   "metadata": {}
  },
  {
   "cell_type": "markdown",
   "source": [
    "#### access the last character with the -1 index\n",
    "negative index counts back from the last character in a string  "
   ],
   "metadata": {}
  },
  {
   "cell_type": "code",
   "execution_count": null,
   "source": [
    "# [ ] review and run example\r\n",
    "student_name = \"Joana\"\r\n",
    "\r\n",
    "# get last letter\r\n",
    "end_letter = student_name[-1]\r\n",
    "print(student_name,\"ends with\", \"'\" + end_letter + \"'\")"
   ],
   "outputs": [],
   "metadata": {}
  },
  {
   "cell_type": "code",
   "execution_count": null,
   "source": [
    "# [ ] review and run example\r\n",
    "# get second to last letter\r\n",
    "second_last_letter = student_name[-2]\r\n",
    "print(student_name,\"has 2nd to last letter of\", \"'\" + second_last_letter + \"'\")"
   ],
   "outputs": [],
   "metadata": {}
  },
  {
   "cell_type": "code",
   "execution_count": null,
   "source": [
    "# [ ] review and run example\r\n",
    "# you can get to the same letter with index counting + or -\r\n",
    "print(\"for\", student_name)\r\n",
    "print(\"index 3 =\", \"'\" + student_name[3] + \"'\")\r\n",
    "print(\"index -2 =\",\"'\" + student_name[-2] + \"'\")"
   ],
   "outputs": [],
   "metadata": {}
  },
  {
   "cell_type": "markdown",
   "source": [
    "# &nbsp;\n",
    "<font size=\"6\" color=\"#B24C00\"  face=\"verdana\"> <B>Task 2</B></font>\n"
   ],
   "metadata": {
    "collapsed": true
   }
  },
  {
   "cell_type": "code",
   "execution_count": null,
   "source": [
    "# [ ] assign a string 5 or more letters long to the variable: street_name\r\n",
    "# [ ] print the last 3 characters of street_name\r\n",
    "\r\n"
   ],
   "outputs": [],
   "metadata": {}
  },
  {
   "cell_type": "code",
   "execution_count": null,
   "source": [
    "# [ ] create and assign string variable: first_name\r\n",
    "\r\n",
    "# [ ] print the first and last letters of name\r\n",
    "\r\n"
   ],
   "outputs": [],
   "metadata": {}
  },
  {
   "cell_type": "markdown",
   "source": [
    "# &nbsp;\n",
    "<font size=\"6\" color=\"#B24C00\"  face=\"verdana\"> <B>Task 3</B></font>  \n",
    "## Fix the Errors"
   ],
   "metadata": {
    "collapsed": true
   }
  },
  {
   "cell_type": "code",
   "execution_count": null,
   "source": [
    "# [ ] Review, Run, Fix the error using string index\r\n",
    "shoe = \"tennis\"\r\n",
    "# print the last letter\r\n",
    "print(shoe(-1))\r\n",
    "\r\n"
   ],
   "outputs": [],
   "metadata": {}
  },
  {
   "cell_type": "markdown",
   "source": [
    "# Module 1 Part 2\n",
    "## Sequence: String\n",
    "- Accessing String Character with index\n",
    "- **Accessing sub-strings with index slicing**\n",
    "- Iterating through Characters of a String\n",
    "- More String Methods\n",
    "\n",
    "----- \n",
    "\n",
    "><font size=\"5\" color=\"#00A0B2\"  face=\"verdana\"> <B>Student will be able to</B></font>  \n",
    "- Work with String Characters\n",
    "- **Slice strings into substrings**\n",
    "- Iterate through String Characters\n",
    "- Use String Methods"
   ],
   "metadata": {}
  },
  {
   "cell_type": "markdown",
   "source": [
    "# &nbsp;\n",
    "<font size=\"6\" color=\"#00A0B2\"  face=\"verdana\"> <B>Concepts</B></font>\n",
    "## Accessing sub-strings \n",
    "### Index Slicing [start:stop]\n",
    "String slicing returns a string section by addressing the start and stop indexes\n",
    "\n",
    "```python\n",
    "# assign string to student_name\n",
    "student_name = \"Colette\"\n",
    "# addressing the 3rd, 4th and 5th characters\n",
    "student_name[2:5]\n",
    "```\n",
    "The slice starts at index 2 and ends at index 5 (but does not include index 5)"
   ],
   "metadata": {}
  },
  {
   "cell_type": "markdown",
   "source": [
    "\n",
    "<font size=\"4\n",
    "           \" color=\"#00A0B2\"  face=\"verdana\"> <B>Examples</B></font>"
   ],
   "metadata": {}
  },
  {
   "cell_type": "code",
   "execution_count": null,
   "source": [
    "# [ ] review and run example\r\n",
    "# assign string to student_name\r\n",
    "student_name = \"Colette\"\r\n",
    "\r\n",
    "# addressing the 3rd, 4th and 5th characters using a slice\r\n",
    "print(\"slice student_name[2:5]:\",student_name[2:5])"
   ],
   "outputs": [],
   "metadata": {}
  },
  {
   "cell_type": "code",
   "execution_count": null,
   "source": [
    "# [ ] review and run example\r\n",
    "# assign string to student_name\r\n",
    "student_name = \"Colette\"\r\n",
    "\r\n",
    "# addressing the 3rd, 4th and 5th characters individually\r\n",
    "print(\"index 2, 3 & 4 of student_name:\", student_name[2] + student_name[3] + student_name[4])"
   ],
   "outputs": [],
   "metadata": {}
  },
  {
   "cell_type": "code",
   "execution_count": null,
   "source": [
    "# [ ] review and run example\r\n",
    "long_word = 'Acknowledgement'\r\n",
    "print(long_word[2:11])\r\n",
    "print(long_word[2:11], \"is the 3rd char through the 11th char\")\r\n",
    "print(long_word[2:11], \"is the index 2, \\\"\" + long_word[2] + \"\\\",\", \"through index 10, \\\"\" + long_word[10] + \"\\\"\")"
   ],
   "outputs": [],
   "metadata": {}
  },
  {
   "cell_type": "markdown",
   "source": [
    "# &nbsp;\n",
    "<font size=\"6\" color=\"#B24C00\"  face=\"verdana\"> <B>Task 4</B></font>\n",
    "\n",
    "## slice a string\n",
    "### start & stop index"
   ],
   "metadata": {
    "collapsed": true
   }
  },
  {
   "cell_type": "code",
   "execution_count": null,
   "source": [
    "# [ ] slice long_word to print \"act\" and to print \"tic\"\r\n",
    "long_word = \"characteristics\"\r\n",
    "\r\n",
    "\r\n"
   ],
   "outputs": [],
   "metadata": {}
  },
  {
   "cell_type": "code",
   "execution_count": null,
   "source": [
    "# [ ] slice long_word to print \"sequence\"\r\n",
    "long_word = \"Consequences\"\r\n",
    "\r\n"
   ],
   "outputs": [],
   "metadata": {}
  },
  {
   "cell_type": "markdown",
   "source": [
    "# &nbsp;\n",
    "<font size=\"6\" color=\"#00A0B2\"  face=\"verdana\"> <B>Concepts</B></font>\n",
    "## Accessing beginning of sub-strings \n",
    "### Index Slicing [:stop]\n",
    "String slicing returns a string section from index 0 by addressing only the stop index\n",
    "\n",
    "```python\n",
    "student_name = \"Colette\"\n",
    "# addressing the 1st, 2nd & 3rd characters\n",
    "student_name[:3]\n",
    "```\n",
    "**default start for a slice is index 0**"
   ],
   "metadata": {}
  },
  {
   "cell_type": "markdown",
   "source": [
    "\n",
    "<font size=\"4\" color=\"#00A0B2\"  face=\"verdana\"> <B>Example</B></font>"
   ],
   "metadata": {}
  },
  {
   "cell_type": "code",
   "execution_count": 7,
   "source": [
    "# [ ] review and run example\r\n",
    "student_name = \"Colette\"\r\n",
    "# addressing the 1st, 2nd & 3rd characters\r\n",
    "print(student_name[:3])"
   ],
   "outputs": [
    {
     "output_type": "stream",
     "name": "stdout",
     "text": [
      "Col\n"
     ]
    }
   ],
   "metadata": {}
  },
  {
   "cell_type": "markdown",
   "source": [
    "# &nbsp;\n",
    "<font size=\"6\" color=\"#B24C00\"  face=\"verdana\"> <B>Task 5</B></font>\n"
   ],
   "metadata": {
    "collapsed": true
   }
  },
  {
   "cell_type": "code",
   "execution_count": null,
   "source": [
    "# [ ] print the first half of the long_word\r\n",
    "long_word = \"Consequences\"\r\n",
    "\r\n",
    "\r\n"
   ],
   "outputs": [],
   "metadata": {}
  },
  {
   "cell_type": "markdown",
   "source": [
    "# &nbsp;\n",
    "<font size=\"6\" color=\"#00A0B2\"  face=\"verdana\"> <B>Concepts</B></font>\n",
    "## Accessing ending of sub-strings \n",
    "### Index Slicing [start:]\n",
    "String slicing returns a string section including by addressing only the start index\n",
    "\n",
    "```python\n",
    "student_name = \"Colette\"\n",
    "# addressing the 4th, 5th and 6th characters\n",
    "student_name[3:]\n",
    "```\n",
    "**default end index returns up to and including the last string character**"
   ],
   "metadata": {}
  },
  {
   "cell_type": "markdown",
   "source": [
    "\n",
    "<font size=\"4\" color=\"#00A0B2\"  face=\"verdana\"> <B>Example</B></font>"
   ],
   "metadata": {}
  },
  {
   "cell_type": "code",
   "execution_count": null,
   "source": [
    "# [ ] review and run example\r\n",
    "student_name = \"Colette\"\r\n",
    "#  4th, 5th, 6th and 7th characters\r\n",
    "student_name[3:]"
   ],
   "outputs": [],
   "metadata": {}
  },
  {
   "cell_type": "markdown",
   "source": [
    "# &nbsp;\n",
    "<font size=\"6\" color=\"#B24C00\"  face=\"verdana\"> <B>Task 6</B></font>\n"
   ],
   "metadata": {
    "collapsed": true
   }
  },
  {
   "cell_type": "code",
   "execution_count": null,
   "source": [
    "# [ ] print the second half of the long_word\r\n",
    "long_word = \"Consequences\"\r\n",
    "\r\n"
   ],
   "outputs": [],
   "metadata": {}
  },
  {
   "cell_type": "markdown",
   "source": [
    "# &nbsp;\n",
    "<font size=\"6\" color=\"#00A0B2\"  face=\"verdana\"> <B>Concepts</B></font>\n",
    "## accessing sub-strings by step size\n",
    "### Index Slicing [:], [::2]\n",
    "- **[:]** returns the entire string\n",
    "- **[::2]** returns the first char and then steps to every other char in the string\n",
    "- **[1::3]** returns the second char and then steps to every third char in the string  \n",
    "\n",
    "the number **2**, in the print statement below, represents the **step** \n",
    "\n",
    "```python\n",
    "print(long_word[::2])\n",
    "```"
   ],
   "metadata": {}
  },
  {
   "cell_type": "markdown",
   "source": [
    "\n",
    "<font size=\"4\" color=\"#00A0B2\"  face=\"verdana\"> <B>Examples</B></font>"
   ],
   "metadata": {}
  },
  {
   "cell_type": "code",
   "execution_count": null,
   "source": [
    "# [ ] review and run example\r\n",
    "student_name = \"Colette\"\r\n",
    "# return all\r\n",
    "print(student_name[:])"
   ],
   "outputs": [],
   "metadata": {}
  },
  {
   "cell_type": "code",
   "execution_count": null,
   "source": [
    "# [ ] review and run example\r\n",
    "student_name = \"Colette\"\r\n",
    "# return every other\r\n",
    "print(student_name[::2])"
   ],
   "outputs": [],
   "metadata": {}
  },
  {
   "cell_type": "code",
   "execution_count": null,
   "source": [
    "# [ ] review and run example\r\n",
    "student_name = \"Colette\"\r\n",
    "# return every third, starting at 2nd character\r\n",
    "print(student_name[1::3])"
   ],
   "outputs": [],
   "metadata": {}
  },
  {
   "cell_type": "code",
   "execution_count": null,
   "source": [
    "# [ ] review and run example\r\n",
    "long_word = \"Consequences\"\r\n",
    "# starting at 2nd char (index 1) to 9th character, return every other character\r\n",
    "print(long_word[1:9:2])"
   ],
   "outputs": [],
   "metadata": {}
  },
  {
   "cell_type": "markdown",
   "source": [
    "# &nbsp;\n",
    "<font size=\"6\" color=\"#B24C00\"  face=\"verdana\"> <B>Task 7</B></font>\n"
   ],
   "metadata": {
    "collapsed": true
   }
  },
  {
   "cell_type": "code",
   "execution_count": null,
   "source": [
    "# [ ] print the 1st and every 3rd letter of long_word\r\n",
    "long_word = \"Acknowledgement\"\r\n",
    "\r\n"
   ],
   "outputs": [],
   "metadata": {}
  },
  {
   "cell_type": "code",
   "execution_count": null,
   "source": [
    "# [ ] print every other character of long_word starting at the 3rd character\r\n",
    "long_word = \"Acknowledgement\"\r\n"
   ],
   "outputs": [],
   "metadata": {}
  },
  {
   "cell_type": "markdown",
   "source": [
    "<font size=\"6\" color=\"#00A0B2\"  face=\"verdana\"> <B>Concepts</B></font>  \n",
    "\n",
    "## Accessing sub-strings  continued  \n",
    "### stepping backwards \n",
    "\n",
    "```python\n",
    "print(long_word[::-1])\n",
    "```  \n",
    "\n",
    "use **[::-1]** to reverse a string  "
   ],
   "metadata": {}
  },
  {
   "cell_type": "markdown",
   "source": [
    "\n",
    "<font size=\"4\" color=\"#00A0B2\"  face=\"verdana\"> <B>Example</B></font>"
   ],
   "metadata": {}
  },
  {
   "cell_type": "code",
   "execution_count": null,
   "source": [
    "# [ ] review and run example of stepping backwards using [::-1]\r\n",
    "long_word = \"characteristics\"\r\n",
    "# make the step increment -1 to step backwards\r\n",
    "print(long_word[::-1])"
   ],
   "outputs": [],
   "metadata": {
    "scrolled": true
   }
  },
  {
   "cell_type": "code",
   "execution_count": null,
   "source": [
    "# [ ] review and run example of stepping backwards using [6::-1]\r\n",
    "long_word = \"characteristics\"\r\n",
    "# start at the 7th letter backwards to start\r\n",
    "print(long_word[6::-1])"
   ],
   "outputs": [],
   "metadata": {}
  },
  {
   "cell_type": "markdown",
   "source": [
    "# &nbsp;\n",
    "<font size=\"6\" color=\"#B24C00\"  face=\"verdana\"> <B>Task 8</B></font>  \n",
    "use slicing"
   ],
   "metadata": {
    "collapsed": true
   }
  },
  {
   "cell_type": "code",
   "execution_count": null,
   "source": [
    "# [ ] reverse long_word\r\n",
    "long_word = \"stressed\"\r\n",
    "\r\n"
   ],
   "outputs": [],
   "metadata": {}
  },
  {
   "cell_type": "code",
   "execution_count": null,
   "source": [
    "# [ ] print the first 5 letters of long_word in reverse\r\n",
    "long_word = \"characteristics\"\r\n",
    "\r\n"
   ],
   "outputs": [],
   "metadata": {}
  },
  {
   "cell_type": "markdown",
   "source": [
    "# &nbsp;\n",
    "<font size=\"6\" color=\"#B24C00\"  face=\"verdana\"> <B>Task 9</B></font>  \n",
    "use slicing"
   ],
   "metadata": {
    "collapsed": true
   }
  },
  {
   "cell_type": "code",
   "execution_count": null,
   "source": [
    "# [ ] print the first 4 letters of long_word\r\n",
    "# [ ] print the first 4 letters of long_word in reverse\r\n",
    "# [ ] print the last 4 letters of long_word in reverse\r\n",
    "# [ ] print the letters spanning indexes 3 to 6 of long_word in Reverse\r\n",
    "long_word = \"timeline\"\r\n"
   ],
   "outputs": [],
   "metadata": {}
  },
  {
   "cell_type": "markdown",
   "source": [
    "# Module 1 Part 3\n",
    "## Sequence: String\n",
    "- Accessing String Character with index\n",
    "- Accessing sub-strings with index slicing\n",
    "- **Iterating through Characters of a String**\n",
    "- More String Methods\n",
    "\n",
    "----- \n",
    "\n",
    "><font size=\"5\" color=\"#00A0B2\"  face=\"verdana\"> <B>Student will be able to</B></font>  \n",
    "- Work with String Characters\n",
    "- Slice strings into substrings\n",
    "- **Iterate through String Characters**\n",
    "- Use String Methods"
   ],
   "metadata": {}
  },
  {
   "cell_type": "markdown",
   "source": [
    "# &nbsp;\n",
    "<font size=\"6\" color=\"#00A0B2\"  face=\"verdana\"> <B>Concepts</B></font>\n",
    "## Iterate a String: 1 character at a time\n",
    "### `for letter in word:`\n",
    "Python provides powerful sequence iteration features.  Below, **`for letter in word:`** loops through each letter in *word*.\n",
    "\n",
    "```python\n",
    "word = \"cello\"\n",
    "\n",
    "for letter in word:\n",
    "    print(letter)\n",
    "```  \n",
    "\n",
    "The variable **`letter`** is an arbitrary variable name .  Any valid variable name can be used.\n"
   ],
   "metadata": {}
  },
  {
   "cell_type": "markdown",
   "source": [
    "\n",
    "<font size=\"4\" color=\"#00A0B2\"  face=\"verdana\"> <B>Examples</B></font>"
   ],
   "metadata": {}
  },
  {
   "cell_type": "code",
   "execution_count": null,
   "source": [
    "# [ ] review and run example\r\n",
    "word = \"cello\"\r\n",
    "\r\n",
    "for x in word:\r\n",
    "    print(x)"
   ],
   "outputs": [],
   "metadata": {}
  },
  {
   "cell_type": "code",
   "execution_count": null,
   "source": [
    "# [ ] review and run example\r\n",
    "# note: the variable 'letter' changed to 'item'\r\n",
    "word = \"trumpet\"\r\n",
    "\r\n",
    "for item in word:\r\n",
    "    print(item)"
   ],
   "outputs": [],
   "metadata": {}
  },
  {
   "cell_type": "code",
   "execution_count": null,
   "source": [
    "# [ ] review and run example\r\n",
    "# note: variable is now 'xyz' \r\n",
    "# using 'xyz', 'item' or 'letter' are all the same result\r\n",
    "word = \"piano\"\r\n",
    "\r\n",
    "for xyz in word:\r\n",
    "    print(xyz)"
   ],
   "outputs": [],
   "metadata": {}
  },
  {
   "cell_type": "code",
   "execution_count": null,
   "source": [
    "# [ ] review and run example\r\n",
    "# creates a new string (new_name) adding a letter (ltr) each loop\r\n",
    "# Q?: how many times will the loop run?\r\n",
    "student_name = \"Skye\"\r\n",
    "new_name = \"\"\r\n",
    "\r\n",
    "for ltr in student_name:\r\n",
    "    if ltr.lower() == \"y\":\r\n",
    "        new_name += ltr.upper()\r\n",
    "    else:\r\n",
    "        new_name += ltr\r\n",
    "print(student_name,\"to\",new_name)"
   ],
   "outputs": [],
   "metadata": {}
  },
  {
   "cell_type": "markdown",
   "source": [
    "# &nbsp;\n",
    "<font size=\"6\" color=\"#B24C00\"  face=\"verdana\"> <B>Task 10</B></font>\n",
    "\n",
    "## iterate a String\n",
    "### one character at a time"
   ],
   "metadata": {
    "collapsed": true
   }
  },
  {
   "cell_type": "code",
   "execution_count": null,
   "source": [
    "# [ ] Get user input for first_name\r\n",
    "# [ ] iterate through letters in first_name \r\n",
    "#    - print each letter on a new line\r\n",
    "\r\n",
    "\r\n",
    "\r\n"
   ],
   "outputs": [],
   "metadata": {}
  },
  {
   "cell_type": "markdown",
   "source": [
    "# &nbsp;\n",
    "<font size=\"6\" color=\"#B24C00\"  face=\"verdana\"> <B>Task 11</B></font>\n",
    "\n",
    "## Program: capitalize-io\n",
    "- get user input for first_name\n",
    "- create an empty string variable: new_name\n",
    "- iterate through letters in first_name \n",
    "  -  add each letter in new_name\n",
    "  - capitalize if letter is an \"i\" or \"o\" *(hint: if, elif, else)\n",
    "- print new_name"
   ],
   "metadata": {}
  },
  {
   "cell_type": "code",
   "execution_count": null,
   "source": [
    "# [ ] Create capitalize-io\r\n",
    "\r\n"
   ],
   "outputs": [],
   "metadata": {}
  },
  {
   "cell_type": "markdown",
   "source": [
    "# &nbsp;\n",
    "<font size=\"6\" color=\"#00A0B2\"  face=\"verdana\"> <B>Concepts</B></font>\n",
    "## Iterate sub-strings \n",
    "### Combine String slicing and iteration\n",
    "\n",
    "```python\n",
    "student_name = \"Skye\"\n",
    "\n",
    "for letter in student_name[:3]:\n",
    "    print(letter)\n",
    "```  \n",
    "\n",
    "Iterate backwards using: **`student_name[::-1]`**"
   ],
   "metadata": {}
  },
  {
   "cell_type": "markdown",
   "source": [
    "\n",
    "<font size=\"4\" color=\"#00A0B2\"  face=\"verdana\"> <B>Example</B></font>"
   ],
   "metadata": {}
  },
  {
   "cell_type": "code",
   "execution_count": null,
   "source": [
    "# [ ] review and run example\r\n",
    "student_name = \"Skye\"\r\n",
    "\r\n",
    "for letter in student_name[2::-1]:\r\n",
    "    print(letter.lower())"
   ],
   "outputs": [],
   "metadata": {}
  },
  {
   "cell_type": "code",
   "execution_count": null,
   "source": [
    "# Iterate BACKWARDS\r\n",
    "# [ ] review and run example\r\n",
    "student_name = \"Skye\"\r\n",
    "\r\n",
    "# start at \"y\" (student_name[2]), iterate backwards\r\n",
    "for letter in student_name[2::-1]:\r\n",
    "    print(letter)"
   ],
   "outputs": [],
   "metadata": {}
  },
  {
   "cell_type": "markdown",
   "source": [
    "# &nbsp;\n",
    "<font size=\"6\" color=\"#B24C00\"  face=\"verdana\"> <B>Task 12</B></font>\n",
    "###  String slicing and iteration"
   ],
   "metadata": {
    "collapsed": true
   }
  },
  {
   "cell_type": "code",
   "execution_count": null,
   "source": [
    "# [ ] create & print a variable, other_word, made of every other letter in long_word\r\n",
    "long_word = \"juxtaposition\"\r\n",
    "\r\n"
   ],
   "outputs": [],
   "metadata": {}
  },
  {
   "cell_type": "code",
   "execution_count": null,
   "source": [
    "# Mirror Color\r\n",
    "# [ ] get user input, fav_color\r\n",
    "# [ ] print fav_color backwards + fav_color\r\n",
    "# example: \"Red\" prints \"deRRed\"\r\n",
    "\r\n"
   ],
   "outputs": [],
   "metadata": {}
  },
  {
   "cell_type": "markdown",
   "source": [
    "# Module 1 Part 4\n",
    "## Sequence: String\n",
    "- Accessing String Character with index\n",
    "- Accessing sub-strings with index slicing\n",
    "- Iterating through Characters of a String\n",
    "- **More String Methods**\n",
    "\n",
    "----- \n",
    "\n",
    "><font size=\"5\" color=\"#00A0B2\"  face=\"verdana\"> <B>Student will be able to</B></font>  \n",
    "- Work with String Characters\n",
    "- Slice strings into substrings\n",
    "- Iterate through String Characters\n",
    "- **Use String ~~Tricks~~ Methods**\n",
    "  - `len()`\n",
    "  - `.count()`\n",
    "  - `.find()`"
   ],
   "metadata": {}
  },
  {
   "cell_type": "markdown",
   "source": [
    "# &nbsp;\n",
    "<font size=\"6\" color=\"#00A0B2\"  face=\"verdana\"> <B>Concepts</B></font>\n",
    "## String Methods: return string information\n",
    "### len()  \n",
    "returns a strings length  \n",
    "### .count()  \n",
    "returns number of times a character or sub-string occur  \n",
    "### .find()   \n",
    "returns index of first character or sub-string match  \n",
    "returns **-1** if no match found  \n",
    "\n",
    "```python\n",
    "work_tip = \"save your code\"\n",
    "\n",
    "# number of characters\n",
    "len(work_tip)\n",
    "\n",
    "# letter \"e\" occurrences\n",
    "work_tip.count(\"e\")\n",
    "\n",
    "# find the index of the first space\n",
    "work_tip.find(\" \")\n",
    "\n",
    "# find the index of \"u\" searching a slice work_tip[3:6]\n",
    "work_tip.find(\"u\",3,6)\n",
    "```  \n",
    "These methods **return** information that we can use to sort or manipulate strings"
   ],
   "metadata": {}
  },
  {
   "cell_type": "markdown",
   "source": [
    "\n",
    "<font size=\"4\" color=\"#00A0B2\"  face=\"verdana\"> <B>Examples</B></font>  \n",
    "run each example cell in order"
   ],
   "metadata": {}
  },
  {
   "cell_type": "code",
   "execution_count": null,
   "source": [
    "# [ ] review and run example\r\n",
    "work_tip = \"save your code\"\r\n",
    "\r\n",
    "print(\"number of characters in string\")\r\n",
    "print(len(work_tip),\"\\n\")\r\n",
    "\r\n",
    "print('letter \"e\" occurrences')\r\n",
    "print(work_tip.count(\"e\"),\"\\n\")\r\n",
    "\r\n",
    "print(\"find the index of the first space\")\r\n",
    "print(work_tip.find(\" \"),\"\\n\")\r\n",
    "\r\n",
    "print('find the index of \"u\" searching a slice work_tip[3:9] -', work_tip[3:9])\r\n",
    "print(work_tip.find(\"u\",3,9),\"\\n\")\r\n",
    "\r\n",
    "print('find the index of \"e\" searching a slice work_tip[4:] -', work_tip[4:])\r\n",
    "print(work_tip.find(\"e\",4))"
   ],
   "outputs": [],
   "metadata": {}
  },
  {
   "cell_type": "markdown",
   "source": [
    "### len()  \n",
    "returns a strings length  "
   ],
   "metadata": {}
  },
  {
   "cell_type": "code",
   "execution_count": null,
   "source": [
    "# [ ] review and run example\r\n",
    "work_tip = \"good code is commented code\"\r\n",
    "\r\n",
    "print(\"The sentence: \\\"\" + work_tip + \"\\\" has character length = \", len(work_tip) )"
   ],
   "outputs": [],
   "metadata": {}
  },
  {
   "cell_type": "code",
   "execution_count": null,
   "source": [
    "# [ ] review and run example\r\n",
    "# find the middle index\r\n",
    "work_tip = \"good code is commented code.\"\r\n",
    "mid_pt = int(len(work_tip)/2)\r\n",
    "\r\n",
    "# print 1st half of sentence\r\n",
    "print(work_tip[:mid_pt])\r\n",
    "\r\n",
    "# print the 2nd half of sentence\r\n",
    "print(work_tip[mid_pt:])"
   ],
   "outputs": [],
   "metadata": {}
  },
  {
   "cell_type": "markdown",
   "source": [
    "### .count()  \n",
    "returns number of times a character or sub-string occur   "
   ],
   "metadata": {}
  },
  {
   "cell_type": "code",
   "execution_count": null,
   "source": [
    "# [ ] review and run example\r\n",
    "print(work_tip)\r\n",
    "print(\"how many w's? \", work_tip.count(\"w\"))\r\n",
    "print(\"how many o's? \", work_tip.count(\"o\"))\r\n",
    "print(\"uses 'code', how many times? \", work_tip.count(\"code\"))"
   ],
   "outputs": [],
   "metadata": {}
  },
  {
   "cell_type": "code",
   "execution_count": null,
   "source": [
    "# [ ] review and run example \r\n",
    "print(work_tip[:mid_pt])\r\n",
    "print(\"# o's in first half\")\r\n",
    "print(work_tip[:mid_pt].count(\"o\"))\r\n",
    "\r\n",
    "print()\r\n",
    "print(work_tip[mid_pt:])\r\n",
    "print(\"# o's in second half\")\r\n",
    "print(work_tip[mid_pt:].count(\"o\"))"
   ],
   "outputs": [],
   "metadata": {}
  },
  {
   "cell_type": "markdown",
   "source": [
    "### .find(*string*) \n",
    "returns index of first character or sub-string match  \n",
    "returns **-1** if no match found\n",
    "#### .find(*string*, *start index*, *end index*)\n",
    "same as above .find() but searches from optional start and to optional end index"
   ],
   "metadata": {}
  },
  {
   "cell_type": "code",
   "execution_count": null,
   "source": [
    "# [ ] review and run example \r\n",
    "work_tip = \"good code has meaningful variable names\"\r\n",
    "print(work_tip)\r\n",
    "# index where first instance of \"code\" starts\r\n",
    "code_here = work_tip.find(\"code\")\r\n",
    "print(code_here, '= starting index for \"code\"')"
   ],
   "outputs": [],
   "metadata": {}
  },
  {
   "cell_type": "code",
   "execution_count": null,
   "source": [
    "# [ ] review and run example \r\n",
    "# set start index = 13 and end index = 33\r\n",
    "print('search for \"meaning\" in the sub-string:', work_tip[13:33],\"\\n\")\r\n",
    "meaning_here = work_tip.find(\"code\",13,33)\r\n",
    "print('\"meaning\" found in work_tip[13:33] sub-string search at index', meaning_here)\r\n",
    "print(work_tip[13:33].find(\"code\"))"
   ],
   "outputs": [],
   "metadata": {}
  },
  {
   "cell_type": "code",
   "execution_count": null,
   "source": [
    "# [ ] review and run example \r\n",
    "# if .find(\"o\") has No Match, -1 is returned\r\n",
    "print (\"work_tip:\" , work_tip)\r\n",
    "location = work_tip.find(\"o\")\r\n",
    "\r\n",
    "# keeps looping until location = -1 (no \"o\" found)\r\n",
    "while location >= 0:\r\n",
    "    print(\"'o' at index =\", location)\r\n",
    "    # find(\"o\", location + 1) looks for a \"o\" after index the first \"o\" was found\r\n",
    "    location = work_tip.find(\"o\", location + 1)\r\n",
    "print(\"no more o's\")"
   ],
   "outputs": [],
   "metadata": {}
  },
  {
   "cell_type": "markdown",
   "source": [
    "# &nbsp;\n",
    "<font size=\"6\" color=\"#B24C00\"  face=\"verdana\"> <B>Task 13</B></font>\n",
    "\n",
    "## `len()`"
   ],
   "metadata": {
    "collapsed": true
   }
  },
  {
   "cell_type": "code",
   "execution_count": null,
   "source": [
    "# [ ] use len() to find the midpoint of the string \r\n",
    "# [ ] print the halves on separate lines\r\n",
    "random_tip = \"wear a hat when it rains\"\r\n",
    "\r\n",
    "\r\n"
   ],
   "outputs": [],
   "metadata": {}
  },
  {
   "cell_type": "markdown",
   "source": [
    "# &nbsp;\n",
    "<font size=\"6\" color=\"#B24C00\"  face=\"verdana\"> <B>Task 14</B></font>\n",
    "\n",
    "## `.count()`"
   ],
   "metadata": {}
  },
  {
   "cell_type": "code",
   "execution_count": null,
   "source": [
    "# for letters: \"e\" and \"a\" in random_tip\r\n",
    "# [ ] print letter counts \r\n",
    "# [ ] BONUS: print which letter is most frequent\r\n",
    "random_tip = \"wear a hat when it rains\"\r\n",
    "\r\n",
    "\r\n"
   ],
   "outputs": [],
   "metadata": {}
  },
  {
   "cell_type": "markdown",
   "source": [
    "# &nbsp;\n",
    "<font size=\"6\" color=\"#B24C00\"  face=\"verdana\"> <B>Task 15</B></font>\n",
    "###  `.find()`"
   ],
   "metadata": {
    "collapsed": true
   }
  },
  {
   "cell_type": "code",
   "execution_count": 5,
   "source": [
    "# [ ] print long_word from the location of the first and second \"t\"\r\n",
    "long_word = \"juxtaposition\"\r\n",
    "s = long_word[3:10]\r\n",
    "print(s)\r\n"
   ],
   "outputs": [
    {
     "output_type": "stream",
     "name": "stdout",
     "text": [
      "taposit\n"
     ]
    }
   ],
   "metadata": {}
  },
  {
   "cell_type": "markdown",
   "source": [
    "# &nbsp;\n",
    "<font size=\"6\" color=\"#B24C00\"  face=\"verdana\"> <B>Task 16</B></font>\n",
    "##  Program: print each word in a quote\n",
    "```python\n",
    "start = 0\n",
    "space_index = quote.find(\" \")\n",
    "while space_index != -1:\n",
    "    # code to print word (index slice start:space_index)\n",
    "```  \n",
    "\n",
    "Output should look like below: \n",
    "```\n",
    "they\n",
    "stumble\n",
    "who\n",
    "run\n",
    "fast\n",
    "```  "
   ],
   "metadata": {
    "collapsed": true
   }
  },
  {
   "cell_type": "code",
   "execution_count": null,
   "source": [],
   "outputs": [],
   "metadata": {}
  },
  {
   "cell_type": "code",
   "execution_count": 6,
   "source": [
    "# [ ] Print each word in the quote on a new line  \r\n",
    "\r\n",
    "def format_sentence(str) :\r\n",
    "    sentenceSplit = filter(None, str.split(\" \"))\r\n",
    "    for s in sentenceSplit :\r\n",
    "        print(s.strip() + \" \")\r\n",
    "\r\n",
    "quote = \"they stumble who run fast\"\r\n",
    "format_sentence(quote)\r\n",
    "\r\n",
    "\r\n"
   ],
   "outputs": [
    {
     "output_type": "stream",
     "name": "stdout",
     "text": [
      "they \n",
      "stumble \n",
      "who \n",
      "run \n",
      "fast \n"
     ]
    }
   ],
   "metadata": {}
  },
  {
   "cell_type": "markdown",
   "source": [
    "(c) 2017 Microsoft adapted with permission by Dominic Thomas"
   ],
   "metadata": {}
  }
 ],
 "metadata": {
  "anaconda-cloud": {},
  "kernelspec": {
   "name": "python3",
   "display_name": "Python 3.9.0 64-bit"
  },
  "language_info": {
   "codemirror_mode": {
    "name": "ipython",
    "version": 3
   },
   "file_extension": ".py",
   "mimetype": "text/x-python",
   "name": "python",
   "nbconvert_exporter": "python",
   "pygments_lexer": "ipython3",
   "version": "3.9.0"
  },
  "interpreter": {
   "hash": "352250d72fbe74f1a4acf37601ef1631e612adb35eaa4136c077520ae8357c0b"
  }
 },
 "nbformat": 4,
 "nbformat_minor": 1
}