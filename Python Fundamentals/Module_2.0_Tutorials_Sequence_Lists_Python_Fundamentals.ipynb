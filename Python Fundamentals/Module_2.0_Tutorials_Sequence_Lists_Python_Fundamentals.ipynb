{
 "cells": [
  {
   "cell_type": "markdown",
   "source": [
    "# Python Fundamentals Module 2: Lists (P2M2)\n",
    "## Sequence: Lists \n",
    "- **List Creation**\n",
    "- **List Access**\n",
    "- List Append\n",
    "- List Insert\n",
    "- List Delete\n",
    "\n",
    "----- \n",
    "\n",
    "><font size=\"5\" color=\"#00A0B2\"  face=\"verdana\"> <B>Student will be able to</B></font>  \n",
    "- **Create Lists**\n",
    "- **Access items in a list**\n",
    "- Add Items to the end of a list\n",
    "- Insert items into a list\n",
    "- Delete items from a list"
   ],
   "metadata": {}
  },
  {
   "cell_type": "markdown",
   "source": [
    "# &nbsp;\n",
    "<font size=\"6\" color=\"#00A0B2\"  face=\"verdana\"> <B>Concepts</B></font>\n",
    "## Creating Lists\n",
    "[![view video](https://openclipart.org/download/219326/1432343177.svg)]( https://youtu.be/RA1tMeHWjh0)\n",
    "A simple lists contains **comma separated** objects enclosed in **square brackets**   \n",
    "```python\n",
    "empty_list = [ ]\n",
    "sample_list = [1, 1, 2, 3, 3, 3, 3, 4, 5, 5, 5, 5, 5]\n",
    "```\n",
    "\n",
    "List object types are not restricted so a mix of object types can be in single list\n",
    "```python\n",
    "mixed_list = [1, 1, \"one\", \"two\", 2.0, sample_list, \"Hello World\"]\n",
    "```"
   ],
   "metadata": {}
  },
  {
   "cell_type": "markdown",
   "source": [
    "\n",
    "<font size=\"4\" color=\"#00A0B2\"  face=\"verdana\"> <B>Examples</B></font>"
   ],
   "metadata": {}
  },
  {
   "cell_type": "code",
   "execution_count": null,
   "source": [
    "# [ ] review and run example\r\n",
    "# define list of strings\r\n",
    "ft_bones = [\"calcaneus\", \"talus\", \"cuboid\", \"navicular\", \"lateral cuneiform\", \"intermediate cuneiform\", \"medial cuneiform\"]\r\n",
    "\r\n",
    "# display type information\r\n",
    "print(\"ft_bones: \", type(ft_bones))\r\n",
    "\r\n",
    "# print the list\r\n",
    "print(ft_bones)"
   ],
   "outputs": [],
   "metadata": {}
  },
  {
   "cell_type": "code",
   "execution_count": null,
   "source": [
    "# [ ] review and run example\r\n",
    "# define list of integers\r\n",
    "age_survey = [12, 14, 12, 29, 12, 14, 12, 12, 13, 12, 14, 13, 13, 46, 13, 12, 12, 13, 13, 12, 12]\r\n",
    "\r\n",
    "# display type information\r\n",
    "print(\"age_survey: \", type(age_survey))\r\n",
    "\r\n",
    "# print the list\r\n",
    "print(age_survey)"
   ],
   "outputs": [],
   "metadata": {}
  },
  {
   "cell_type": "code",
   "execution_count": null,
   "source": [
    "# [ ] review and run example\r\n",
    "# define list of mixed data type\r\n",
    "mixed_list = [1, 34, 0.999, \"dog\", \"cat\", ft_bones, age_survey]\r\n",
    "\r\n",
    "# display type information\r\n",
    "print(\"mixed_list: \", type(mixed_list))\r\n",
    "\r\n",
    "# print the list\r\n",
    "print(mixed_list)"
   ],
   "outputs": [],
   "metadata": {}
  },
  {
   "cell_type": "markdown",
   "source": [
    "# &nbsp;\n",
    "<font size=\"6\" color=\"#B24C00\"  face=\"verdana\"> <B>Task 1</B></font>\n",
    "\n",
    "## Create Lists"
   ],
   "metadata": {
    "collapsed": true
   }
  },
  {
   "cell_type": "code",
   "execution_count": null,
   "source": [
    "# [ ] create team_names list and populate with 3-5 team name strings\r\n",
    "\r\n",
    "# [ ] print the list\r\n",
    "\r\n"
   ],
   "outputs": [],
   "metadata": {}
  },
  {
   "cell_type": "code",
   "execution_count": null,
   "source": [
    "# [ ] Create a list mix_list with numbers and strings with 4-6 items\r\n",
    "\r\n",
    "# [ ] print the list\r\n",
    "\r\n"
   ],
   "outputs": [],
   "metadata": {}
  },
  {
   "cell_type": "markdown",
   "source": [
    "# &nbsp;\n",
    "<font size=\"6\" color=\"#00A0B2\"  face=\"verdana\"> <B>Concepts</B></font>\n",
    "## List Access \n",
    "### Counting like a computer\n",
    "#### To access a list we need to count like a computer, and that means starting with zero (0)\n",
    "Lists give an **index** number to each list item\n",
    "\n",
    "- first element in a list is index 0\n",
    "- second element in a list is index 1\n",
    "\n",
    "To access the first item in a list use the list name, followed by square brackets containing the index number\n",
    "```python\n",
    "age_survey[0]\n",
    "```\n"
   ],
   "metadata": {}
  },
  {
   "cell_type": "markdown",
   "source": [
    "\n",
    "<font size=\"4\" color=\"#00A0B2\"  face=\"verdana\"> <B>Examples</B></font>\n",
    "\n",
    "|run previous examples before running the examples below Why? Because running them puts their results in memory, available to the code below to use to do further calculations and work |\n",
    "|-----------------------------------------------------------|\n"
   ],
   "metadata": {}
  },
  {
   "cell_type": "code",
   "execution_count": null,
   "source": [
    "# [ ] review and run example\r\n",
    "print(ft_bones[0], \"is the 1st bone on the list\")\r\n",
    "print(ft_bones[2], \"is the 3rd bone on the list\")\r\n",
    "print(ft_bones[-1], \"is the last bone on the list\")"
   ],
   "outputs": [],
   "metadata": {}
  },
  {
   "cell_type": "code",
   "execution_count": null,
   "source": [
    "# [ ] review and run example\r\n",
    "print(ft_bones[1], \"is connected to the\",ft_bones[3])"
   ],
   "outputs": [],
   "metadata": {}
  },
  {
   "cell_type": "code",
   "execution_count": null,
   "source": [
    "# [ ] review and run example\r\n",
    "three_ages_sum = age_survey[0] + age_survey[1] + age_survey[2]\r\n",
    "print(\"The first three ages total\", three_ages_sum)"
   ],
   "outputs": [],
   "metadata": {}
  },
  {
   "cell_type": "markdown",
   "source": [
    "# &nbsp;\n",
    "<font size=\"6\" color=\"#B24C00\"  face=\"verdana\"> <B>Task 2</B></font>\n"
   ],
   "metadata": {
    "collapsed": true
   }
  },
  {
   "cell_type": "code",
   "execution_count": null,
   "source": [
    "# [ ] Create a list, streets, that lists the name of 5 street name strings\r\n",
    "\r\n",
    "# [ ] print a message that there is \"No Parking\" on index 0 or index 4 streets\r\n",
    "\r\n"
   ],
   "outputs": [],
   "metadata": {}
  },
  {
   "cell_type": "code",
   "execution_count": null,
   "source": [
    "# [ ] Create a list, num_2_add, made of 5 different numbers between 0 - 25\r\n",
    "\r\n",
    "# [ ] print the sum of the numbers\r\n",
    "\r\n"
   ],
   "outputs": [],
   "metadata": {}
  },
  {
   "cell_type": "markdown",
   "source": [
    "# &nbsp;\n",
    "<font size=\"6\" color=\"#B24C00\"  face=\"verdana\"> <B>Task 3</B></font>  \n",
    "## Fix the Errors"
   ],
   "metadata": {
    "collapsed": true
   }
  },
  {
   "cell_type": "code",
   "execution_count": null,
   "source": [
    "# [ ] Review & Run, but ***Do Not Edit*** this code cell\r\n",
    "# [ ] Fix the error by only editing and running the block below\r\n",
    "\r\n",
    "print(\" Total of checks 3 & 4 = $\", pay_checks[2] + pay_checks[3])\r\n"
   ],
   "outputs": [],
   "metadata": {}
  },
  {
   "cell_type": "code",
   "execution_count": null,
   "source": [
    "# [ ] Fix the error above by creating and running code in this cell\r\n",
    "\r\n"
   ],
   "outputs": [],
   "metadata": {}
  },
  {
   "cell_type": "markdown",
   "source": [
    "# Module 2 Part 2\n",
    "## Lists \n",
    "- List Creation\n",
    "- List Access\n",
    "- **List Append**\n",
    "- List Insert\n",
    "- List Delete\n",
    "\n",
    "----- \n",
    "\n",
    "><font size=\"5\" color=\"#00A0B2\"  face=\"verdana\"> <B>Student will be able to</B></font>  \n",
    "- Create Lists\n",
    "- Access items in a list\n",
    "- **Add Items to the end of a list**\n",
    "- Insert items into a list\n",
    "- Delete items from a list"
   ],
   "metadata": {}
  },
  {
   "cell_type": "markdown",
   "source": [
    "# &nbsp;\n",
    "<font size=\"6\" color=\"#00A0B2\"  face=\"verdana\"> <B>Concepts</B></font>\n",
    "## Appending to Lists\n",
    "**`.append()`** method adds an item to the end of a list   \n",
    "```python\n",
    "party_list.append(\"Alton\")\n",
    "```"
   ],
   "metadata": {}
  },
  {
   "cell_type": "markdown",
   "source": [
    "\n",
    "<font size=\"4\" color=\"#00A0B2\"  face=\"verdana\"> <B>Examples</B></font>"
   ],
   "metadata": {}
  },
  {
   "cell_type": "code",
   "execution_count": null,
   "source": [
    "# [ ] review and run example\r\n",
    "# the list before append\r\n",
    "sample_list = [1, 1, 2]\r\n",
    "print(\"sample_list before: \", sample_list)\r\n",
    "\r\n",
    "sample_list.append(3)\r\n",
    "# the list after append\r\n",
    "print(\"sample_list after:  \", sample_list)"
   ],
   "outputs": [],
   "metadata": {}
  },
  {
   "cell_type": "code",
   "execution_count": null,
   "source": [
    "# [ ] review and run example\r\n",
    "# append number to sample_list\r\n",
    "print(\"sample_list start:  \", sample_list)\r\n",
    "sample_list.append(3)\r\n",
    "print(\"sample_list added:  \", sample_list)\r\n",
    "\r\n",
    "# append again\r\n",
    "sample_list.append(8)\r\n",
    "print(\"sample_list added:  \", sample_list)\r\n",
    "\r\n",
    "# append again\r\n",
    "sample_list.append(5)\r\n",
    "print(\"sample_list added:  \", sample_list)\r\n",
    "\r\n",
    "# [ ] run this cell several times in a row \r\n",
    "# [ ] run cell above, then run this cell again"
   ],
   "outputs": [],
   "metadata": {}
  },
  {
   "cell_type": "code",
   "execution_count": null,
   "source": [
    "# [ ] review and run example\r\n",
    "mixed_types = [1, \"cat\"]\r\n",
    "# append number\r\n",
    "mixed_types.append(3)\r\n",
    "print(\"mixed_types list: \", mixed_types)\r\n",
    "\r\n",
    "# append string\r\n",
    "mixed_types.append(\"turtle\")\r\n",
    "print(\"mixed_types list: \", mixed_types)"
   ],
   "outputs": [],
   "metadata": {}
  },
  {
   "cell_type": "markdown",
   "source": [
    "# &nbsp;\n",
    "<font size=\"6\" color=\"#B24C00\"  face=\"verdana\"> <B>Task 4</B></font>\n",
    "\n",
    "## `.append()`"
   ],
   "metadata": {
    "collapsed": true
   }
  },
  {
   "cell_type": "code",
   "execution_count": null,
   "source": [
    "# Currency Values\r\n",
    "# [ ] create a list of 3 or more currency denomination values, cur_values\r\n",
    "# cur_values, contains values of coins and paper bills (.01, .05, etc.)\r\n",
    "\r\n",
    "# [ ] print the list\r\n",
    "\r\n",
    "\r\n",
    "# [ ] append an item to the list and print the list\r\n",
    " \r\n"
   ],
   "outputs": [],
   "metadata": {}
  },
  {
   "cell_type": "code",
   "execution_count": null,
   "source": [
    "# Currency Names\r\n",
    "# [ ] create a list of 3 or more currency denomination NAMES, cur_names\r\n",
    "# cur_names contains the NAMES of coins and paper bills (penny, etc.)\r\n",
    "\r\n",
    "# [ ] print the list\r\n",
    "\r\n",
    "# [ ] append an item to the list and print the list\r\n",
    " \r\n"
   ],
   "outputs": [],
   "metadata": {}
  },
  {
   "cell_type": "markdown",
   "source": [
    "# &nbsp;\n",
    "<font size=\"6\" color=\"#B24C00\"  face=\"verdana\"> <B>Task 5</B></font>  \n",
    "## Append items to a list with `input()` "
   ],
   "metadata": {
    "collapsed": true
   }
  },
  {
   "cell_type": "code",
   "execution_count": null,
   "source": [
    "# [ ] append additional values to the Currency Names list using input()\n",
    "\n",
    "# [ ] print the appended list\n",
    "\n"
   ],
   "outputs": [],
   "metadata": {}
  },
  {
   "cell_type": "markdown",
   "source": [
    "# &nbsp;\n",
    "<font size=\"6\" color=\"#B24C00\"  face=\"verdana\"> <B>Task 6</B></font>\n",
    "## `while` loop `.append()`\n",
    "- define an empty list: **`bday_survey`**  \n",
    "- get user input, **`bday`**, asking for the day of the month they were born (1-31) or \"q\" to finish  \n",
    "- using a **`while`** loop  (while user not entering \"quit\")\n",
    "  - append the **`bday`** input to the **`bday_survey`** list  \n",
    "  - get user input, **`bday`**, asking for the day of the month they were born (1-31) or \"q\" to finish    \n",
    "- print bday_survey list  \n"
   ],
   "metadata": {}
  },
  {
   "cell_type": "code",
   "execution_count": null,
   "source": [
    "# [ ] complete the Birthday Survey task above\n"
   ],
   "outputs": [],
   "metadata": {}
  },
  {
   "cell_type": "markdown",
   "source": [
    "# &nbsp;\n",
    "<font size=\"6\" color=\"#B24C00\"  face=\"verdana\"> <B>Task 7</B></font>\n",
    "## Fix The Error\n"
   ],
   "metadata": {}
  },
  {
   "cell_type": "code",
   "execution_count": null,
   "source": [
    "# [ ] Fix the Error\n",
    "three_numbers = [1, 1, 2]\n",
    "print(\"an item in the list is: \", three_numbers[3])\n",
    "\n"
   ],
   "outputs": [],
   "metadata": {}
  },
  {
   "cell_type": "markdown",
   "source": [
    "# Module 2 Part 3\n",
    "## Lists \n",
    "- List Creation\n",
    "- List Access\n",
    "- List Append\n",
    "- **List *modify* and Insert**\n",
    "- List Delete\n",
    "\n",
    "----- \n",
    "\n",
    "><font size=\"5\" color=\"#00A0B2\"  face=\"verdana\"> <B>Student will be able to</B></font>  \n",
    "- Create Lists\n",
    "- Access items in a list\n",
    "- Add Items to the end of a list\n",
    "- **Modify and insert items into a list**\n",
    "- Delete items from a list"
   ],
   "metadata": {}
  },
  {
   "cell_type": "markdown",
   "source": [
    "# &nbsp;\n",
    "<font size=\"6\" color=\"#00A0B2\"  face=\"verdana\"> <B>Concepts</B></font>\n",
    "## Insert a new value for an index\n",
    "### overwrite a specific index in a list\n",
    "```python\n",
    "party_list[2] = \"Tobias\"\n",
    "```\n",
    "- **Overwrites** existing index\n",
    "- **Cannot** use to **Append** a new index to the list\n"
   ],
   "metadata": {}
  },
  {
   "cell_type": "markdown",
   "source": [
    "\n",
    "<font size=\"4\" color=\"#00A0B2\"  face=\"verdana\"> <B>Examples</B></font>"
   ],
   "metadata": {}
  },
  {
   "cell_type": "code",
   "execution_count": null,
   "source": [
    "# [ ] review and run example\n",
    "# the list before Insert\n",
    "party_list = [\"Joana\", \"Alton\", \"Tobias\"]\n",
    "print(\"party_list before: \", party_list)\n",
    "\n",
    "# the list after Insert\n",
    "party_list[1] = \"Colette\"\n",
    "print(\"party_list after:  \", party_list)"
   ],
   "outputs": [],
   "metadata": {}
  },
  {
   "cell_type": "code",
   "execution_count": null,
   "source": [
    "# [ ] review and run example\r\n",
    "party_list = [\"Joana\", \"Alton\", \"Tobias\"]\r\n",
    "print(\"before:\",party_list)\r\n",
    "\r\n",
    "# modify index value\r\n",
    "party_list[1] = party_list[1] + \" Derosa\"\r\n",
    "print(\"\\nafter:\", party_list)"
   ],
   "outputs": [],
   "metadata": {}
  },
  {
   "cell_type": "markdown",
   "source": [
    "<font size=\"3\" color=\"#00A0B2\"  face=\"verdana\"> <B>Example</B></font>  \n",
    "**IndexError**  "
   ],
   "metadata": {}
  },
  {
   "cell_type": "code",
   "execution_count": null,
   "source": [
    "# IndexError Example\r\n",
    "# [ ] review and run example which results in an IndexError\r\n",
    "# if result is NameError run cell above before running this cell\r\n",
    "\r\n",
    "# IndexError trying to append to end of list\r\n",
    "party_list[3] = \"Alton\"\r\n",
    "print(party_list)"
   ],
   "outputs": [],
   "metadata": {}
  },
  {
   "cell_type": "code",
   "execution_count": null,
   "source": [
    "# [ ] review and run example changes the data type of an element\r\n",
    "# replace a string with a number (int)\r\n",
    "single_digits = [\"zero\", \"one\", \"two\", \"three\", \"four\", \"five\", \"six\", \"seven\", \"eight\", \"nine\"] \r\n",
    "print(\"single_digits: \", single_digits)\r\n",
    "print(\"single_digits[3]: \", single_digits[3], type(single_digits[3]),\"\\n\")\r\n",
    "\r\n",
    "# replace string with an int\r\n",
    "single_digits[3] = 3\r\n",
    "print(\"single_digits: \", single_digits)\r\n",
    "print(\"single_digits[3]: \", single_digits[3], type(single_digits[3]))"
   ],
   "outputs": [],
   "metadata": {}
  },
  {
   "cell_type": "markdown",
   "source": [
    "# &nbsp;\n",
    "<font size=\"6\" color=\"#B24C00\"  face=\"verdana\"> <B>Task 8</B></font>\n",
    "\n",
    "## replace items in a list\n",
    "- create a list, **`three_num`**, containing 3 single digit integers\n",
    "- print three_num\n",
    "- check if index 0 value is < 5\n",
    "  - if < 5 , replace index 0 with a string: \"small\"\n",
    "  - else, replace index 0 with a string: \"large\"\n",
    "- print three_num"
   ],
   "metadata": {
    "collapsed": true
   }
  },
  {
   "cell_type": "code",
   "execution_count": null,
   "source": [
    "# [ ] complete \"replace items in a list\" task\r\n",
    "\r\n",
    " \r\n"
   ],
   "outputs": [],
   "metadata": {}
  },
  {
   "cell_type": "markdown",
   "source": [
    "## Function Challenge: create replacement function\n",
    "- Create a function, **str_replace**, that takes 2 arguments: int_list and index \n",
    "  - int_list is a list of single digit integers\n",
    "  - index is the index that will be checked - such as with int_list[index]\n",
    "- Function replicates purpose of task \"replace items in a list\" above and replaces an integer with a string \"small\" or \"large\"\n",
    "- return int_list\n",
    "\n",
    "Test the function!"
   ],
   "metadata": {}
  },
  {
   "cell_type": "code",
   "execution_count": null,
   "source": [
    "# [ ]  create challenge function\r\n"
   ],
   "outputs": [],
   "metadata": {}
  },
  {
   "cell_type": "markdown",
   "source": [
    "# &nbsp;\n",
    "<font size=\"6\" color=\"#B24C00\"  face=\"verdana\"> <B>Task 9</B></font>\n",
    "\n",
    "## modify items in a list\n",
    "- create a list, **`three_words`**, containing 3 different capitalized word stings\n",
    "- print three_words\n",
    "- modify the first item in three_words to uppercase\n",
    "- modify the third item to swapcase\n",
    "- print three_words"
   ],
   "metadata": {
    "collapsed": true
   }
  },
  {
   "cell_type": "code",
   "execution_count": null,
   "source": [
    "# [ ] complete coding task described above\r\n",
    "\r\n",
    " \r\n"
   ],
   "outputs": [],
   "metadata": {}
  },
  {
   "cell_type": "markdown",
   "source": [
    "# &nbsp;\n",
    "<font size=\"6\" color=\"#00A0B2\"  face=\"verdana\"> <B>Concepts</B></font>\n",
    "## Insert items into a list\n",
    "### use `.insert()` to define an index to insert an item\n",
    "```python\n",
    "party_list.insert(2,\"Tobias\")\n",
    "```\n",
    "- Inserts, **doesn't overwrite**\n",
    "- **Increases index by 1**, at and above the insertion point\n",
    "- **Can** use to **Append** a new index to the end of the list\n"
   ],
   "metadata": {}
  },
  {
   "cell_type": "markdown",
   "source": [
    "\n",
    "<font size=\"4\" color=\"#00A0B2\"  face=\"verdana\"> <B>Examples</B></font>"
   ],
   "metadata": {}
  },
  {
   "cell_type": "code",
   "execution_count": 1,
   "source": [
    "# [ ] review and run example\r\n",
    "# the list before Insert\r\n",
    "party_list = [\"Joana\", \"Alton\", \"Tobias\"]\r\n",
    "print(\"party_list before: \", party_list)\r\n",
    "print(\"index 1 is\", party_list[1], \"\\nindex 2 is\", party_list[2], \"\\n\")\r\n",
    "\r\n",
    "# the list after Insert\r\n",
    "party_list.insert(1,\"Colette\")\r\n",
    "print(\"party_list after:  \", party_list)\r\n",
    "print(\"index 1 is\", party_list[1], \"\\nindex 2 is\", party_list[2], \"\\nindex 3 is\", party_list[3])"
   ],
   "outputs": [
    {
     "output_type": "stream",
     "name": "stdout",
     "text": [
      "party_list before:  ['Joana', 'Alton', 'Tobias']\n",
      "index 1 is Alton \n",
      "index 2 is Tobias \n",
      "\n",
      "party_list after:   ['Joana', 'Colette', 'Alton', 'Tobias']\n",
      "index 1 is Colette \n",
      "index 2 is Alton \n",
      "index 3 is Tobias\n"
     ]
    }
   ],
   "metadata": {}
  },
  {
   "cell_type": "markdown",
   "source": [
    "# &nbsp;\n",
    "<font size=\"6\" color=\"#B24C00\"  face=\"verdana\"> <B>Task 10</B></font>  \n",
    "## `insert()` input into a list "
   ],
   "metadata": {
    "collapsed": true
   }
  },
  {
   "cell_type": "code",
   "execution_count": 5,
   "source": [
    "# [ ] insert a name from user input into the party_list in the second position (index 1)\r\n",
    "party_list = [\"Joana\", \"Alton\", \"Tobias\"]\r\n",
    "party_list.insert(4,\"Jibri\")\r\n",
    "# [ ] print the updated list\r\n",
    "print(party_list)\r\n"
   ],
   "outputs": [
    {
     "output_type": "stream",
     "name": "stdout",
     "text": [
      "['Joana', 'Alton', 'Tobias', 'Jibri']\n"
     ]
    }
   ],
   "metadata": {}
  },
  {
   "cell_type": "markdown",
   "source": [
    "# &nbsp;\n",
    "<font size=\"6\" color=\"#B24C00\"  face=\"verdana\"> <B>Task 11</B></font>\n",
    "## Fix The Error\n"
   ],
   "metadata": {}
  },
  {
   "cell_type": "code",
   "execution_count": null,
   "source": [
    "# [ ] Fix the Error\r\n",
    "tree_list = \"oak\"\r\n",
    "print(\"tree_list before =\", tree_list)\r\n",
    "tree_list.insert(1,\"pine\")\r\n",
    "print(\"tree_list after  =\", tree_list)\r\n",
    "\r\n"
   ],
   "outputs": [],
   "metadata": {}
  },
  {
   "cell_type": "markdown",
   "source": [
    "# Module 2 Part 4\r\n",
    "## Lists \r\n",
    "- List Creation\r\n",
    "- List Access\r\n",
    "- List Append\r\n",
    "- List Insert\r\n",
    "- **List Delete (`del`, `.pop()` & `.remove()`)**\r\n",
    "\r\n",
    "----- \r\n",
    "\r\n",
    "><font size=\"5\" color=\"#00A0B2\"  face=\"verdana\"> <B>Student will be able to</B></font>  \r\n",
    "- Create Lists\r\n",
    "- Access items in a list\r\n",
    "- Add Items to the end of a list\r\n",
    "- Insert items into a list\r\n",
    "- **Delete items from a list with `del`, `.pop()` & `.remove()`**"
   ],
   "metadata": {}
  },
  {
   "cell_type": "markdown",
   "source": [
    "# &nbsp;\n",
    "<font size=\"6\" color=\"#00A0B2\"  face=\"verdana\"> <B>Concepts</B></font>\n",
    "## Delete a specific List index\n",
    "### `del ` statement  \n",
    "```python\n",
    "del party_list[2]\n",
    "```"
   ],
   "metadata": {}
  },
  {
   "cell_type": "markdown",
   "source": [
    "\n",
    "<font size=\"4\" color=\"#00A0B2\"  face=\"verdana\"> <B>Examples</B></font>"
   ],
   "metadata": {}
  },
  {
   "cell_type": "code",
   "execution_count": null,
   "source": [
    "# [ ] review and run example\r\n",
    "# the list before delete\r\n",
    "sample_list = [11, 21, 13, 14, 51, 161, 117, 181]\r\n",
    "print(\"sample_list before: \", sample_list)\r\n",
    "\r\n",
    "del sample_list[1]\r\n",
    "# the list after delete\r\n",
    "print(\"sample_list after:  \", sample_list)"
   ],
   "outputs": [],
   "metadata": {}
  },
  {
   "cell_type": "code",
   "execution_count": null,
   "source": [
    "# [ ] review and run example Multiple Times\r\n",
    "# [ ] consider how to reset the list values?\r\n",
    "print(\"sample_list before:\", sample_list)\r\n",
    "del sample_list[0]\r\n",
    "print(\"sample_list after:\", sample_list)"
   ],
   "outputs": [],
   "metadata": {}
  },
  {
   "cell_type": "code",
   "execution_count": null,
   "source": [
    "# [ ] review and run example\r\n",
    "mixed_types = [1, \"cat\"]\r\n",
    "# append number\r\n",
    "mixed_types.append(3)\r\n",
    "print(\"mixed_types list: \", mixed_types)\r\n",
    "\r\n",
    "# append string\r\n",
    "mixed_types.append(\"turtle\")\r\n",
    "print(\"mixed_types list: \", mixed_types)"
   ],
   "outputs": [],
   "metadata": {}
  },
  {
   "cell_type": "markdown",
   "source": [
    "# &nbsp;\n",
    "<font size=\"6\" color=\"#B24C00\"  face=\"verdana\"> <B>Task 12</B></font>\n",
    "\n",
    "## `del` statement"
   ],
   "metadata": {
    "collapsed": true
   }
  },
  {
   "cell_type": "code",
   "execution_count": null,
   "source": [
    "# [ ] print ft_bones list\r\n",
    "# [ ] delete \"cuboid\" from ft_bones\r\n",
    "# [ ] reprint list\r\n",
    "ft_bones = [\"calcaneus\", \"talus\", \"cuboid\", \"navicular\", \"lateral cuneiform\", \r\n",
    "            \"intermediate cuneiform\", \"medial cuneiform\"]\r\n",
    "\r\n",
    "\r\n"
   ],
   "outputs": [],
   "metadata": {}
  },
  {
   "cell_type": "markdown",
   "source": [
    "# &nbsp;\n",
    "<font size=\"6\" color=\"#B24C00\"  face=\"verdana\"> <B>Task 13</B></font>  \n",
    "## multiple `del` statements "
   ],
   "metadata": {}
  },
  {
   "cell_type": "code",
   "execution_count": null,
   "source": [
    "# [ ] print ft_bones list\r\n",
    "# [ ] delete \"cuboid\" from ft_bones\r\n",
    "# [ ] delete \"navicular\" from list\r\n",
    "# [ ] reprint list\r\n",
    "# [ ] check for deletion of \"cuboid\" and \"navicular\"\r\n",
    "ft_bones = [\"calcaneus\", \"talus\", \"cuboid\", \"navicular\", \"lateral cuneiform\", \r\n",
    "            \"intermediate cuneiform\", \"medial cuneiform\"]\r\n",
    "\r\n",
    "\r\n"
   ],
   "outputs": [],
   "metadata": {}
  },
  {
   "cell_type": "markdown",
   "source": [
    "# &nbsp;\r\n",
    "<font size=\"6\" color=\"#00A0B2\"  face=\"verdana\"> <B>Concepts</B></font>\r\n",
    "## .pop() gets and deletes item in list\r\n",
    "### `.pop()`  method default is last item in a list\r\n",
    "```python\r\n",
    "last_item = party_list.pop()\r\n",
    "first_item = party_list.pop(0)\r\n",
    "```"
   ],
   "metadata": {}
  },
  {
   "cell_type": "markdown",
   "source": [
    "\n",
    "<font size=\"4\" color=\"#00A0B2\"  face=\"verdana\"> <B>Examples</B></font>"
   ],
   "metadata": {}
  },
  {
   "cell_type": "code",
   "execution_count": null,
   "source": [
    "# [ ] review and run example\r\n",
    "# pop() gets the last item by default\r\n",
    "party_list = [\"Joana\", \"Alton\", \"Tobias\"]\r\n",
    "print(party_list)\r\n",
    "print(\"Hello,\", party_list.pop())\r\n",
    "\r\n",
    "print(\"\\n\", party_list)\r\n",
    "print(\"Hello,\", party_list.pop())\r\n",
    "\r\n",
    "print(\"\\n\", party_list)\r\n",
    "print(\"Hello,\", party_list.pop())\r\n",
    "\r\n",
    "print(\"\\n\", party_list)"
   ],
   "outputs": [],
   "metadata": {}
  },
  {
   "cell_type": "code",
   "execution_count": null,
   "source": [
    "# [ ] review and run example\r\n",
    "# can pop specific index like pop(3)\r\n",
    "number_list = [11, 21, 13, 14, 51, 161, 117, 181]\r\n",
    "print(\"before:\", number_list)\r\n",
    "number_list.pop(3)\r\n",
    "print(\"after :\", number_list)\r\n"
   ],
   "outputs": [],
   "metadata": {}
  },
  {
   "cell_type": "code",
   "execution_count": null,
   "source": [
    "# [ ] review and run example\r\n",
    "# set a variable to a poped value\r\n",
    "number_list = [11, 21, 13, 14, 51, 161, 117, 181]\r\n",
    "print(\"list before:\", number_list)\r\n",
    "num_1 = number_list.pop()\r\n",
    "num_2 = number_list.pop()\r\n",
    "print(\"list after :\", number_list)\r\n",
    "print(\"add the popped values:\", num_1, \"+\", num_2, \"=\", num_1 + num_2)"
   ],
   "outputs": [],
   "metadata": {}
  },
  {
   "cell_type": "markdown",
   "source": [
    "# &nbsp;\n",
    "<font size=\"6\" color=\"#B24C00\"  face=\"verdana\"> <B>Task 14</B></font>  \n",
    "## `pop()`"
   ],
   "metadata": {
    "collapsed": true
   }
  },
  {
   "cell_type": "code",
   "execution_count": null,
   "source": [
    "# [ ] pop() and print the first and last items from the ft_bones list\r\n",
    "ft_bones = [\"calcaneus\", \"talus\", \"cuboid\", \"navicular\", \"lateral cuneiform\", \r\n",
    "            \"intermediate cuneiform\", \"medial cuneiform\"]\r\n",
    "\r\n",
    "# [ ] print the remaining list\r\n",
    "\r\n"
   ],
   "outputs": [],
   "metadata": {}
  },
  {
   "cell_type": "markdown",
   "source": [
    "# &nbsp;\n",
    "<font size=\"6\" color=\"#00A0B2\"  face=\"verdana\"> <B>Concepts</B></font>\n",
    "## an empty list is False\n",
    "### in a conditional an empty list will evaluate `False`\n",
    "This allows creating a while loop that runs until a list is empty\n",
    "```python\n",
    "while dog_types: \n",
    "```"
   ],
   "metadata": {}
  },
  {
   "cell_type": "markdown",
   "source": [
    "\n",
    "<font size=\"4\" color=\"#00A0B2\"  face=\"verdana\"> <B>Example</B></font>"
   ],
   "metadata": {}
  },
  {
   "cell_type": "code",
   "execution_count": null,
   "source": [
    "dog_types = [\"Lab\", \"Pug\", \"Poodle\"]\r\n",
    "\r\n",
    "while dog_types: \r\n",
    "    print(dog_types.pop())"
   ],
   "outputs": [],
   "metadata": {}
  },
  {
   "cell_type": "markdown",
   "source": [
    "# &nbsp;\n",
    "<font size=\"6\" color=\"#B24C00\"  face=\"verdana\"> <B>Task 15 pt 1</B></font>\n",
    "# Cash Register Input\n",
    "- create a empty list `purchase_amounts`\n",
    "- populate the list with user input for the price of items\n",
    "- continue adding to list with `while` until \"done\" is entered\n",
    "  - can use `while True:` with `break`\n",
    "- print `purchase_amounts`\n",
    "- continue to pt 2"
   ],
   "metadata": {}
  },
  {
   "cell_type": "code",
   "execution_count": null,
   "source": [
    "#[ ] complete the Register Input task above\r\n",
    "\r\n"
   ],
   "outputs": [],
   "metadata": {}
  },
  {
   "cell_type": "markdown",
   "source": [
    "# &nbsp;\n",
    "<font size=\"6\" color=\"#B24C00\"  face=\"verdana\"> <B>Task 15 pt 2</B></font>\n",
    "# Cash Register Total\n",
    "- create a **`subtotal`** variable = 0\n",
    "create a while loop that runs **`while`** purchase_amount (is not empty)\n",
    "- inside the loop \n",
    "  - **`pop()`** the last list value cast as a float type\n",
    "  - add the float value to a **`subtotal`** variable\n",
    "- after exiting the loop print **`subtotal`**  \n",
    "  \n",
    "  *be sure to populate purchase_amounts by running pt 1 above*"
   ],
   "metadata": {}
  },
  {
   "cell_type": "code",
   "execution_count": null,
   "source": [
    "# [ ] complete the Register Total task above\r\n",
    "\r\n"
   ],
   "outputs": [],
   "metadata": {}
  },
  {
   "cell_type": "markdown",
   "source": [
    "# &nbsp;\r\n",
    "<font size=\"6\" color=\"#00A0B2\"  face=\"verdana\"> <B>Concepts</B></font>\r\n",
    "## Delete a specific object from a list with `.remove()`\r\n",
    "### `.remove(object)` removes the 1st item that matches\r\n",
    "\r\n",
    "```python\r\n",
    "dog_types.remove(\"Pug\")\r\n",
    "```\r\n",
    ">**`ValueError`** occurs if the object is not available to be removed  "
   ],
   "metadata": {}
  },
  {
   "cell_type": "markdown",
   "source": [
    "\n",
    "<font size=\"4\" color=\"#00A0B2\"  face=\"verdana\"> <B>Examples</B></font>"
   ],
   "metadata": {}
  },
  {
   "cell_type": "code",
   "execution_count": null,
   "source": [
    "# [ ] review and run example\r\n",
    "dog_types = [\"Lab\", \"Pug\", \"Poodle\"]\r\n",
    "\r\n",
    "if \"Pug\" in dog_types:\r\n",
    "    dog_types.remove(\"Pug\")\r\n",
    "else:\r\n",
    "    print(\"no Pug found\")\r\n",
    "print(dog_types)"
   ],
   "outputs": [],
   "metadata": {}
  },
  {
   "cell_type": "code",
   "execution_count": null,
   "source": [
    "# [ ] review and run example\r\n",
    "dogs = [\"Lab\", \"Pug\", \"Poodle\", \"Poodle\", \"Pug\", \"Poodle\"]\r\n",
    "\r\n",
    "print(dogs)\r\n",
    "while \"Poodle\" in dogs:\r\n",
    "    dogs.remove(\"Poodle\")\r\n",
    "    print(dogs)"
   ],
   "outputs": [],
   "metadata": {
    "scrolled": true
   }
  },
  {
   "cell_type": "markdown",
   "source": [
    "### ValueError"
   ],
   "metadata": {}
  },
  {
   "cell_type": "code",
   "execution_count": null,
   "source": [
    "# [ ] review and run example\r\n",
    "# Change to \"Lab\", etc... to fix error\r\n",
    "dogs.remove(\"Collie\")\r\n",
    "print(dogs)"
   ],
   "outputs": [],
   "metadata": {}
  },
  {
   "cell_type": "markdown",
   "source": [
    "# &nbsp;\n",
    "<font size=\"6\" color=\"#B24C00\"  face=\"verdana\"> <B>Task 16</B></font>  \n",
    "## `.remove()`"
   ],
   "metadata": {
    "collapsed": true
   }
  },
  {
   "cell_type": "code",
   "execution_count": 10,
   "source": [
    "# [ ] remove one \"Poodle\" from the list: dogs , or print \"no Poodle found\"\r\n",
    "# [ ] print list before and after\r\n",
    "dogs = [\"Lab\", \"Pug\", \"Poodle\", \"Poodle\", \"Pug\", \"Poodle\"]\r\n",
    "dogs.remove(\"Poodle\")\r\n",
    "print(dogs)\r\n",
    "\r\n"
   ],
   "outputs": [
    {
     "output_type": "stream",
     "name": "stdout",
     "text": [
      "['Lab', 'Pug', 'Poodle', 'Pug', 'Poodle']\n"
     ]
    }
   ],
   "metadata": {}
  },
  {
   "cell_type": "markdown",
   "source": [
    "© 2017 Microsoft adapted with permission by Dominic Thomas"
   ],
   "metadata": {}
  }
 ],
 "metadata": {
  "anaconda-cloud": {},
  "kernelspec": {
   "name": "python3",
   "display_name": "Python 3.9.0 64-bit"
  },
  "language_info": {
   "codemirror_mode": {
    "name": "ipython",
    "version": 3
   },
   "file_extension": ".py",
   "mimetype": "text/x-python",
   "name": "python",
   "nbconvert_exporter": "python",
   "pygments_lexer": "ipython3",
   "version": "3.9.0"
  },
  "interpreter": {
   "hash": "352250d72fbe74f1a4acf37601ef1631e612adb35eaa4136c077520ae8357c0b"
  }
 },
 "nbformat": 4,
 "nbformat_minor": 1
}