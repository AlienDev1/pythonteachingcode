{
  "cells": [
    {
      "cell_type": "markdown",
      "source": [
        "#  Module 4 Required Coding Activity  \r\n",
        "Introduction to Python Unit 1 \r\n",
        "\r\n",
        "The activity is based on modules 1 - 4 and is similar to the Jupyter Notebooks **`Practice_MOD04_1-6_IntroPy.ipynb`** and **`Practice_MOD04_1-7_IntroPy.ipynb`** which you may have completed as practice.  This activity is a new version of the str_analysis() function.\r\n",
        "\r\n",
        "| Some Assignment Requirements |\r\n",
        "|:-------------------------------|\r\n",
        "|This program requires the use of<ul><li>**`while`** loop to get non-empty input</li><li>**`if, else`**</li><li>**`if, else`** (nested)</li><li>**`.isdigit()`** check for integer only input</li><li>**`.isalpha()`** check for alphabetic only input</li></ul><br/>The program should **only** use code syntax covered in modules 1 - 4.<br/><br/>The program must result in printed message analysis of the input.  |\r\n",
        "\r\n",
        "\r\n",
        "  \r\n",
        "## Program: `str_analysis()` Function  \r\n",
        "\r\n",
        "Create the str_analysis() function that takes 1 string argument and returns a string message.  The message will be an analysis of a test string that is passed as an argument to str_analysis(). The function should respond with messages such as:  \r\n",
        "- \"big number\"\r\n",
        "- \"small number\"\r\n",
        "- \"all alphabetic\"\r\n",
        "- \"multiple character types\"\r\n",
        "\r\n",
        "The program will call str_analysis() with a string argument from input collected within a while loop.  The while loop will test if input is empty (an empty string \"\") and continue to loop and gather input until the user submits at least 1 character (input cannot be empty).  \r\n",
        "\r\n",
        "The program then calls the str_analysis() function and prints the **return** message.\r\n",
        "\r\n",
        "\r\n",
        "\r\n",
        "#### Sample input and output:  \r\n",
        "enter nothing (twice) then enter a word  \r\n",
        "```\r\n",
        "enter word or integer: \r\n",
        "enter word or integer: \r\n",
        "enter word or integer: Hello\r\n",
        "\"Hello\" is all alphabetical characters!\r\n",
        "  \r\n",
        "```  \r\n",
        "-----    \r\n",
        "  \r\n",
        "alphabetical word input \r\n",
        "```\r\n",
        "enter word or integer: carbonization\r\n",
        "\"carbonization\" is all alphabetical characters!\r\n",
        "  \r\n",
        "```  \r\n",
        "-----     \r\n",
        "   \r\n",
        "numeric inputs\r\n",
        "```\r\n",
        "enter word or integer: 30\r\n",
        "30 is a smaller number than expected\r\n",
        "\r\n",
        "enter word or integer: 1024\r\n",
        "1024 is a pretty big number\r\n",
        "```  \r\n",
        "-----  \r\n",
        "\r\n",
        "\r\n",
        "### loop until non-empty input is submitted  \r\n",
        "This diagram represents the input part of the assignment - it is the loop to keep prompting the user for input until they submit some input (non-empty).  \r\n",
        "\r\n",
        "![image of while Loop with nested if statements described in bulleted text above](https://iajupyterprodblobs.blob.core.windows.net/imagecontainer/input_loop_sketch.png)  \r\n",
        "\r\n",
        "Once the user gives input with characters use the input in calling the str_analysis() function.\r\n",
        "\r\n",
        "### Additional Details\r\n",
        "In the body of the str_analysis() function:\r\n",
        "- Check `if` string is digits  \r\n",
        "  - if digits: convert to `int` and check `if` greater than 99  \r\n",
        "    - if greater than 99 print a message about a \"big number\"  \r\n",
        "    - if not greater than 99 print message about \"small number\"  \r\n",
        "  - check if string isalpha then (since not digits)\r\n",
        "    - if isalpha print message about being all alpha\r\n",
        "  - if not isalpha print a message about being neither all alpha nor all digit  \r\n",
        "    \r\n",
        "call the function with a string from user input \r\n",
        "- Run and test your code before submitting"
      ],
      "metadata": {
        "collapsed": true
      }
    },
    {
      "cell_type": "code",
      "execution_count": 11,
      "source": [
        "# [ ] create, call and test the str_analysis() function  \r\n",
        "def str_analysis(str):\r\n",
        "\r\n",
        "    if(str.isalpha()):\r\n",
        "        return str + \" is all alphabetical characters\"\r\n",
        "    elif(str.isdigit()):\r\n",
        "        if(len(str) <= 3):\r\n",
        "            return str + \"is a pretty small number\"    \r\n",
        "        else:   \r\n",
        "            return str + \" is a nice size number\"\r\n",
        "    else:\r\n",
        "        return str + \" is alphanumeric ha ha you tried to trick me nice one\"\r\n",
        "\r\n",
        "while True:    \r\n",
        "    usr_input = input(\"enter a word or a number: or enter q to quit\")\r\n",
        "    if(usr_input == 'q'):\r\n",
        "        print(\"Thank you for playing! Have a great day!\")\r\n",
        "        break\r\n",
        "    else:\r\n",
        "        print(str_analysis(usr_input))\r\n",
        "            \r\n"
      ],
      "outputs": [
        {
          "output_type": "stream",
          "name": "stdout",
          "text": [
            "44444444 is a nice size number\n",
            "33is a pretty small number\n",
            "3is a pretty small number\n",
            " is alphanumeric ha ha you tried to trick me nice one\n",
            "22is a pretty small number\n",
            "33333 is a nice size number\n",
            " is alphanumeric ha ha you tried to trick me nice one\n",
            "Thank you for playing! Have a great day!\n"
          ]
        }
      ],
      "metadata": {
        "trusted": false
      }
    },
    {
      "cell_type": "markdown",
      "source": [
        "Submit this by creating a python file (.py) and submitting it in D2L. Be sure to test that it works."
      ],
      "metadata": {}
    }
  ],
  "metadata": {
    "kernelspec": {
      "name": "python3",
      "display_name": "Python 3.9.0 64-bit"
    },
    "language_info": {
      "mimetype": "text/x-python",
      "nbconvert_exporter": "python",
      "name": "python",
      "file_extension": ".py",
      "version": "3.9.0",
      "pygments_lexer": "ipython3",
      "codemirror_mode": {
        "version": 3,
        "name": "ipython"
      }
    },
    "interpreter": {
      "hash": "352250d72fbe74f1a4acf37601ef1631e612adb35eaa4136c077520ae8357c0b"
    }
  },
  "nbformat": 4,
  "nbformat_minor": 1
}