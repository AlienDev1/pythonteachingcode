{
 "cells": [
  {
   "cell_type": "markdown",
   "source": [
    "# Absolute Beginner Module 2: Functions (P1M2)\n",
    "## Functions Arguments & Parameters\n",
    "- **Creating a simple Function with a parameter**\n",
    "- Exploring Functions with `return` values \n",
    "- Creating Functions with multiple parameters\n",
    "- Sequence in python  \n",
    "\n",
    "-----\n",
    "\n",
    "><font size=\"5\" color=\"#00A0B2\"  face=\"verdana\"> <B>Student will be able to</B></font>  \n",
    "- **create functions with a parameter**  \n",
    "- create functions with a `return` value \n",
    "- create functions with multiple parameters\n",
    "- use knowledge of sequence in coding tasks  \n",
    "- Use coding best practices "
   ],
   "metadata": {}
  },
  {
   "cell_type": "markdown",
   "source": [
    "# Before you begin here, watch the Functions video in D2L.\n",
    "<font size=\"6\" color=\"#00A0B2\"  face=\"verdana\"> <B>Concept</B></font>\n",
    "## Calling Functions with Arguments: print() is a function built in to Python!\n",
    "Functions are used for code tasks that are intended to be reused. For example, you have already used the print() function and passed it **arguments** by putting strings and variables into its parentheses. \n",
    "\n",
    "[![view video](https://openclipart.org/download/219326/1432343177.svg)](https://youtu.be/4mE3mL6oQX0)\n",
    "\n",
    "Python allows us to create **User Defined Functions** and provides many **Built-in Functions** such as **`print()`**  \n",
    "- **`print()`** can be called using arguments (or without) and sends text to standard output, such as the console. \n",
    "- **`print()`** uses **Parameters** to define the variable Arguments that can be passed to the Function. \n",
    "- **`print()`** defines multiple string/numbers parameters which means we can send a long list of Arguments to **`print()`**, separated by commas.   \n",
    "- **`print()`** can also be called directly with just its name and empty parentheses and it will return a blank line to standard output"
   ],
   "metadata": {}
  },
  {
   "cell_type": "markdown",
   "source": [
    "\n",
    "<font size=\"4\" color=\"#00A0B2\"  face=\"verdana\"> <B>Examples</B></font>"
   ],
   "metadata": {}
  },
  {
   "cell_type": "code",
   "execution_count": null,
   "source": [
    "print('Hello World!', 'I am sending string arguments to print ')"
   ],
   "outputs": [],
   "metadata": {}
  },
  {
   "cell_type": "code",
   "execution_count": null,
   "source": [
    "student_age = 17\r\n",
    "student_name = \"Hiroto Yamaguchi\"\r\n",
    "print(student_name,'will be in the class for',student_age,'year old students.')"
   ],
   "outputs": [],
   "metadata": {}
  },
  {
   "cell_type": "code",
   "execution_count": null,
   "source": [
    "print(\"line 1\")\r\n",
    "print(\"line 2\")\r\n",
    "# line 3 is an empty return - the default when no arguments\r\n",
    "print()\r\n",
    "print(\"line 4\")"
   ],
   "outputs": [],
   "metadata": {}
  },
  {
   "cell_type": "markdown",
   "source": [
    "\n",
    "<font size=\"6\" color=\"#B24C00\"  face=\"verdana\"> <B>Task 1</B></font>\n",
    "## Passing Arguments to &nbsp; `print()` \n",
    "### Many Arguments can be passed to print \n",
    "\n",
    "- update the print statement to use **`print()`** with **8** or more arguments"
   ],
   "metadata": {}
  },
  {
   "cell_type": "code",
   "execution_count": null,
   "source": [
    "#[ ] increase the number of arguments used in print() to 8 or more \r\n",
    "student_age = 17\r\n",
    "student_name = \"Hiroto Yamaguchi\"\r\n",
    "print(student_name,'will be in the class for',student_age, 'year old students.')\r\n",
    "\r\n"
   ],
   "outputs": [],
   "metadata": {}
  },
  {
   "cell_type": "markdown",
   "source": [
    "# &nbsp;\n",
    "<font size=\"6\" color=\"#00A0B2\"  face=\"verdana\"> <B>Concept</B></font>\n",
    "## Create a simple Function\n",
    "Creating user defined functions is at the core of computer programming.  Functions enable code reuse and make code easier to develop and maintain.\n",
    "### basics of a user defined function\n",
    "- define a function with **`def`** \n",
    "- use indentation (4 spaces)\n",
    "- define parameters\n",
    "- optional parameters \n",
    "- **`return`** values (or none)\n",
    "- function scope (basics defaults)  \n"
   ],
   "metadata": {
    "collapsed": true
   }
  },
  {
   "cell_type": "markdown",
   "source": [
    "### `def some_function():`\n",
    "use the &nbsp;**`def`** &nbsp;statement when creating a **function**  \n",
    "- use a function name that **starts with a letter** or underscore (usually a lower-case letter)\n",
    "- function names can contain **letters, numbers or underscores**\n",
    "- parenthesis &nbsp; **()**  &nbsp; follow the function name\n",
    "- a colon &nbsp; **:**  &nbsp; follows the parenthesis\n",
    "- the code for the function is indented under the function definition (use 4 spaces for this course)\n",
    "\n",
    "```python\n",
    "def some_function():\n",
    "   #code the function tasks indented here    \n",
    "```\n",
    "The **end of the function** is denoted by returning to **no indentation**"
   ],
   "metadata": {}
  },
  {
   "cell_type": "markdown",
   "source": [
    "\n",
    "<font size=\"4\" color=\"#00A0B2\"  face=\"verdana\"> <B>Examples</B></font>"
   ],
   "metadata": {}
  },
  {
   "cell_type": "code",
   "execution_count": null,
   "source": [
    "# defines a function named say_hi\r\n",
    "def say_hi(): #defining the function\r\n",
    "    print(\"Hello there!\")\r\n",
    "    print(\"goodbye\")\r\n",
    "say_hi() #calling the function"
   ],
   "outputs": [],
   "metadata": {}
  },
  {
   "cell_type": "code",
   "execution_count": null,
   "source": [
    "# define three_three \r\n",
    "def three_three():\r\n",
    "    print(33) "
   ],
   "outputs": [],
   "metadata": {}
  },
  {
   "cell_type": "code",
   "execution_count": null,
   "source": [
    "three_three()"
   ],
   "outputs": [],
   "metadata": {}
  },
  {
   "cell_type": "markdown",
   "source": [
    "# &nbsp;\n",
    "<font size=\"6\" color=\"#00A0B2\"  face=\"verdana\"> <B>Concept</B></font>\n",
    "## Call a function by name\n",
    "Call a simple function using the function name followed by parenthesis.  For instance, calling print is  \n",
    "**`print()`**"
   ],
   "metadata": {}
  },
  {
   "cell_type": "markdown",
   "source": [
    "\n",
    "<font size=\"4\" color=\"#00A0B2\"  face=\"verdana\"> <B>Examples</B></font>"
   ],
   "metadata": {}
  },
  {
   "cell_type": "code",
   "execution_count": null,
   "source": [
    "# Program defines and calls the say_hi & three_three functions\r\n",
    "# [ ] review and run the code\r\n",
    "\r\n",
    "#def say_hi():\r\n",
    "#    print(\"Hello there!\")\r\n",
    "#    print(\"goodbye\")\r\n",
    "# end of indentation ends the function\r\n",
    "\r\n",
    "# define three_three \r\n",
    "#def three_three():\r\n",
    "#    print(33) \r\n",
    "\r\n",
    "# calling the functions\r\n",
    "say_hi()\r\n",
    "print()\r\n",
    "three_three()"
   ],
   "outputs": [],
   "metadata": {}
  },
  {
   "cell_type": "markdown",
   "source": [
    "\n",
    "<font size=\"6\" color=\"#B24C00\"  face=\"verdana\"> <B>Task 2</B></font>\n",
    "## Define and call a simple function &nbsp; `yell_it()` \n",
    "### `yell_it()` &nbsp; prints the phrase with \"!\" concatenated to the end\n",
    "- takes no arguments\n",
    "- indented function code does the following\n",
    "  - define a variable for called **`phrase`** and intialize with a short *phrase*\n",
    "  - prints **`phrase`** as all upper-case letters followed by \"!\"\n",
    "- call &nbsp; `yell_it` &nbsp; at the bottom of the cell after the function &nbsp;**`def`**&nbsp; (**Tip:** no indentation should be used)"
   ],
   "metadata": {}
  },
  {
   "cell_type": "code",
   "execution_count": null,
   "source": [
    "#[ ] define (def) a simple function called yell_it() and call the function\r\n"
   ],
   "outputs": [],
   "metadata": {}
  },
  {
   "cell_type": "markdown",
   "source": [
    "# &nbsp;\n",
    "<font size=\"6\" color=\"#00A0B2\"  face=\"verdana\"> <B>Concept</B></font>\n",
    "## Functions that have Parameters\n",
    "**`print()`** and **`type()`** are examples of built-in functions that have **Parameters** defined  \n",
    "  \n",
    "**`type()`** has a parameter for a **Python Object** and sends back the *type* of the object\n",
    "  \n",
    "an **Argument** is a value given for a parameter when calling a function  \n",
    "- **`type`** is called providing an **Argument** - in this case the string *\"Hello\"*\n",
    "```python\n",
    "type(\"Hello\")\n",
    "```  \n",
    "\n",
    "## Defining Function Parameters\n",
    "- Parameters are defined inside of the parenthesis as part of a function **`def`** statement\n",
    "- Parameters are typically copies of objects that are available for use in function code\n",
    "```python\n",
    "def say_this(phrase):  \n",
    "      print(phrase)\n",
    "```  \n",
    "\n",
    "## Function can have default Arguments\n",
    "- Default Arguments are used if no argument is supplied\n",
    "- Default arguments are assigned when creating the parameter list\n",
    "```python\n",
    "def say_this(phrase = \"Hi\"):  \n",
    "      print(phrase)\n",
    "```"
   ],
   "metadata": {}
  },
  {
   "cell_type": "markdown",
   "source": [
    "\n",
    "<font size=\"4\" color=\"#00A0B2\"  face=\"verdana\"> <B>Examples</B></font>"
   ],
   "metadata": {}
  },
  {
   "cell_type": "code",
   "execution_count": null,
   "source": [
    "# yell_this() yells the string Argument provided\r\n",
    "def yell_this(phrase):\r\n",
    "    print(phrase.upper() + \"!\")\r\n",
    "    \r\n",
    "# call function with a string\r\n",
    "yell_this(\"It is time to save the notebook\")"
   ],
   "outputs": [],
   "metadata": {}
  },
  {
   "cell_type": "code",
   "execution_count": null,
   "source": [
    "# use a default argument\r\n",
    "def say_this(phrase = \"Hi\"):  \r\n",
    "    print(phrase)\r\n",
    "        \r\n",
    "say_this()\r\n",
    "say_this(\"Bye\")"
   ],
   "outputs": [],
   "metadata": {}
  },
  {
   "cell_type": "markdown",
   "source": [
    "\n",
    "<font size=\"6\" color=\"#B24C00\"  face=\"verdana\"> <B>Task 3</B></font>\n",
    "\n",
    "## Define `yell_this()` and call with variable argument \n",
    "- define variable &nbsp; **`words_to_yell`** &nbsp; as a string gathered from user&nbsp; `input()`\n",
    "- Call &nbsp;**`yell_this()`** &nbsp;with &nbsp; **`words_to_yell`** &nbsp;as argument\n",
    "- get user input() for the string words_to_yell"
   ],
   "metadata": {}
  },
  {
   "cell_type": "code",
   "execution_count": null,
   "source": [
    "# [ ] define yell_this() \r\n",
    "\r\n",
    "# [ ] get user input in variable words_to_yell\r\n",
    "\r\n",
    "# [ ] call yell_this function with words_to_yell as argument\r\n",
    "\r\n"
   ],
   "outputs": [],
   "metadata": {}
  },
  {
   "cell_type": "markdown",
   "source": [
    "# Module 2 Part 2\n",
    "## Functions Arguments & Parameters\n",
    "- Creating a simple Function with a parameter\n",
    "- **Exploring Functions with `return` values**  \n",
    "- **Creating Functions with multiple parameters**  \n",
    "- Sequence in python  \n",
    "\n",
    "-----\n",
    "\n",
    "><font size=\"5\" color=\"#00A0B2\"  face=\"verdana\"> <B>Student will be able to</B></font>  \n",
    "- create functions with a parameter  \n",
    "- **create functions with a `return` value**\n",
    "- **create functions with multiple parameters**\n",
    "- use knowledge of sequence in coding tasks \n",
    "- Use coding best practices "
   ],
   "metadata": {}
  },
  {
   "cell_type": "markdown",
   "source": [
    "# &nbsp;\n",
    "<font size=\"6\" color=\"#00A0B2\"  face=\"verdana\"> <B>Concepts</B></font>\n",
    "## Calling a function with a return value  \n",
    "- **`type()`** returns an object type\n",
    "-  **`type()`** can be called with a float the return value can be stored in a variable\n",
    "```python\n",
    "object_type = type(2.33)\n",
    "```  \n",
    "\n",
    "## creating a function with a return value  \n",
    "- **`return`** keyword in a function *returns* a value after *exiting* the function  \n",
    "\n",
    "```python\n",
    "def msg_double(phrase):\n",
    "      double = phrase + \" \" + phrase\n",
    "      return double\n",
    "```  \n"
   ],
   "metadata": {}
  },
  {
   "cell_type": "markdown",
   "source": [
    "\n",
    "<font size=\"4\" color=\"#00A0B2\"  face=\"verdana\"> <B>Examples</B></font>  \n",
    "  \n",
    "review and run the code"
   ],
   "metadata": {}
  },
  {
   "cell_type": "code",
   "execution_count": null,
   "source": [
    "# Message double returns the string Argument doubled\r\n",
    "def msg_double(phrase):\r\n",
    "      double = phrase + \" \" + phrase\r\n",
    "      return double\r\n",
    "\r\n",
    "# save return value in variable\r\n",
    "msg_2x = msg_double(\"let's go\")\r\n",
    "print(msg_double(msg_2x))"
   ],
   "outputs": [],
   "metadata": {}
  },
  {
   "cell_type": "code",
   "execution_count": null,
   "source": [
    "# example of functions with return values used in functions\r\n",
    "def msg_double(phrase):\r\n",
    "      double = phrase + \" \" + phrase\r\n",
    "      return double\r\n",
    "\r\n",
    "# prints the returned object\r\n",
    "print(msg_double(\"Save Now!\"))\r\n",
    "\r\n",
    "# echo the type of the returned object\r\n",
    "type(msg_double(\"Save Now!\"))"
   ],
   "outputs": [],
   "metadata": {}
  },
  {
   "cell_type": "markdown",
   "source": [
    "\n",
    "<font size=\"6\" color=\"#B24C00\"  face=\"verdana\"> <B>Task 4</B></font>\n",
    "\n",
    "## Doctor: a function that adds the \"Doctor\" title to a name\n",
    "- Define function `make_doctor()`&nbsp; that takes a parameter `name`\n",
    "- get user **input** for variable **`full_name`**\n",
    "- call the function using `full_name` &nbsp; as argument\n",
    "- print the return value"
   ],
   "metadata": {}
  },
  {
   "cell_type": "code",
   "execution_count": null,
   "source": [
    "# create and call make_doctor() with full_name argument from user input - then print the return value\r\n",
    "\r\n"
   ],
   "outputs": [],
   "metadata": {}
  },
  {
   "cell_type": "markdown",
   "source": [
    "# &nbsp;\n",
    "<font size=\"6\" color=\"#00A0B2\"  face=\"verdana\"> <B>Concepts</B></font>\n",
    "## Functions with multiple parameters\n",
    "Functions can have multiple parameters separated by commas"
   ],
   "metadata": {
    "collapsed": true
   }
  },
  {
   "cell_type": "markdown",
   "source": [
    "\n",
    "<font size=\"4\" color=\"#00A0B2\"  face=\"verdana\"> <B>Example</B></font>  \n",
    "  \n",
    "review and run the code"
   ],
   "metadata": {
    "collapsed": true
   }
  },
  {
   "cell_type": "code",
   "execution_count": null,
   "source": [
    "def make_schedule(period1, period2):\r\n",
    "    schedule = (\"[1st] \" + period1.title() + \", [2nd] \" + period2.title())\r\n",
    "    return schedule\r\n",
    "\r\n",
    "student_schedule = make_schedule(\"mathematics\", \"history\")\r\n",
    "print(\"SCHEDULE:\", student_schedule)"
   ],
   "outputs": [],
   "metadata": {}
  },
  {
   "cell_type": "markdown",
   "source": [
    "\n",
    "<font size=\"6\" color=\"#B24C00\"  face=\"verdana\"> <B>Task 5</B></font>\n",
    "\n",
    "## Define `make_schedule()` adding a 3rd period to &nbsp; \n",
    "- Start with the above example code\n",
    "- add a parameter period_3\n",
    "- update function code to add period_3 to the schedule\n",
    "- call **`student_schedule()`** with an additional argument such as 'science'\n",
    "- print the schedule"
   ],
   "metadata": {
    "collapsed": true
   }
  },
  {
   "cell_type": "code",
   "execution_count": null,
   "source": [
    "# [ ] add a 3rd period parameter to make_schedule\r\n",
    "# [ ] Optional - print a schedule for 6 classes (Tip: perhaps let the function make this easy)\r\n",
    "\r\n"
   ],
   "outputs": [],
   "metadata": {}
  },
  {
   "cell_type": "markdown",
   "source": [
    "# Module 2 Part 3\n",
    "## Functions Arguments & Parameters\n",
    "- Creating a simple Function with parameters\n",
    "- Exploring Functions with `return` values \n",
    "- Creating Functions with multiple parameters\n",
    "- **Sequence in python**  \n",
    "\n",
    "-----\n",
    "\n",
    "><font size=\"5\" color=\"#00A0B2\"  face=\"verdana\"> <B>Student will be able to</B></font>  \n",
    "- create functions with a parameter  \n",
    "- create functions with a `return` value \n",
    "- create functions with multiple parameters\n",
    "- **use knowledge of sequence in coding tasks**  \n",
    "- **Use coding best practices** "
   ],
   "metadata": {}
  },
  {
   "cell_type": "markdown",
   "source": [
    "# &nbsp;\n",
    "<font size=\"6\" color=\"#00A0B2\"  face=\"verdana\"> <B>Concept</B></font>\n",
    "## Sequence\n",
    "In programming, **sequence** refers to the order that code is processed.  Objects in Python, such as variables and functions, are not available until they have been processed. \n",
    "\n",
    "Processing sequence flows from the top of a page of code to the bottom. This often means that **Function definitions are placed at the beginning of a page of code.**\n",
    "\n",
    "In the sample below, the function **`hat_color`** cannot be accessed since it is initialized after it is called at the bottom of the code.  \n",
    "```python\n",
    "have_hat = hat_available('green')  \n",
    "  \n",
    "print('hat available is', have_hat)\n",
    "\n",
    "def hat_available(color):\n",
    "    hat_colors = 'black, red, blue, green, white, grey, brown, pink'\n",
    "    return(color.lower() in hat_colors)\n",
    "```  \n",
    "This results in an error - the code flows from top to bottom is in the incorrect **sequence** \n",
    "```python\n",
    "NameError: name 'hat_available' is not defined\n",
    "```\n",
    "In the statement &nbsp; **`have_hat = hat_available('green')`** &nbsp; the function &nbsp; **`hat_available()`** &nbsp; needs to be called after the function has been defined\n",
    "> **Note:** an argument or variable is said to be **hard coded** when assigned a literal or constant value.  \n",
    "    It is a good habit to avoid creating hard coded values in functions, such as  \n",
    "    `hat_colors = 'black, red, blue, green, white, grey, brown, pink'`"
   ],
   "metadata": {}
  },
  {
   "cell_type": "markdown",
   "source": [
    "\n",
    "<font size=\"4\" color=\"#00A0B2\"  face=\"verdana\"> <B>Examples</B></font>"
   ],
   "metadata": {}
  },
  {
   "cell_type": "code",
   "execution_count": null,
   "source": [
    "# review and run code - note: fix error in the following \"tasks\" section\r\n",
    "def hat_available(color):\r\n",
    "    hat_colors = 'black, red, blue, green, white, grey, brown, pink'\r\n",
    "    # return Boolean\r\n",
    "    return(color.lower() in hat_colors)\r\n",
    "\r\n",
    "have_hat = hat_available('green')  \r\n",
    "  \r\n",
    "print('hat available is', have_hat)\r\n",
    "\r\n"
   ],
   "outputs": [],
   "metadata": {}
  },
  {
   "cell_type": "markdown",
   "source": [
    "\n",
    "<font size=\"6\" color=\"#B24C00\"  face=\"verdana\"> <B>Task 6</B></font>\n",
    "## Change the Sequence to fix the `NameError`\n",
    "- [ ] fix the code **sequence** so the &nbsp;**`hat_available()`** &nbsp;function is availabe when called and the code runs without error"
   ],
   "metadata": {}
  },
  {
   "cell_type": "code",
   "execution_count": 1,
   "source": [
    "# [ ] fix the sequence of the code to remove the NameError\r\n",
    "\r\n",
    "have_hat = hat_available('green')  \r\n",
    "  \r\n",
    "print('hat available is', have_hat)\r\n",
    "\r\n",
    "def hat_available(color):\r\n",
    "    hat_colors = 'black, red, blue, green, white, grey, brown, pink'\r\n",
    "    return(color.lower() in hat_colors)\r\n",
    "\r\n"
   ],
   "outputs": [
    {
     "output_type": "error",
     "ename": "NameError",
     "evalue": "name 'hat_available' is not defined",
     "traceback": [
      "\u001b[0;31m---------------------------------------------------------------------------\u001b[0m",
      "\u001b[0;31mNameError\u001b[0m                                 Traceback (most recent call last)",
      "\u001b[0;32m<ipython-input-1-3d9867b7870b>\u001b[0m in \u001b[0;36m<module>\u001b[0;34m\u001b[0m\n\u001b[1;32m      1\u001b[0m \u001b[0;31m# [ ] fix the sequence of the code to remove the NameError\u001b[0m\u001b[0;34m\u001b[0m\u001b[0;34m\u001b[0m\u001b[0;34m\u001b[0m\u001b[0m\n\u001b[1;32m      2\u001b[0m \u001b[0;34m\u001b[0m\u001b[0m\n\u001b[0;32m----> 3\u001b[0;31m \u001b[0mhave_hat\u001b[0m \u001b[0;34m=\u001b[0m \u001b[0mhat_available\u001b[0m\u001b[0;34m(\u001b[0m\u001b[0;34m'green'\u001b[0m\u001b[0;34m)\u001b[0m\u001b[0;34m\u001b[0m\u001b[0;34m\u001b[0m\u001b[0m\n\u001b[0m\u001b[1;32m      4\u001b[0m \u001b[0;34m\u001b[0m\u001b[0m\n\u001b[1;32m      5\u001b[0m \u001b[0mprint\u001b[0m\u001b[0;34m(\u001b[0m\u001b[0;34m'hat available is'\u001b[0m\u001b[0;34m,\u001b[0m \u001b[0mhave_hat\u001b[0m\u001b[0;34m)\u001b[0m\u001b[0;34m\u001b[0m\u001b[0;34m\u001b[0m\u001b[0m\n",
      "\u001b[0;31mNameError\u001b[0m: name 'hat_available' is not defined"
     ]
    }
   ],
   "metadata": {}
  },
  {
   "cell_type": "markdown",
   "source": [
    "# &nbsp;\n",
    "<font size=\"6\" color=\"#00A0B2\"  face=\"verdana\"> <B>Concepts</B></font>\n",
    "## Programming Style Tip: Avoid Hard-Coding\n",
    "### \"Hard-coding\" is placing data values directly into code\n",
    "An example of hard-coding from above is **`have_hat = hat_available('green')`**  where the argument `'green'` is hard-coded\n",
    "\n",
    "A programming best practice is to **avoid hard-coding values when possible**\n",
    "- Use varibles and verse hard-coded \n",
    "- Often preferable to use input such as a configuration file (advanced topic) or user input.\n",
    "These practices allow changing the data without disturbing the main code and makes code more reusable.\n"
   ],
   "metadata": {}
  },
  {
   "cell_type": "markdown",
   "source": [
    "\n",
    "<font size=\"6\" color=\"#B24C00\"  face=\"verdana\"> <B>Task 7</B></font>\n",
    "## Program: bird_available\n",
    "The program should ask for user to \"input a bird name to check for availability\" and print a statement informing of availability\n",
    "### create this program with a Boolean function `bird_available()`\n",
    "- has parameter that takes the name of a type of bird\n",
    "- for this exercise the variable `bird_types = 'crow robin parrot eagle sandpiper hawk piegon'`\n",
    "- return `True` or `False` (we are making a Boolean function)\n",
    "- call the function using the name of a bird type from user input\n",
    "- print a sentence that indicates the availablity of the type of bird checked\n"
   ],
   "metadata": {}
  },
  {
   "cell_type": "code",
   "execution_count": 3,
   "source": [
    "# [ ] create function bird_available\r\n",
    "def bird_availble():\r\n",
    "# [ ] user input\r\n",
    "    bird_types = \"crow, robin, parrot, eagle, sandpiper, hawk, piegon\"\r\n",
    "    print(\"Enter a birds name\")\r\n",
    "    usr_bird_name = input()\r\n",
    "    return usr_bird_name in bird_types\r\n",
    "# [ ] call bird_available\r\n",
    "birds_list = bird_availble()\r\n",
    "# [ ] print availbility status\r\n",
    "print(birds_list)\r\n"
   ],
   "outputs": [
    {
     "output_type": "stream",
     "name": "stdout",
     "text": [
      "Enter a birds name\n",
      "True\n"
     ]
    }
   ],
   "metadata": {}
  },
  {
   "cell_type": "markdown",
   "source": [
    "\n",
    "<font size=\"6\" color=\"#B24C00\"  face=\"verdana\"> <B>Task 8</B></font>\n",
    "## Fix The Error\n"
   ],
   "metadata": {
    "collapsed": true
   }
  },
  {
   "cell_type": "code",
   "execution_count": 1,
   "source": [
    "# define function how_many\r\n",
    "def how_many():\r\n",
    "    requested = input(\"enter how many you want: \")\r\n",
    "    return requested\r\n",
    "\r\n",
    "# get the number_needed\r\n",
    "number_needed = how_many()\r\n",
    "print(number_needed, \"will be ordered\")\r\n",
    "\r\n"
   ],
   "outputs": [
    {
     "output_type": "stream",
     "name": "stdout",
     "text": [
      "5 will be ordered\n"
     ]
    }
   ],
   "metadata": {}
  },
  {
   "cell_type": "markdown",
   "source": [
    "© 2017 Microsoft adapted with permission by Dominic Thomas"
   ],
   "metadata": {}
  }
 ],
 "metadata": {
  "anaconda-cloud": {},
  "kernelspec": {
   "name": "python3",
   "display_name": "Python 3.9.0 64-bit"
  },
  "language_info": {
   "codemirror_mode": {
    "name": "ipython",
    "version": 3
   },
   "file_extension": ".py",
   "mimetype": "text/x-python",
   "name": "python",
   "nbconvert_exporter": "python",
   "pygments_lexer": "ipython3",
   "version": "3.9.0"
  },
  "interpreter": {
   "hash": "352250d72fbe74f1a4acf37601ef1631e612adb35eaa4136c077520ae8357c0b"
  }
 },
 "nbformat": 4,
 "nbformat_minor": 1
}