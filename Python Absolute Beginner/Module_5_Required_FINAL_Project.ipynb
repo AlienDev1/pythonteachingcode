{
 "cells": [
  {
   "cell_type": "markdown",
   "source": [
    "#  Final Project Required Coding Activity  \n",
    "Python Absolute Beginner \n",
    "\n",
    "Complete all tutorials, practices and required code in the course prior to attempting this activity.\n",
    "\n",
    "| Some Assignment Requirements |\n",
    "|:-------------------------------|\n",
    "|This program requires the use of<ul><li>**`while`** loop</li><li>**`if, elif, else`**</li><li>**`if,else`** (nested)</li><li>**casting** of type,  between strings and numbers</li></ul><br/>The program should **only** use code syntax covered in modules 1 - 4.<br/><br/>The program must result in print output using the numeric input, similar to that shown in the samples displaying \"Items\" and \"Total\".  |\n",
    "\n",
    "\n",
    "## Program: `adding_report()` function  \n",
    "This program calls the adding_report() function which repeatedly takes positive integer input until the user quits and then sums the integers and prints a \"report\".    \n",
    "The **adding_report()** function has 1 string parameter which indicates the type of report:  \n",
    "- \"A\" used as the argument to adding_report() results in printing of all of the input integers and the total  \n",
    "- \"T\" used as the argument results in printing only the total   \n",
    "\n",
    "#### Sample input and output:  \n",
    "call adding_report() with \"A\" as argument (print all the integers entered and the total)  \n",
    "```\n",
    "Input an integer to add to the total or \"Q\" to quit\n",
    "Enter an integer or \"Q\"): 3\n",
    "Enter an integer or \"Q\"): 6\n",
    "Enter an integer or \"Q\"): 24\n",
    "Enter an integer or \"Q\"): 17\n",
    "Enter an integer or \"Q\"): 61\n",
    "Enter an integer or \"Q\"): nine\n",
    "nine is invalid input\n",
    "Enter an integer or \"Q\"): q\n",
    "\n",
    "Items\n",
    "3\n",
    "6\n",
    "24\n",
    "17\n",
    "61\n",
    "\n",
    "Total\n",
    " 111\n",
    "```  \n",
    "\n",
    "call with \"T\"(print only the total)  \n",
    "```\n",
    "Input an integer to add to the total or \"Q\" to quit\n",
    "Enter an integer or \"Q\": 5\n",
    "Enter an integer or \"Q\": 7\n",
    "Enter an integer or \"Q\": Quit\n",
    "\n",
    "Total\n",
    " 12\n",
    "```  \n",
    "\n",
    "\n",
    "### Additional Details\n",
    "  \n",
    "- initialize `total` variable which will sum integer values entered  \n",
    "- initialize `items` variable which will build a string of the integer inputs separated with a *new line character*  \n",
    "- define the `adding_report` function with one parameter `report` that will be a string with default of \"T\"  \n",
    "- inside the function build a forever loop (infinite while loop) and inside the loop complete the following  \n",
    "  - use a variable to gather input (integer or \"Q\")  \n",
    "  - check if the input string is a digit (integer) and if it is...  \n",
    "    - add input iteger to total  \n",
    "    - if report type is \"A\" add the numeric character(s) to the item string seperated by a new line  \n",
    "  - if not a digit, check if the input string is \"Q\" or starts with a \"Q\", **if \"Q\"** then...  \n",
    "    - if the report type is \"A\" print out all the integer items entered and the sum total  \n",
    "    - if report type is \"T\" then print out the sum total only  \n",
    "    - `break` out of while loop to end the function after printing the report (\"A\" or \"T\") \n",
    "  - if not a digit and if not a \"Q\" then print a message that the \"input is invalid\"  \n",
    "\n",
    "- Call the `adding_report` function with \"A\" and then with \"T\" report parameters  \n",
    "- Run and test your code before submitting"
   ],
   "metadata": {
    "collapsed": true
   }
  },
  {
   "cell_type": "code",
   "execution_count": 3,
   "source": [
    "# [ ] create, call and test the adding_report() function\r\n",
    "\r\n",
    "\r\n",
    "\r\n",
    "def adding_report(report, reportType):\r\n",
    "    total = 0\r\n",
    "    items = []\r\n",
    "    while True:\r\n",
    "            usr_input = input(\"Input an integer to add to the total or Q to quit \")\r\n",
    "            if(usr_input.isdigit() and reportType.upper() == 'T'):\r\n",
    "                total += usr_input\r\n",
    "                print(total)\r\n",
    "                break\r\n",
    "            elif(usr_input.isdigit() and reportType.upper()== 'A'):\r\n",
    "                items.append(usr_input) \r\n",
    "                \r\n",
    "            if(type(report)== str):\r\n",
    "                if(report.upper == 'T'):\r\n",
    "                    break\r\n",
    "\r\n",
    "while True:\r\n",
    "    user = input(\"enter a number or T to \")\r\n",
    "    \r\n",
    "\r\n",
    " \r\n",
    "\r\n",
    "            \r\n",
    "        "
   ],
   "outputs": [
    {
     "output_type": "error",
     "ename": "KeyboardInterrupt",
     "evalue": "Interrupted by user",
     "traceback": [
      "\u001b[1;31m---------------------------------------------------------------------------\u001b[0m",
      "\u001b[1;31mKeyboardInterrupt\u001b[0m                         Traceback (most recent call last)",
      "\u001b[1;32mC:\\Users\\DEVELO~1\\AppData\\Local\\Temp/ipykernel_13828/2365608198.py\u001b[0m in \u001b[0;36m<module>\u001b[1;34m\u001b[0m\n\u001b[0;32m     20\u001b[0m \u001b[1;33m\u001b[0m\u001b[0m\n\u001b[0;32m     21\u001b[0m \u001b[1;32mwhile\u001b[0m \u001b[1;32mTrue\u001b[0m\u001b[1;33m:\u001b[0m\u001b[1;33m\u001b[0m\u001b[1;33m\u001b[0m\u001b[0m\n\u001b[1;32m---> 22\u001b[1;33m     \u001b[0muser\u001b[0m \u001b[1;33m=\u001b[0m \u001b[0minput\u001b[0m\u001b[1;33m(\u001b[0m\u001b[1;34m\"enter a number or T to \"\u001b[0m\u001b[1;33m)\u001b[0m\u001b[1;33m\u001b[0m\u001b[1;33m\u001b[0m\u001b[0m\n\u001b[0m\u001b[0;32m     23\u001b[0m \u001b[1;33m\u001b[0m\u001b[0m\n\u001b[0;32m     24\u001b[0m \u001b[1;33m\u001b[0m\u001b[0m\n",
      "\u001b[1;32m~\\AppData\\Roaming\\Python\\Python39\\site-packages\\ipykernel\\kernelbase.py\u001b[0m in \u001b[0;36mraw_input\u001b[1;34m(self, prompt)\u001b[0m\n\u001b[0;32m    979\u001b[0m                 \u001b[1;34m\"raw_input was called, but this frontend does not support input requests.\"\u001b[0m\u001b[1;33m\u001b[0m\u001b[1;33m\u001b[0m\u001b[0m\n\u001b[0;32m    980\u001b[0m             )\n\u001b[1;32m--> 981\u001b[1;33m         return self._input_request(\n\u001b[0m\u001b[0;32m    982\u001b[0m             \u001b[0mstr\u001b[0m\u001b[1;33m(\u001b[0m\u001b[0mprompt\u001b[0m\u001b[1;33m)\u001b[0m\u001b[1;33m,\u001b[0m\u001b[1;33m\u001b[0m\u001b[1;33m\u001b[0m\u001b[0m\n\u001b[0;32m    983\u001b[0m             \u001b[0mself\u001b[0m\u001b[1;33m.\u001b[0m\u001b[0m_parent_ident\u001b[0m\u001b[1;33m[\u001b[0m\u001b[1;34m\"shell\"\u001b[0m\u001b[1;33m]\u001b[0m\u001b[1;33m,\u001b[0m\u001b[1;33m\u001b[0m\u001b[1;33m\u001b[0m\u001b[0m\n",
      "\u001b[1;32m~\\AppData\\Roaming\\Python\\Python39\\site-packages\\ipykernel\\kernelbase.py\u001b[0m in \u001b[0;36m_input_request\u001b[1;34m(self, prompt, ident, parent, password)\u001b[0m\n\u001b[0;32m   1024\u001b[0m             \u001b[1;32mexcept\u001b[0m \u001b[0mKeyboardInterrupt\u001b[0m\u001b[1;33m:\u001b[0m\u001b[1;33m\u001b[0m\u001b[1;33m\u001b[0m\u001b[0m\n\u001b[0;32m   1025\u001b[0m                 \u001b[1;31m# re-raise KeyboardInterrupt, to truncate traceback\u001b[0m\u001b[1;33m\u001b[0m\u001b[1;33m\u001b[0m\u001b[1;33m\u001b[0m\u001b[0m\n\u001b[1;32m-> 1026\u001b[1;33m                 \u001b[1;32mraise\u001b[0m \u001b[0mKeyboardInterrupt\u001b[0m\u001b[1;33m(\u001b[0m\u001b[1;34m\"Interrupted by user\"\u001b[0m\u001b[1;33m)\u001b[0m \u001b[1;32mfrom\u001b[0m \u001b[1;32mNone\u001b[0m\u001b[1;33m\u001b[0m\u001b[1;33m\u001b[0m\u001b[0m\n\u001b[0m\u001b[0;32m   1027\u001b[0m             \u001b[1;32mexcept\u001b[0m \u001b[0mException\u001b[0m\u001b[1;33m:\u001b[0m\u001b[1;33m\u001b[0m\u001b[1;33m\u001b[0m\u001b[0m\n\u001b[0;32m   1028\u001b[0m                 \u001b[0mself\u001b[0m\u001b[1;33m.\u001b[0m\u001b[0mlog\u001b[0m\u001b[1;33m.\u001b[0m\u001b[0mwarning\u001b[0m\u001b[1;33m(\u001b[0m\u001b[1;34m\"Invalid Message:\"\u001b[0m\u001b[1;33m,\u001b[0m \u001b[0mexc_info\u001b[0m\u001b[1;33m=\u001b[0m\u001b[1;32mTrue\u001b[0m\u001b[1;33m)\u001b[0m\u001b[1;33m\u001b[0m\u001b[1;33m\u001b[0m\u001b[0m\n",
      "\u001b[1;31mKeyboardInterrupt\u001b[0m: Interrupted by user"
     ]
    }
   ],
   "metadata": {
    "collapsed": true
   }
  },
  {
   "cell_type": "markdown",
   "source": [
    "Submit this by creating a python file (.py) and submitting it in D2L. Be sure to test that it works."
   ],
   "metadata": {}
  }
 ],
 "metadata": {
  "kernelspec": {
   "name": "python3",
   "display_name": "Python 3.9.0 64-bit"
  },
  "language_info": {
   "codemirror_mode": {
    "name": "ipython",
    "version": 3
   },
   "file_extension": ".py",
   "mimetype": "text/x-python",
   "name": "python",
   "nbconvert_exporter": "python",
   "pygments_lexer": "ipython3",
   "version": "3.9.0"
  },
  "interpreter": {
   "hash": "352250d72fbe74f1a4acf37601ef1631e612adb35eaa4136c077520ae8357c0b"
  }
 },
 "nbformat": 4,
 "nbformat_minor": 1
}