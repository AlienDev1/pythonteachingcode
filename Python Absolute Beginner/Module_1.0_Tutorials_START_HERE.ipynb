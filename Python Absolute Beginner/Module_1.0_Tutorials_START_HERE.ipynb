{
 "cells": [
  {
   "cell_type": "markdown",
   "source": [
    "# Python Absolute Beginner Module 1: Introduction (P1M1)\n",
    "##  Getting started with Python in Jupyter Notebooks\n",
    "- **Python 3 in Jupyter notebooks**\n",
    "- **`print()`**\n",
    "- **comments** \n",
    "- data types basics\n",
    "- variables\n",
    "- addition with Strings and Integers \n",
    "- Errors\n",
    "- character art  \n",
    "\n",
    "-----\n",
    "\n",
    "\n",
    "><font size=\"5\" color=\"#00A0B2\"  face=\"verdana\"> <B>Student will be able to</B></font>\n",
    "- **use Python 3 in Jupyter notebooks**  \n",
    "- **write working code using `print()` and `#` comments**  \n",
    "- combine Strings using string addition (`+`)\n",
    "- add numbers in code (`+`) \n",
    "- troubleshoot errors\n",
    "- create character art\n",
    "\n",
    "# &nbsp;\n",
    "<font size=\"6\" color=\"#00A0B2\"  face=\"verdana\"> <B>Concept</B></font>\n",
    "## Hello World! - python&nbsp; `print()` statement\n",
    "We can use code to send a \"Hello World!\" to the standard output of the computer or Jupyter notebook using Python. The <a href=\"https://en.wikipedia.org/wiki/Standard_streams\" alt=\"Wikipedia article on Standard Output\">standard output</a> refers to a standard location where code on your computer, which typically gets displayed on your screen. \n",
    "\n",
    "Python has a very simple implementation: \n",
    "```python\n",
    "print(\"Hello World!\")\n",
    "```  \n",
    "\n",
    "# Watch this video walkthrough as you work\n",
    "## The big green circle play icon below links to a video walkthrough of this tutorial\n",
    "When you see a video walkthrough in the tutorials, click on it and watch it as you work to have a guided lesson on how to complete the tasks and learn the materials. This walkthrough covers tasks 1-5.\n",
    "[![view video](https://openclipart.org/download/219326/1432343177.svg)](https://youtu.be/iPU4aJEylEA)"
   ],
   "metadata": {
    "slideshow": {
     "slide_type": "slide"
    }
   }
  },
  {
   "cell_type": "markdown",
   "source": [
    "## Run the examples below and think about what they do. \n",
    "Run the code in the code cell below in the Example area. To run it, **Click in the cell below** and **press \"Ctrl+Enter\"** to run the code. See the message show up below the cell? That is the standard output area for that code cell. Also, see that a number showed up in the \"In [ ]\" brackets to the cell's left? That shows the order in which your cell ran in this Jupyter notebook and that it has completed running. Our \"Hello World!\" program worked because this notebook hosts a python interpreter that can run python code cells.   \n",
    "\n",
    "Try showing \n",
    "```python \n",
    "\"Hello programmer!\" \n",
    "``` \n",
    "Enter new text inside the quotations in the cell below. Click on the cell to edit the code. \n",
    "\n",
    "What happens if any part of &nbsp;`print`&nbsp; is capitalized or what happens there are no quotation marks around the greeting? Hint: python is case sensitive. That means that Print() means nothing by default. Only print() with a lowercase p will work. So, be careful about your letter capitalization while coding.\n",
    "## Methods for running the code in a cell\n",
    "1. **Click in the cell below** and **press \"Ctrl+Enter\"** to run the code  \n",
    "&nbsp; &nbsp; or\n",
    "2. **Click in the cell below** and **press \"Shift+Enter\"** to run the code and move to the next cell  \n",
    "&nbsp;\n",
    "3. **Menu: Cell**...  \n",
    "  a. **> Run Cells** runs the highlighted cell(s)  \n",
    "  b. **> Run All Above** runs the highlighted cell and above  \n",
    "  c. **> Run All Below** runs the highlighted cell and below "
   ],
   "metadata": {
    "slideshow": {
     "slide_type": "subslide"
    }
   }
  },
  {
   "cell_type": "markdown",
   "source": [
    "<font size=\"4\" color=\"#00A0B2\"  face=\"verdana\"> <B>Example</B></font> \n",
    "Run every example you find in these notebooks."
   ],
   "metadata": {}
  },
  {
   "cell_type": "code",
   "execution_count": 1,
   "source": [
    "#  Review the code, run the code\r\n",
    "print(\"Hello World!\")"
   ],
   "outputs": [
    {
     "output_type": "stream",
     "name": "stdout",
     "text": [
      "Hello World!\n"
     ]
    }
   ],
   "metadata": {
    "slideshow": {
     "slide_type": "subslide"
    }
   }
  },
  {
   "cell_type": "code",
   "execution_count": 2,
   "source": [
    "print(\"Hello programmer!\")"
   ],
   "outputs": [
    {
     "output_type": "stream",
     "name": "stdout",
     "text": [
      "Hello programmer!\n"
     ]
    }
   ],
   "metadata": {}
  },
  {
   "cell_type": "code",
   "execution_count": null,
   "source": [
    "print(\"This is a test\")"
   ],
   "outputs": [],
   "metadata": {}
  },
  {
   "cell_type": "code",
   "execution_count": null,
   "source": [
    "print(\"Look mom I did it!\")"
   ],
   "outputs": [],
   "metadata": {}
  },
  {
   "cell_type": "markdown",
   "source": [
    "<font size=\"6\" color=\"#00A0B2\"  face=\"verdana\"> <B>Concept</B></font>\n",
    "## Comments\n",
    "When coding, programmers include comments for explanation of how code works for reminders and to help others who encounter the code\n",
    "\n",
    "### comments start with the  `#`  symbol"
   ],
   "metadata": {}
  },
  {
   "cell_type": "markdown",
   "source": [
    "<font size=\"4\" color=\"#00A0B2\"  face=\"verdana\"> <B>Example</B></font>"
   ],
   "metadata": {}
  },
  {
   "cell_type": "code",
   "execution_count": 5,
   "source": [
    "# this is how a comment looks in python code\r\n",
    "# every comment line starts with the # symbol\r\n",
    "# print(\"hello world\")"
   ],
   "outputs": [],
   "metadata": {}
  },
  {
   "cell_type": "markdown",
   "source": [
    "# &nbsp;\n",
    "<font size=\"6\" color=\"#B24C00\"  face=\"verdana\"> <B>Task 1</B></font>\n",
    "## Program: \"Hello World!\" with comment\n",
    "- add a comment describing the code purpose\n",
    "- create an original \"Hello World\" style message"
   ],
   "metadata": {}
  },
  {
   "cell_type": "code",
   "execution_count": null,
   "source": [
    "# My Hello World Code\r\n",
    "# print(\"Hello World!\")"
   ],
   "outputs": [],
   "metadata": {}
  },
  {
   "cell_type": "markdown",
   "source": [
    "# &nbsp;\n",
    "<font size=\"6\" color=\"#00A0B2\"  face=\"verdana\"> <B>Concepts</B></font>\n",
    "## Notebooks and Libraries\n",
    "Jupyter Notebooks provide a balance of jotting down important summary information along with proving a live code development environment where we can write and run python code.  We will walk through the basics and some best practices for notebook use.  \n",
    "\n",
    "## add/open a notebook library\n",
    "- New: in the menu above choose File > New Notebook > Python 3 to create a new notebook\n",
    "- Open: you can also open existing notebooks using the File > Open... dialog\n",
    "\n",
    "## working in notebook cells  \n",
    "- **Markdown cells** display text in a web page format. Markdown is code that formats the way the cell displays (*this cell is Markdown*)  \n",
    "&nbsp;  \n",
    "- **Code cells** contain python code and can be interpreted and run from a cell. Code cells display code and output.  \n",
    "&nbsp;  \n",
    "- **in edit** or **previously run:** cells can display in editing mode or cells can display results of *code* having been run \n",
    " \n",
    "### edit mode  \n",
    "- **text** cells in editing mode show markdown code  \n",
    "- Markdown cells keep editing mode appearance until the cell is run  \n",
    "- **code** (python 3) cells in editing look the same after editing, but may show different run output  \n",
    "- clicking another cell moves the green highlight that indicates which cell has active editing focus  \n",
    "  \n",
    "### cells need to be saved\n",
    "- the notebook will frequently auto save\n",
    "- **best practice** is to manually save after editing a cell using **\"Ctrl + S\"** or alternatively, **Menu: File > Save and Checkpoint**\n"
   ],
   "metadata": {}
  },
  {
   "cell_type": "markdown",
   "source": [
    "# &nbsp;\n",
    "<font size=\"6\" color=\"#00A0B2\"  face=\"verdana\"> <B>Concepts</B></font>\n",
    "## Altering Notebook Structure\n",
    "### add a cell\n",
    "- Highlight any cell and then... add a new cell using **Menu: Insert > Insert Cell Below** or **Insert Cell Above**\n",
    "- Add with Keyboard Shortcut: **\"a\"** to insert above or **\"b\"** to insert below\n",
    "\n",
    "### choose cell type\n",
    "- Format cells as Markdown or Code via the toolbar dropdown or **Menu: Cell > Cell Type > Code** or **Markdown** \n",
    "- Cells default to Code when created but can be reformatted from code to Markdown and vice versa  \n",
    "\n",
    "### change notebook page language\n",
    "- The course uses Python 3 but Jupyter Notebooks can be in various programming languages\n",
    "- To change a notebook to Python 3 go to **\"Menu: Kernel > Change Kernel> Python 3\"**\n",
    "- You will only see other programming language options for the Kernel if they are installed on your machine\n"
   ],
   "metadata": {}
  },
  {
   "cell_type": "markdown",
   "source": [
    "# &nbsp;\n",
    "<font size=\"6\" color=\"#B24C00\"  face=\"verdana\"> <B>Task 2</B></font>\n",
    "## Insert a new cell\n",
    "-  Insert a new Code cell below with a comment describing the task to \"create a new cell\"\n",
    "-  edit cell: add print() with the message \"after edit, save!\"\n",
    "-  run the cell"
   ],
   "metadata": {}
  },
  {
   "cell_type": "code",
   "execution_count": 3,
   "source": [
    "# Create a new cell     "
   ],
   "outputs": [
    {
     "output_type": "stream",
     "name": "stdout",
     "text": [
      "Message\n"
     ]
    }
   ],
   "metadata": {}
  },
  {
   "cell_type": "code",
   "execution_count": 5,
   "source": [
    "print(\"after edit, save\")"
   ],
   "outputs": [
    {
     "output_type": "stream",
     "name": "stdout",
     "text": [
      "after edit, save\n"
     ]
    }
   ],
   "metadata": {}
  },
  {
   "cell_type": "markdown",
   "source": [
    "### Insert another new cell\n",
    "- Insert a new Code cell below \n",
    "- edit cell: add print() with the message showing the keyboard Shortcut to save **s**\n",
    "- run the cell"
   ],
   "metadata": {}
  },
  {
   "cell_type": "code",
   "execution_count": 6,
   "source": [
    "print(\"the keyboard shortcut to save is ctrl + s\")"
   ],
   "outputs": [
    {
     "output_type": "stream",
     "name": "stdout",
     "text": [
      "the keyboard shortcut to save is ctrl + s\n"
     ]
    }
   ],
   "metadata": {}
  },
  {
   "cell_type": "markdown",
   "source": [
    "#  Module 1 Part 2\n",
    "##  Getting started with Python in Jupyter Notebooks\n",
    "- Python 3 in Jupyter notebooks\n",
    "- `print()`\n",
    "- Comments  \n",
    "- **data types basics**\n",
    "- **variables  **\n",
    "- addition with Strings and Integers \n",
    "- Errors\n",
    "- character art  \n",
    "\n",
    "-----\n",
    "\n",
    "\n",
    "><font size=\"5\" color=\"#00A0B2\"  face=\"verdana\"> <B>Student will be able to</B></font>\n",
    "- use Python 3 in Jupyter notebooks\n",
    "- **write working code using `print()` and `#` comments**  \n",
    "- write working code using `type()` and variables\n",
    "- combine Strings using string addition (+)\n",
    "- add numbers in code (+) \n",
    "- troubleshoot errors\n",
    "- create character art"
   ],
   "metadata": {
    "collapsed": true
   }
  },
  {
   "cell_type": "markdown",
   "source": [
    "# &nbsp;\n",
    "<font size=\"6\" color=\"#00A0B2\"  face=\"verdana\"> <B>Concepts</B></font>\n",
    "## What is a **String?**  \n",
    "Strings were used in \"Hello World!\" print function examples. Strings are sets of characters.  In Python strings are in double or single quotes like `\"Hello World!\"` or `'after edit, save!'`  \n",
    "  \n",
    "A String is a common **type** of data, used in programming, consisting of a sequence of 1 or more characters. They are known formally as a **primitive data type.** The other primitive types are integer, float, and boolean. We will see those later.\n",
    "* **A String is a sequence of characters** (aka: a *string* of characters)  \n",
    "    * Character examples: `A, B, C, a, b, c, 1, 2, 3, !, &`\n",
    "* A String in Python is contained in quotes, single(') or double(\")\n",
    "    * String examples:  \"ABC\", 'Joana Dias', 'I have 2 pet cats.', \"item #3 cost \\$3.29 USD\"  \n",
    "    > **Note:** the quotes containing a string must come in matched pairs   \n",
    "    > - `\"Hello\"` or `'Hello'` are correctly formatted strings  \n",
    "    > - `\"Hello'` is incorrectly formatted starting with double \" and ending with single ' Python needs a matching quote to know where the string ends"
   ],
   "metadata": {}
  },
  {
   "cell_type": "markdown",
   "source": [
    "# &nbsp;\n",
    "<font size=\"4\" color=\"#00A0B2\"  face=\"verdana\"> <B>Example</B></font>"
   ],
   "metadata": {}
  },
  {
   "cell_type": "code",
   "execution_count": 7,
   "source": [
    "# examples of printing strings with single and double quotes\r\n",
    "print('strings go in single')\r\n",
    "print(\"or double quotes\")"
   ],
   "outputs": [
    {
     "output_type": "stream",
     "name": "stdout",
     "text": [
      "strings go in single\n",
      "or double quotes\n"
     ]
    }
   ],
   "metadata": {}
  },
  {
   "cell_type": "markdown",
   "source": [
    "# &nbsp;\n",
    "<font size=\"6\" color=\"#B24C00\"  face=\"verdana\"> <B>Task 3</B></font>    \n",
    "## print messages with \"double quotes\" and 'single' quotes"
   ],
   "metadata": {}
  },
  {
   "cell_type": "code",
   "execution_count": 8,
   "source": [
    "# [ ] enter a string in the print() function using single quotes\r\n",
    "print(\"double quoted string\")\r\n",
    "# [ ] enter a string in the print() function using double quotes\r\n",
    "print('single quoted string')\r\n"
   ],
   "outputs": [
    {
     "output_type": "stream",
     "name": "stdout",
     "text": [
      "double quoted string\n",
      "single quoted string\n"
     ]
    }
   ],
   "metadata": {}
  },
  {
   "cell_type": "markdown",
   "source": [
    "## Q?: What is the difference between `123` and  `'123'`?  \n",
    "  \n",
    "**A:** A String type **is not** a number, even if it  is all numeric digits\n",
    "* in Python code a number can be assigned to a variable: `x = 31`\n",
    "* a string of digits can be assigned to the variable **`id`**&nbsp; --> `id = \"001023\"`&nbsp; the quotations, mean the number symbols should be stored in the variable as **type** string, meaning the digits&nbsp;\"`001023`\"&nbsp; are treated as text\n",
    "    \n",
    "The **`print()`** function can print Integer or string values:\n",
    "```python\n",
    "print(123) #integer, with numeric value\n",
    "print(\"123\") #string, represents text characters\n",
    "```  \n",
    "\n",
    "- run the above code in the next cell:  "
   ],
   "metadata": {
    "slideshow": {
     "slide_type": "subslide"
    }
   }
  },
  {
   "cell_type": "code",
   "execution_count": 9,
   "source": [
    "print(123) #integer, with numeric value\r\n",
    "print(\"123\") #string, represents text characters"
   ],
   "outputs": [
    {
     "output_type": "stream",
     "name": "stdout",
     "text": [
      "123\n",
      "123\n"
     ]
    }
   ],
   "metadata": {}
  },
  {
   "cell_type": "markdown",
   "source": [
    "# &nbsp;\n",
    "<font size=\"6\" color=\"#00A0B2\"  face=\"verdana\"> <B>Concepts</B></font>\n",
    "## Integers are another primitive data type\n",
    "- whole numbers such as `-2, -1, 0, 1, 2, 3` are Integers \n",
    "- Integers are **not placed in quotes**  \n",
    "  \n",
    "A String can contain any character, this includes letters, spaces, punctuation, number digits and formatting. In a string with digits (`\"123\"`) the digits are text images rather than representations of numeric values.  \n",
    "\n",
    ">**remember** a line of python code starting with the pound or hash symbol (**#**) indicates a **comment**  \n",
    "&nbsp;  \n",
    "comments are for humans to read and are not run by computers\n",
    "\n"
   ],
   "metadata": {
    "collapsed": true,
    "slideshow": {
     "slide_type": "slide"
    }
   }
  },
  {
   "cell_type": "markdown",
   "source": [
    "# &nbsp;\n",
    "<font size=\"6\" color=\"#00A0B2\"  face=\"verdana\"> <B>Examples</B></font>"
   ],
   "metadata": {}
  },
  {
   "cell_type": "code",
   "execution_count": 8,
   "source": [
    "# printing an Integer with python\r\n",
    "print(299)\r\n",
    "\r\n",
    "# printing a string made of Integer (number) characters with python\r\n",
    "print(\"2017\")"
   ],
   "outputs": [
    {
     "output_type": "stream",
     "name": "stdout",
     "text": [
      "299\n",
      "2017\n"
     ]
    }
   ],
   "metadata": {}
  },
  {
   "cell_type": "markdown",
   "source": [
    "<font size=\"6\" color=\"#B24C00\"  face=\"verdana\"> <B>Task 4</B></font> \n",
    "- **print Integers**\n",
    "- ** print strings made of Integer characters**"
   ],
   "metadata": {}
  },
  {
   "cell_type": "code",
   "execution_count": 10,
   "source": [
    "# [ ] print an Integer\r\n",
    "print(1235)\r\n",
    "\r\n",
    "# [ ] print a strings made of Integer characters\r\n",
    "print(\"123459\")\r\n",
    "\r\n"
   ],
   "outputs": [
    {
     "output_type": "stream",
     "name": "stdout",
     "text": [
      "1235\n",
      "123459\n"
     ]
    }
   ],
   "metadata": {}
  },
  {
   "cell_type": "markdown",
   "source": [
    ">**Student Tip:** look for **[ ]** , which indicates a task in the notebook needs to be completed.  \n",
    "Edit and Run to complete the task  "
   ],
   "metadata": {}
  },
  {
   "cell_type": "markdown",
   "source": [
    "# &nbsp;\n",
    "<font size=\"6\" color=\"#00A0B2\"  face=\"verdana\"> <B>Concepts</B></font>\n",
    "## Variables & Storing Data in **Variables**  \n",
    "### Variables are named containers\n",
    "Computer programs often create storage for things that are used in repeated processing like item_price, student_name, stock_symbol. In python a variable  is a type of **object** that can be addressed by name to access the assigned contents.\n",
    "\n",
    "#### Name a variable staring with a letter or underscore \"_\"; You cannot begin the name with a number or reserved word\n",
    "There are different styles for creating variables this course uses lowercase descriptive names connected by underscores:\n",
    "- item_price\n",
    "- student_name\n",
    "- stock_symbol  \n",
    "\n",
    "descriptive names reduce the need for comments in the code and make it easier to share code or read code written long ago\n",
    "\n",
    "### Variables can hold strings\n",
    "once a variable is **assigned**:\n",
    ">**`current_msg = \"I am a string\" `**  \n",
    "  \n",
    "a python program can refer to the variable, &nbsp; **`current_msg`**, &nbsp; in code  \n",
    "so that &nbsp;**` current_msg `**, can be used like the string value &nbsp;(**`\"I am a string\"`**) &nbsp; which it stores  \n",
    "  \n",
    "### Variable reassignment\n",
    "We can reassign a variable, changing the contents.   **`current_msg = \"new current message\" `**  \n",
    "\n",
    "### Variables can be used in place of literals \n",
    "If we initialize **`current_msg = \"new current message\" `** then  \n",
    "the literal string **` \"new current message\" `** and the variable **` current_msg `** are the same when used in code"
   ],
   "metadata": {}
  },
  {
   "cell_type": "markdown",
   "source": [
    "\n",
    "<font size=\"4\" color=\"#00A0B2\"  face=\"verdana\"> <B>Examples</B></font>\n",
    "- **Initializing variables**\n",
    "- **literals & variables** in printing\n",
    "- **Variable reassignment**"
   ],
   "metadata": {}
  },
  {
   "cell_type": "code",
   "execution_count": 11,
   "source": [
    "# [ ] Review code and Run\r\n",
    "# initialize the variable\r\n",
    "var current_msg = \"I am a string\"\r\n",
    "\r\n",
    "# print literal string\r\n",
    "print(\"I am a string\")\r\n",
    "\r\n",
    "# print variable string\r\n",
    "print(current_msg)"
   ],
   "outputs": [
    {
     "output_type": "stream",
     "name": "stdout",
     "text": [
      "I am a string\n",
      "I am a string\n"
     ]
    }
   ],
   "metadata": {}
  },
  {
   "cell_type": "code",
   "execution_count": 14,
   "source": [
    "# [ ] Review code and Run\r\n",
    "# assign a new string to the current_msg\r\n",
    "current_msg = \"Run this cell using Ctrl+Enter\"\r\n",
    "\r\n",
    "print(current_msg)"
   ],
   "outputs": [
    {
     "output_type": "stream",
     "name": "stdout",
     "text": [
      "Run this cell using Ctrl+Enter\n"
     ]
    }
   ],
   "metadata": {
    "scrolled": true
   }
  },
  {
   "cell_type": "markdown",
   "source": [
    "\n",
    "<font size=\"6\" color=\"#B24C00\"  face=\"verdana\"> <B>Task 5</B></font> \n",
    "## Program: assigning values to a string\n",
    "- in the cell below\n",
    "  - print the variable current_msg  \n",
    "  - assign a new string to current_msg  \n",
    "  - print the variable  current_msg again\n",
    "- run the code cell above and then run the cell below"
   ],
   "metadata": {}
  },
  {
   "cell_type": "code",
   "execution_count": 15,
   "source": [
    "# { ] run cell above then run this cell after completing the code as directed\r\n",
    "print(current_msg)\r\n",
    "current_msg = \"This is the new str\"\r\n",
    "print(current_msg)\r\n"
   ],
   "outputs": [
    {
     "output_type": "stream",
     "name": "stdout",
     "text": [
      "Run this cell using Ctrl+Enter\n",
      "This is the new str\n"
     ]
    }
   ],
   "metadata": {}
  },
  {
   "cell_type": "markdown",
   "source": [
    "**Q?:** In the cell above, why did the variable have a value to print before it was assigned?  \n",
    "  \n",
    "Jupyter notebooks run cells individually.  Any cell in the notebook can access a variable assigned from a cell that has been run in the current notebook session."
   ],
   "metadata": {}
  },
  {
   "cell_type": "markdown",
   "source": [
    "A: This is because the var was previously declared and still points to the location of the string previously added. "
   ],
   "metadata": {}
  },
  {
   "cell_type": "markdown",
   "source": [
    "# &nbsp;\n",
    "<font size=\"6\" color=\"#00A0B2\"  face=\"verdana\"> <B>Concepts</B></font>\n",
    "## Data types in variables\n",
    "variables can be initialized with different data types.  Below we see item_price is a **decimal** (aka - float) and student_name is **string** \n",
    "  \n",
    "```python\n",
    "item_price = 10.25 #item_price initialized as a numeric value (no quotes)\n",
    "student_name =\"Dias, Joana\" #student_name initialized as a string\n",
    "license_plate = \"123A\" #license_plate initialized as a string\n",
    "```\n",
    "# Walkthrough video for tasks 6-12\n",
    "[![view video](https://openclipart.org/download/219326/1432343177.svg)](https://youtu.be/y59XBWNTM_Y)\n",
    "\n",
    "### Variables can start initialized as an Integer number data type  \n",
    ">```python \n",
    "x = 22\n",
    "``` \n",
    "here the Integer `22`&nbsp; value was assigned to the variable &nbsp;**`x`**    \n",
    "\n",
    "### The type of data a variable holds can be changed,\n",
    "### Python variables can change the **type** of data a variable holds  \n",
    "\n",
    ">```python\n",
    "x = 22\n",
    "x = \"I am a string\"\n",
    "```  \n",
    "\n",
    "**` x `**&nbsp; changed type from Integer &nbsp;**`x = 22`**&nbsp; to string&nbsp; **`x = \"I am a string\"`**  \n",
    "   \n",
    ">>|Best Practice: Friendly Names |\n",
    "|------------------------------------------------------------------------------------------|\n",
    "| **Friendly name** examples, (`item_price, student_name,license_plate`), were used above. |  \n",
    "  \n",
    "  \n",
    "#### Variables help us to write code that can be used repeatedly\n",
    "A personalized letter can be sent to every student with individual names by using a name in a variable. Let's start with printing a name based on string variable.\n",
    "\n",
    "Create a variable, `name`, at the top of the next cell. Assign a string value to &nbsp; `name `. \n",
    "\n",
    "> Remember to use the quotes for string values\n",
    "\n",
    "example:\n",
    "\n",
    "```python\n",
    "name = \"Joana Dias\"\n",
    "print(name)\n",
    "```"
   ],
   "metadata": {
    "slideshow": {
     "slide_type": "subslide"
    }
   }
  },
  {
   "cell_type": "markdown",
   "source": [
    "\n",
    "<font size=\"4\" color=\"#00A0B2\"  face=\"verdana\"> <B>Examples</B></font>"
   ],
   "metadata": {}
  },
  {
   "cell_type": "code",
   "execution_count": 16,
   "source": [
    "test_value = 22\r\n",
    "print(test_value)\r\n",
    "test_value = \"Joana\"\r\n",
    "print(test_value)"
   ],
   "outputs": [
    {
     "output_type": "stream",
     "name": "stdout",
     "text": [
      "22\n",
      "Joana\n"
     ]
    }
   ],
   "metadata": {}
  },
  {
   "cell_type": "markdown",
   "source": [
    "<font size=\"6\" color=\"#B24C00\"  face=\"verdana\"> <B>Task 6</B></font> \n",
    "## Assign a variable and print the value\n",
    "- assign a string value to a variable **`student_name`**\n",
    "- print the value of variable **`student_name`**"
   ],
   "metadata": {}
  },
  {
   "cell_type": "code",
   "execution_count": 17,
   "source": [
    "# [ ] assign a string value to a variable student_name\r\n",
    "student_name = \"Code Warrior\"\r\n",
    "# [ ] print the value of variable student_name\r\n",
    "print(student_name)\r\n"
   ],
   "outputs": [
    {
     "output_type": "stream",
     "name": "stdout",
     "text": [
      "Code Warrior\n"
     ]
    }
   ],
   "metadata": {
    "slideshow": {
     "slide_type": "subslide"
    }
   }
  },
  {
   "cell_type": "markdown",
   "source": [
    "##  modify the value of a variable\n",
    "- assign the **`student_name`** variable  a different string value (a different name)\n",
    "- print the value of variable **`student_name`**\n",
    "- assign and print a 3rd value to **`student_name`**"
   ],
   "metadata": {}
  },
  {
   "cell_type": "code",
   "execution_count": 20,
   "source": [
    "# [ ] assign the student_name variable  a different string value (a different name)\r\n",
    "student_name = \"John Doe\"\r\n",
    "# [ ] print the value of variable student_name\r\n",
    "print(student_name)\r\n",
    "# [ ] assign a 3rd different string value, to the variable name \r\n",
    "student_name = \"Nalah Queen\"\r\n",
    "# [ ] print the value of variable name\r\n",
    "print(student_name)\r\n"
   ],
   "outputs": [
    {
     "output_type": "stream",
     "name": "stdout",
     "text": [
      "John Doe\n",
      "Nalah Queen\n"
     ]
    }
   ],
   "metadata": {}
  },
  {
   "cell_type": "markdown",
   "source": [
    "##  change variable type with reassignment\n",
    "- assigning a value to a variable called **`bucket`**\n",
    "- print the value of **`bucket`**\n",
    "- assign an Integer value (no quotes) to the variable **`bucket`**\n",
    "-  print the value of **`bucket`** "
   ],
   "metadata": {}
  },
  {
   "cell_type": "code",
   "execution_count": 21,
   "source": [
    "# [ ] assigning a value to a variable called bucket\r\n",
    "bucket = '1234'\r\n",
    "# [ ] print the value of bucket \r\n",
    "print(bucket)\r\n",
    "# [ ] assign an Integer value (no quotes) to the variable bucket\r\n",
    "bucket = 1111\r\n",
    "# [ ] print the value of bucket \r\n",
    "print(bucket)\r\n",
    "\r\n"
   ],
   "outputs": [
    {
     "output_type": "stream",
     "name": "stdout",
     "text": [
      "1234\n",
      "1111\n"
     ]
    }
   ],
   "metadata": {}
  },
  {
   "cell_type": "markdown",
   "source": [
    "# Module 1 Part 3\n",
    "##  Getting started with Python in Jupyter Notebooks\n",
    "- Python 3 in Jupyter notebooks\n",
    "- `print()`\n",
    "- comments  \n",
    "- **data types basics**\n",
    "- **variables**  \n",
    "- addition with Strings and Integers\n",
    "- Errors  \n",
    "- character art  \n",
    "\n",
    "-----\n",
    "\n",
    "\n",
    "><font size=\"5\" color=\"#00A0B2\"  face=\"verdana\"> <B>Student will be able to</B></font>\n",
    "- use Python 3 in Jupyter notebooks\n",
    "- write working code using `print()` and `#` comments  \n",
    "- **write working code using `type()` and variables**\n",
    "- combine Strings using string addition (+)\n",
    "- add numbers in code (+)\n",
    "- troubleshoot errors\n",
    "- create character art"
   ],
   "metadata": {
    "slideshow": {
     "slide_type": "slide"
    }
   }
  },
  {
   "cell_type": "markdown",
   "source": [
    "# &nbsp;\n",
    "<font size=\"6\" color=\"#00A0B2\"  face=\"verdana\"> <B>Concepts</B></font>\n",
    "## Using the Python `type()` function\n",
    "**`type()`** returns the data type of python objects\n",
    "\n",
    "### `str`, `int`, `float`  \n",
    "#### What does using `type()` reveal?\n",
    "- **`str`**: when **type()** returns **str** that means it has evaluated a **string** characters (numbers, letters, punctuation...) in quotes \n",
    "- **`int`**: when **type()** returns **int** that means it has evaluated an **Integer** (+/- whole numbers) \n",
    "- **`float`**: when **type()** returns **`float`** that means it has evaluated decimal numbers (e.g. 3.33, 0.01, 9.9999 and 3.0), ...more later in the course\n"
   ],
   "metadata": {}
  },
  {
   "cell_type": "markdown",
   "source": [
    "# &nbsp;\n",
    "<font size=\"6\" color=\"#00A0B2\"  face=\"verdana\"> <B>Examples</B></font>\n",
    "- Read and run the code for each sample"
   ],
   "metadata": {}
  },
  {
   "cell_type": "code",
   "execution_count": 22,
   "source": [
    "# [ ] Read and run the code\r\n",
    "type(\"Hello World!\")"
   ],
   "outputs": [
    {
     "output_type": "execute_result",
     "data": {
      "text/plain": [
       "str"
      ]
     },
     "metadata": {},
     "execution_count": 22
    }
   ],
   "metadata": {}
  },
  {
   "cell_type": "code",
   "execution_count": 23,
   "source": [
    "type(501)"
   ],
   "outputs": [
    {
     "output_type": "execute_result",
     "data": {
      "text/plain": [
       "int"
      ]
     },
     "metadata": {},
     "execution_count": 23
    }
   ],
   "metadata": {}
  },
  {
   "cell_type": "code",
   "execution_count": 24,
   "source": [
    "type(8.33333)"
   ],
   "outputs": [
    {
     "output_type": "execute_result",
     "data": {
      "text/plain": [
       "float"
      ]
     },
     "metadata": {},
     "execution_count": 24
    }
   ],
   "metadata": {}
  },
  {
   "cell_type": "code",
   "execution_count": 25,
   "source": [
    "student_name = \"Colette Browning\"\r\n",
    "type(student_name)"
   ],
   "outputs": [
    {
     "output_type": "execute_result",
     "data": {
      "text/plain": [
       "str"
      ]
     },
     "metadata": {},
     "execution_count": 25
    }
   ],
   "metadata": {}
  },
  {
   "cell_type": "markdown",
   "source": [
    "\n",
    "<font size=\"6\" color=\"#B24C00\"  face=\"verdana\"> <B>Task 7</B></font> \n",
    "## Using `type()`\n",
    "- Complete the \"identify data types\" tasks by assigning  values to the variable&nbsp; **`bucket`** and using **`type()`** "
   ],
   "metadata": {}
  },
  {
   "cell_type": "code",
   "execution_count": 26,
   "source": [
    "# [ ] show the type after assigning bucket = a whole number value such as 16 \r\n",
    "bucket = 16\r\n",
    "type(bucket)\r\n"
   ],
   "outputs": [
    {
     "output_type": "execute_result",
     "data": {
      "text/plain": [
       "int"
      ]
     },
     "metadata": {},
     "execution_count": 26
    }
   ],
   "metadata": {}
  },
  {
   "cell_type": "code",
   "execution_count": 27,
   "source": [
    "# [ ] show  the type after assigning bucket = a word in \"double quotes\"\r\n",
    "bucket = \"a word\"\r\n",
    "type(bucket)\r\n",
    "\r\n"
   ],
   "outputs": [
    {
     "output_type": "execute_result",
     "data": {
      "text/plain": [
       "str"
      ]
     },
     "metadata": {},
     "execution_count": 27
    }
   ],
   "metadata": {}
  },
  {
   "cell_type": "code",
   "execution_count": 28,
   "source": [
    "# [ ] display the type of 'single quoting' (use single quotes) \r\n",
    "x = 'single quote'\r\n",
    "type(x)\r\n",
    "\r\n"
   ],
   "outputs": [
    {
     "output_type": "execute_result",
     "data": {
      "text/plain": [
       "str"
      ]
     },
     "metadata": {},
     "execution_count": 28
    }
   ],
   "metadata": {}
  },
  {
   "cell_type": "code",
   "execution_count": 29,
   "source": [
    "# [ ] display the type of \"double quoting\" (use double quotes)\r\n",
    "x = \"double\"\r\n",
    "type(x)\r\n"
   ],
   "outputs": [
    {
     "output_type": "execute_result",
     "data": {
      "text/plain": [
       "str"
      ]
     },
     "metadata": {},
     "execution_count": 29
    }
   ],
   "metadata": {}
  },
  {
   "cell_type": "code",
   "execution_count": 30,
   "source": [
    "# [ ] display the type of \"12\" (use quotes)\r\n",
    "type(\"12\")\r\n"
   ],
   "outputs": [
    {
     "output_type": "execute_result",
     "data": {
      "text/plain": [
       "str"
      ]
     },
     "metadata": {},
     "execution_count": 30
    }
   ],
   "metadata": {}
  },
  {
   "cell_type": "code",
   "execution_count": 31,
   "source": [
    "# [ ] display the type of 12 (no quotes)\r\n",
    "type(12)\r\n"
   ],
   "outputs": [
    {
     "output_type": "execute_result",
     "data": {
      "text/plain": [
       "int"
      ]
     },
     "metadata": {},
     "execution_count": 31
    }
   ],
   "metadata": {}
  },
  {
   "cell_type": "code",
   "execution_count": 32,
   "source": [
    "# [ ] display the type of -12 (no quotes)\r\n",
    "type(-12)\r\n"
   ],
   "outputs": [
    {
     "output_type": "execute_result",
     "data": {
      "text/plain": [
       "int"
      ]
     },
     "metadata": {},
     "execution_count": 32
    }
   ],
   "metadata": {}
  },
  {
   "cell_type": "code",
   "execution_count": 33,
   "source": [
    "# [ ] display the type of 12.0 (no quotes)\r\n",
    "type(12.0)\r\n"
   ],
   "outputs": [
    {
     "output_type": "execute_result",
     "data": {
      "text/plain": [
       "float"
      ]
     },
     "metadata": {},
     "execution_count": 33
    }
   ],
   "metadata": {}
  },
  {
   "cell_type": "code",
   "execution_count": 34,
   "source": [
    "# [ ] display the type of 1.55\r\n",
    "type(1.55)\r\n"
   ],
   "outputs": [
    {
     "output_type": "execute_result",
     "data": {
      "text/plain": [
       "float"
      ]
     },
     "metadata": {},
     "execution_count": 34
    }
   ],
   "metadata": {}
  },
  {
   "cell_type": "code",
   "execution_count": 35,
   "source": [
    "# [ ] find the type of the type(3) statement (no quotes) - just for fun\r\n",
    "type(3)\r\n"
   ],
   "outputs": [
    {
     "output_type": "execute_result",
     "data": {
      "text/plain": [
       "int"
      ]
     },
     "metadata": {},
     "execution_count": 35
    }
   ],
   "metadata": {}
  },
  {
   "cell_type": "markdown",
   "source": [
    "# Module 1 Part 4\n",
    "##  Getting started with Python in Jupyter Notebooks\n",
    "- Python 3 in Jupyter notebooks\n",
    "- `print()`\n",
    "- comments  \n",
    "- data types basics\n",
    "- variables  \n",
    "- **Addition with Strings and Integers**\n",
    "- **Errors**  \n",
    "- character art  \n",
    "\n",
    "-----\n",
    "\n",
    "\n",
    "><font size=\"5\" color=\"#00A0B2\"  face=\"verdana\"> <B>Student will be able to</B></font>\n",
    "- use Python 3 in Jupyter notebooks\n",
    "- write working code using `print()` and `#` comments  \n",
    "- write working code using `type()` and variables\n",
    "- combine Strings using string addition (+)\n",
    "- **add numbers in code (+)**  \n",
    "- **troubleshoot errors**  \n",
    "- create character art"
   ],
   "metadata": {
    "slideshow": {
     "slide_type": "slide"
    }
   }
  },
  {
   "cell_type": "markdown",
   "source": [
    "# &nbsp;\n",
    "<font size=\"6\" color=\"#00A0B2\"  face=\"verdana\"> <B>Concepts</B></font>\n",
    "## Addition: Numbers and Strings  \n",
    "\n",
    "### Numeric addition\n",
    "**Numeric addition** Single line *math equations*, run in a code cell, will output a sum \n",
    "```python\n",
    "# adding a pair of single digit Integers\n",
    "3 + 5  \n",
    "```  \n",
    "## String addition\n",
    "**string addition** single line *equations*, run in a code cell, will output a single concatenated string  \n",
    "> **Tip:** all strings must be in quotes  \n",
    "    \n",
    "```python\n",
    "# adding a pair of strings\n",
    "\"I wear \" + \"a hat\"  \n",
    "```  \n",
    "We can also **add variables** as long as we add strings to strings and numbers to numbers"
   ],
   "metadata": {}
  },
  {
   "cell_type": "markdown",
   "source": [
    "\n",
    "<font size=\"4\" color=\"#00A0B2\"  face=\"verdana\"> <B>Examples</B></font>\n",
    "## String and Number Addition"
   ],
   "metadata": {}
  },
  {
   "cell_type": "code",
   "execution_count": 36,
   "source": [
    "# [ ] Review and run code for adding a pair of 2 digit Integers\r\n",
    "23 + 18"
   ],
   "outputs": [
    {
     "output_type": "execute_result",
     "data": {
      "text/plain": [
       "41"
      ]
     },
     "metadata": {},
     "execution_count": 36
    }
   ],
   "metadata": {}
  },
  {
   "cell_type": "code",
   "execution_count": 37,
   "source": [
    "# [ ] Review and run code for adding 2 strings\r\n",
    "\"my name is \" + \"Alyssa\"  "
   ],
   "outputs": [
    {
     "output_type": "execute_result",
     "data": {
      "text/plain": [
       "'my name is Alyssa'"
      ]
     },
     "metadata": {},
     "execution_count": 37
    }
   ],
   "metadata": {}
  },
  {
   "cell_type": "code",
   "execution_count": 38,
   "source": [
    "# [ ] Review and run code for adding a variable string and a literal string\r\n",
    "shoe_color = \"brown\"\r\n",
    "\"my shoe color is \" + shoe_color"
   ],
   "outputs": [
    {
     "output_type": "execute_result",
     "data": {
      "text/plain": [
       "'my shoe color is brown'"
      ]
     },
     "metadata": {},
     "execution_count": 38
    }
   ],
   "metadata": {}
  },
  {
   "cell_type": "markdown",
   "source": [
    "\n",
    "<font size=\"6\" color=\"#B24C00\"  face=\"verdana\"> <B>Task 8</B></font>\n",
    "## String and Number Addition"
   ],
   "metadata": {}
  },
  {
   "cell_type": "code",
   "execution_count": 39,
   "source": [
    "# [ ] add 3 integer numbers\r\n",
    "4 + 7 + 27\r\n",
    "\r\n"
   ],
   "outputs": [
    {
     "output_type": "execute_result",
     "data": {
      "text/plain": [
       "38"
      ]
     },
     "metadata": {},
     "execution_count": 39
    }
   ],
   "metadata": {}
  },
  {
   "cell_type": "code",
   "execution_count": 40,
   "source": [
    "# [ ] add a float number and an integer number\r\n",
    "\r\n",
    "1.88 + 8.0\r\n"
   ],
   "outputs": [
    {
     "output_type": "execute_result",
     "data": {
      "text/plain": [
       "9.879999999999999"
      ]
     },
     "metadata": {},
     "execution_count": 40
    }
   ],
   "metadata": {}
  },
  {
   "cell_type": "code",
   "execution_count": 41,
   "source": [
    "# [ ] Add the string \"This notebook belongs to \" and a string with your first name\r\n",
    "\r\n",
    "\"This notebook belongs to \" + \"Horace\""
   ],
   "outputs": [
    {
     "output_type": "execute_result",
     "data": {
      "text/plain": [
       "'This notebook belongs to Horace'"
      ]
     },
     "metadata": {},
     "execution_count": 41
    }
   ],
   "metadata": {}
  },
  {
   "cell_type": "code",
   "execution_count": 44,
   "source": [
    "# [ ] Create variables sm_number and big_number and assign numbers then add the numbers\r\n",
    "\r\n",
    "sm_number = 4\r\n",
    "big_number = 10"
   ],
   "outputs": [],
   "metadata": {}
  },
  {
   "cell_type": "code",
   "execution_count": 45,
   "source": [
    "# [ ] assign a string value to the variable first_name and add to the string \", remember to save the notebook frequently\"\r\n",
    "first_name = \"Horace\"\r\n"
   ],
   "outputs": [],
   "metadata": {}
  },
  {
   "cell_type": "markdown",
   "source": [
    "# &nbsp;\n",
    "<font size=\"6\" color=\"#00A0B2\"  face=\"verdana\"> <B>Concepts</B></font>  \n",
    "## use addition in variable assignments  \n",
    "It is common to store the results of addition in a variable\n",
    "\n",
    "## use addition in `print ()`   \n",
    "Use **`print()`** to show the results of multiple lines of output  \n",
    " "
   ],
   "metadata": {}
  },
  {
   "cell_type": "markdown",
   "source": [
    "<font size=\"4\" color=\"#00A0B2\"  face=\"verdana\"> <B>Examples</B></font>\n",
    "## addition in variable assignments and in `print()`"
   ],
   "metadata": {}
  },
  {
   "cell_type": "code",
   "execution_count": 46,
   "source": [
    "# [ ] review & run code for assigning variables & using addition\r\n",
    "add_two = 34 + 16\r\n",
    "first_name = \"Alton\"\r\n",
    "greeting = \"Happy Birthday \" + first_name\r\n",
    "\r\n",
    "print(add_two)\r\n",
    "print(greeting)"
   ],
   "outputs": [
    {
     "output_type": "stream",
     "name": "stdout",
     "text": [
      "50\n",
      "Happy Birthday Alton\n"
     ]
    }
   ],
   "metadata": {}
  },
  {
   "cell_type": "code",
   "execution_count": 48,
   "source": [
    "#  [ ] review & run code for Integer addition in variables and in a print function\r\n",
    "int_sum = 6 + 7\r\n",
    "print(int_sum)\r\n",
    "print(11 + 15)"
   ],
   "outputs": [
    {
     "output_type": "stream",
     "name": "stdout",
     "text": [
      "13\n",
      "26\n"
     ]
    }
   ],
   "metadata": {}
  },
  {
   "cell_type": "code",
   "execution_count": null,
   "source": [
    "# string addition in variables and in print()function\r\n",
    "hat_msg = \"I do not wear \" + \"a hat\"  \r\n",
    "print(hat_msg)\r\n",
    "print(\"at \" + \"dinner\")"
   ],
   "outputs": [],
   "metadata": {}
  },
  {
   "cell_type": "markdown",
   "source": [
    "\n",
    "<font size=\"6\" color=\"#B24C00\"  face=\"verdana\"> <B>Task 9</B></font>\n",
    "## create Integer addition and  string addition output"
   ],
   "metadata": {}
  },
  {
   "cell_type": "code",
   "execution_count": null,
   "source": [
    "# [ ] perform string addition in the variable named new_msg (add a string to \"my favorite food is \")\r\n",
    "new_msg = \"My favorite food is\"\r\n",
    "print(new_msg)\r\n",
    "\r\n"
   ],
   "outputs": [],
   "metadata": {}
  },
  {
   "cell_type": "code",
   "execution_count": null,
   "source": [
    "# [ ] perform Integer addition in the variable named new_sum (add 2 or more Integers)\r\n",
    "new_sum =   0\r\n",
    "print(new_sum)\r\n",
    "\r\n",
    "\r\n"
   ],
   "outputs": [],
   "metadata": {}
  },
  {
   "cell_type": "code",
   "execution_count": null,
   "source": [
    "# [ ] create and print a new string variable, new_msg_2, that concatenates new_msg + a literal string\r\n",
    "\r\n"
   ],
   "outputs": [],
   "metadata": {}
  },
  {
   "cell_type": "markdown",
   "source": [
    "# &nbsp;\n",
    "<font size=\"6\" color=\"#00A0B2\"  face=\"verdana\"> <B>Concepts</B></font>  \n",
    "## Errors!\n",
    "Encountering **Errors** and troubleshooting errors are fundamental parts of computer programming"
   ],
   "metadata": {}
  },
  {
   "cell_type": "markdown",
   "source": [
    "<font size=\"4\" color=\"#00A0B2\"  face=\"verdana\"> <B>Examples</B></font>"
   ],
   "metadata": {}
  },
  {
   "cell_type": "code",
   "execution_count": null,
   "source": [
    "# [ ] review & run code\r\n",
    "print(\"my number is \" + \"123\") #string, represents a text character\r\n",
    "print(\"my number is \" + 123) #number, with numeric value "
   ],
   "outputs": [],
   "metadata": {}
  },
  {
   "cell_type": "markdown",
   "source": [
    "#### TypeError\n",
    "The line&nbsp; **`print(\"my number is \" + 123)`** causes the **`TypeError`** message to appear  \n",
    ">`TypeError: Can't convert 'int' object to str implicitly`  \n",
    "\n",
    "When adding to the string&nbsp; `\"my number is \"`&nbsp; the compiler is experiencing another string, but finds a number ***`123`**  \n",
    "\n",
    "Python cannot convert the Integer &nbsp; `123`&nbsp; to a string without explicit instruction (in code) \n",
    "  \n",
    "in other words, python only allows combining *like types*\n",
    "- **`str`** + **`str`**\n",
    "- **`int`** + **`int`**\n"
   ],
   "metadata": {}
  },
  {
   "cell_type": "markdown",
   "source": [
    "\n",
    "<font size=\"6\" color=\"#B24C00\"  face=\"verdana\"> <B>Task 10</B></font>\n",
    "## Fix `TypeError` \n",
    "- Review the code in the cells below and then run the code\n",
    "- Fix any errors and run until the code no longer shows errors"
   ],
   "metadata": {}
  },
  {
   "cell_type": "code",
   "execution_count": null,
   "source": [
    "# [ ] review and run the code - then fix any Errors\r\n",
    "total_cost = 3 + \"45\"\r\n",
    "print(total_cost)\r\n",
    "\r\n"
   ],
   "outputs": [],
   "metadata": {}
  },
  {
   "cell_type": "code",
   "execution_count": null,
   "source": [
    "# [ ] review and run the code - then fix any Errors\r\n",
    "school_num = 123\r\n",
    "print(\"the street number of Central School is \" + school_num)\r\n",
    "\r\n"
   ],
   "outputs": [],
   "metadata": {}
  },
  {
   "cell_type": "code",
   "execution_count": null,
   "source": [
    "# [ ] Read and run the code - write a hypothesis for what you observe adding float + int\r\n",
    "#  [ ] HYPOTHESIS: \r\n",
    "\r\n",
    "print(type(3.3))\r\n",
    "print(type(3))\r\n",
    "print(3.3 + 3)\r\n",
    "\r\n"
   ],
   "outputs": [],
   "metadata": {}
  },
  {
   "cell_type": "markdown",
   "source": [
    "# &nbsp;\n",
    "<font size=\"6\" color=\"#00A0B2\"  face=\"verdana\"> <B>Concepts</B></font> \n",
    "## More Errors\n",
    "### SyntaxError & NameError\n",
    "- **SyntaxError** - breaks code formatting rules of python\n",
    "- **NameError** - object is not defined (can't be found)  \n",
    "\n",
    "Python has a specific grammar that it follows that is referred to as **syntax**.  \n",
    "The print function syntax rules for output of a single string include \n",
    "- parentheses **` ( ) `** containing a **string** follow **`print`** (SyntaxError)\n",
    "- strings have **matching quotation marks** (SyntaxError)\n",
    "- `print` is lowercase and correctly spelled (NameError)\n",
    "\n",
    "Failure to follow any of these rules results in a `SyntaxError` or `NameError` when the code is run  \n"
   ],
   "metadata": {}
  },
  {
   "cell_type": "markdown",
   "source": [
    "<font size=\"4\" color=\"#00A0B2\"  face=\"verdana\"> <B>Examples</B></font>\n",
    "## SyntaxError\n",
    "- Improperly formatted string (quotes don't match) that results in a SyntaxError"
   ],
   "metadata": {}
  },
  {
   "cell_type": "code",
   "execution_count": null,
   "source": [
    "# [ ] review and run the code for properly and improperly formatted print statement\r\n",
    "print(\"Hi!\")\r\n",
    "## Improper format - non matching quotes\r\n",
    "print('I like the morning\") "
   ],
   "outputs": [],
   "metadata": {}
  },
  {
   "cell_type": "markdown",
   "source": [
    "- note that the misspelling of \"`prin`\" below results in a NameError"
   ],
   "metadata": {}
  },
  {
   "cell_type": "code",
   "execution_count": null,
   "source": [
    "# [ ] review and run the code \r\n",
    "prin('hi')"
   ],
   "outputs": [],
   "metadata": {}
  },
  {
   "cell_type": "markdown",
   "source": [
    "- EOF = \"end of file\" found in code below\n",
    "- Python went to the end of the file looking for, but not finding, a closing parenthesis "
   ],
   "metadata": {}
  },
  {
   "cell_type": "code",
   "execution_count": null,
   "source": [
    "# [ ] review and run the code missing the closing parenthesis  \r\n",
    "print(\"where are my socks?\" "
   ],
   "outputs": [],
   "metadata": {}
  },
  {
   "cell_type": "markdown",
   "source": [
    "- In code below: a parenthesis inside quotations will be seen a part of a string and not as a parenthesis"
   ],
   "metadata": {}
  },
  {
   "cell_type": "code",
   "execution_count": null,
   "source": [
    "# { ] review and run the code \r\n",
    "print(\"my socks are in the wrong bin)\" "
   ],
   "outputs": [],
   "metadata": {}
  },
  {
   "cell_type": "markdown",
   "source": [
    "\n",
    "<font size=\"6\" color=\"#B24C00\"  face=\"verdana\"> <B>Task 11</B></font>\n",
    "## Fix Errors"
   ],
   "metadata": {}
  },
  {
   "cell_type": "markdown",
   "source": [
    ">**Tip**: explaining errors to a partner often reveals a solution (works even if explaining error to a pencil) "
   ],
   "metadata": {}
  },
  {
   "cell_type": "code",
   "execution_count": null,
   "source": [
    "# [ ] repair the syntax error \r\n",
    "print('my socks do not match\") \r\n",
    "      \r\n"
   ],
   "outputs": [],
   "metadata": {}
  },
  {
   "cell_type": "code",
   "execution_count": null,
   "source": [
    "# [ ] repair the NameError  \r\n",
    "pront(\"my socks match now\") \r\n",
    "\r\n"
   ],
   "outputs": [],
   "metadata": {}
  },
  {
   "cell_type": "code",
   "execution_count": null,
   "source": [
    "# [ ] repair the syntax error \r\n",
    "print\"Save the notebook frequently\")\r\n",
    "\r\n"
   ],
   "outputs": [],
   "metadata": {}
  },
  {
   "cell_type": "code",
   "execution_count": null,
   "source": [
    "# [ ] repair the NameError \r\n",
    "student_name = \"Alton\"\r\n",
    "print(STUDENT_NAME)\r\n",
    "\r\n"
   ],
   "outputs": [],
   "metadata": {}
  },
  {
   "cell_type": "code",
   "execution_count": null,
   "source": [
    "# [ ] repair the TypeError\r\n",
    "total = 3\r\n",
    "print(total + \" students are signed up for tutoring\")\r\n",
    "\r\n"
   ],
   "outputs": [],
   "metadata": {}
  },
  {
   "cell_type": "markdown",
   "source": [
    "A parenthesis inside quotations will be seen a part of a string and not as a parenthesis"
   ],
   "metadata": {}
  },
  {
   "cell_type": "markdown",
   "source": [
    "# Module 1 Part 5\n",
    "##  Getting started with Python in Jupyter Notebooks\n",
    "- Python 3 in Jupyter notebooks\n",
    "- `print()`\n",
    "- comments \n",
    "- data types basics\n",
    "- variables\n",
    "- addition with Strings and Integers \n",
    "- Errors  \n",
    "- **character art**  \n",
    "\n",
    "-----\n",
    "\n",
    "\n",
    "><font size=\"5\" color=\"#00A0B2\"  face=\"verdana\"> <B>Student will be able to</B></font>\n",
    "- use Python 3 in Jupyter notebooks\n",
    "- write working code using `print()`, `type()`, comments and variables\n",
    "- combine Strings using string addition (+)\n",
    "- add numbers in code (+) \n",
    "- troubleshoot errors  \n",
    "- **create character art**"
   ],
   "metadata": {
    "slideshow": {
     "slide_type": "slide"
    }
   }
  },
  {
   "cell_type": "markdown",
   "source": [
    "# &nbsp;\n",
    "<font size=\"6\" color=\"#00A0B2\"  face=\"verdana\"> <B>Activity</B></font>\n",
    "## print() character art\n",
    "print() output to the console can create character art in the forms of pictures and stylized text. Below we show how to create a stylized letter \"A\" "
   ],
   "metadata": {}
  },
  {
   "cell_type": "code",
   "execution_count": null,
   "source": [
    "# the letter 'A'\r\n",
    "print(\"    *\")\r\n",
    "print(\"   * *\")\r\n",
    "print(\"  *****\")\r\n",
    "print(\" *     *\")\r\n",
    "print(\"*       *\")\r\n",
    "print()"
   ],
   "outputs": [],
   "metadata": {}
  },
  {
   "cell_type": "markdown",
   "source": [
    "<font size=\"6\" color=\"#B24C00\"  face=\"verdana\"> <B>Task 12</B></font>  \n",
    "- create the flying bird in character art in the Code cell below\n",
    "\n",
    "```\n",
    "\n",
    "_         _      \n",
    " \\       /     \n",
    "  \\ . . /   \n",
    "     V   \n",
    "\n",
    "```  \n"
   ],
   "metadata": {}
  },
  {
   "cell_type": "code",
   "execution_count": null,
   "source": [
    "# create # [ ] flying bird character art \r\n",
    "\r\n"
   ],
   "outputs": [],
   "metadata": {}
  },
  {
   "cell_type": "markdown",
   "source": [
    "<font size=\"4\" color=\"#B24C00\"  face=\"verdana\"> <B>Task cont...</B></font>  \n",
    "- create the capital letter \"E\" in character art in the Code cell below"
   ],
   "metadata": {}
  },
  {
   "cell_type": "code",
   "execution_count": null,
   "source": [],
   "outputs": [],
   "metadata": {}
  },
  {
   "cell_type": "markdown",
   "source": [
    "# Module 1 Part 6\n",
    "## Strings: input, testing, formatting\n",
    "- **input() - gathering user input**  \n",
    "- print() formatting \n",
    "- Quotes inside strings\n",
    "- Boolean string tests methods\n",
    "- String formatting methods\n",
    "- Formatting string input()\n",
    "- Boolean `in` keyword \n",
    "\n",
    "-----\n",
    "\n",
    "><font size=\"5\" color=\"#00A0B2\"  face=\"verdana\"> <B>Student will be able to</B></font>\n",
    "- **gather, store and use string `input()`**  \n",
    "- format `print()` output\n",
    "- test string characteristics\n",
    "- format string output\n",
    "- search for a string in a string"
   ],
   "metadata": {
    "collapsed": true
   }
  },
  {
   "cell_type": "markdown",
   "source": [
    "# &nbsp;  \n",
    "<font size=\"6\" color=\"#00A0B2\"  face=\"verdana\"> <B>Concepts</B></font> \n",
    "\n",
    "## input()  \n",
    "### get information from users with `input()`  \n",
    "the **`input()`** function prompts the user to supply data returning that data as a string\n",
    "\n",
    "# Walkthrough video for the rest of module 1\n",
    "[![view video](https://openclipart.org/download/219326/1432343177.svg)](https://youtu.be/wAdtOA5pld0)"
   ],
   "metadata": {
    "collapsed": true
   }
  },
  {
   "cell_type": "markdown",
   "source": [
    "<font size=\"4\" color=\"#00A0B2\"  face=\"verdana\"> <B>Examples</B></font>  "
   ],
   "metadata": {}
  },
  {
   "cell_type": "code",
   "execution_count": null,
   "source": [
    "# review and run code - enter a small integer in the text box\r\n",
    "print(\"enter a small int: \")\r\n",
    "small_int = input()\r\n",
    "print(\"small int: \")\r\n",
    "print(small_int)"
   ],
   "outputs": [],
   "metadata": {}
  },
  {
   "cell_type": "markdown",
   "source": [
    "\n",
    "<font size=\"6\" color=\"#B24C00\"  face=\"verdana\"> <B>Task 13</B></font>\n",
    "## storing input in a variable\n",
    "- **[ ]** create code to store input in student_name variable  \n",
    "an input box should when run\n",
    "- **[ ]** type a name in the input box and press **Enter**\n",
    "- **[ ]** determine the **`type()`** of **student_name**"
   ],
   "metadata": {}
  },
  {
   "cell_type": "code",
   "execution_count": null,
   "source": [
    "# [ ] get input for the variable student_name\r\n",
    "\r\n",
    "# [ ] determine the type of student_name\r\n",
    "\r\n",
    "\r\n"
   ],
   "outputs": [],
   "metadata": {}
  },
  {
   "cell_type": "markdown",
   "source": [
    "<font size=\"4\" color=\"#B24C00\"  face=\"verdana\"> <B>Task continued...</B></font>  \n",
    "> **note**: **`input()`** returns a string (type = str) regardless of entry\n",
    "- if a string is entered **`input()`** returns a string\n",
    "- if a number is entered **`input()`** returns a string  \n",
    "  \n",
    "- **[ ]** determine the **`type()`**  of input below by entering\n",
    "  - a name\n",
    "  - an integer (whole number no decimal)\n",
    "  - a float a number with a decimal point"
   ],
   "metadata": {}
  },
  {
   "cell_type": "code",
   "execution_count": null,
   "source": [
    "# [ ] run cell several times entering a name a int number and a float number after adding code below\r\n",
    "print(\"enter a name or number\")\r\n",
    "test_input = input()\r\n",
    "# [ ] insert code below to check the type of test_input\r\n",
    "\r\n",
    "\r\n"
   ],
   "outputs": [],
   "metadata": {}
  },
  {
   "cell_type": "markdown",
   "source": [
    "# &nbsp;\n",
    "<font size=\"6\" color=\"#00A0B2\"  face=\"verdana\"> <B>Concepts</B></font>  \n",
    "### user prompts using `input()`\n",
    "\n",
    "the **`input()`** function has an optional string argument which displays the string intended to inform a user what to enter  \n",
    "**`input()`** works similar to **`print()`**&nbsp;in the way it displays arguments as output\n"
   ],
   "metadata": {}
  },
  {
   "cell_type": "markdown",
   "source": [
    "\n",
    "<font size=\"4\" color=\"#00A0B2\"  face=\"verdana\"> <B>Example</B></font>"
   ],
   "metadata": {}
  },
  {
   "cell_type": "code",
   "execution_count": null,
   "source": [
    "student_name = input(\"enter the student name: \")  \r\n",
    "print(\"Hi \" + student_name)"
   ],
   "outputs": [],
   "metadata": {}
  },
  {
   "cell_type": "markdown",
   "source": [
    "\n",
    "<font size=\"6\" color=\"#B24C00\"  face=\"verdana\"> <B>Task 14</B></font>  \n",
    "## prompting the user for input\n",
    "- **[ ]** create a variable named **city** to store input, add a prompt for the name of a city\n",
    "- **[ ]** print \"the city name is \" followed by the value stored in **city**"
   ],
   "metadata": {}
  },
  {
   "cell_type": "code",
   "execution_count": null,
   "source": [
    "# [ ] get user input for a city name in the variable named city\r\n",
    "\r\n",
    "# [ ] print the city name\r\n",
    "\r\n",
    "\r\n"
   ],
   "outputs": [],
   "metadata": {}
  },
  {
   "cell_type": "markdown",
   "source": [
    "\n",
    "<font size=\"4\" color=\"#B24C00\"  face=\"verdana\"> <B>Task cont...</B></font>  \n",
    "## multiple prompts for user input\n",
    "often programs need information on multiple items\n",
    "- **[ ]** create variables to store input: **name**, **age**, **get_mail**\n",
    "- **[ ]** create prompts for name, age and yes/no to being on an email list\n",
    "- **[ ]** print description + input values   \n",
    "\n",
    ">example print output:  \n",
    "`name = Alton`  \n",
    "`age =  17`  \n",
    "`wants email = yes`  \n",
    "  \n",
    "**tip**: with multiple input statements, after each prompt, **click 'in' the input box** to continue entering input "
   ],
   "metadata": {
    "collapsed": true
   }
  },
  {
   "cell_type": "code",
   "execution_count": null,
   "source": [
    "# [ ]create variables to store input: name, age, get_mail with prompts\r\n",
    "# for name, age and yes/no to being on an email list\r\n",
    "\r\n",
    "\r\n",
    "# [ ] print a description + variable value for each variable\r\n",
    "\r\n",
    "\r\n"
   ],
   "outputs": [],
   "metadata": {}
  },
  {
   "cell_type": "markdown",
   "source": [
    "# Module 1 Part 7\n",
    "##  Getting started with Python in Jupyter Notebooks\n",
    "- Python 3 in Jupyter notebooks\n",
    "- `print()`\n",
    "- comments  \n",
    "- data types basics\n",
    "- variables  \n",
    "- **Addition with Strings and Integers**\n",
    "- **Errors**  \n",
    "- character art  \n",
    "\n",
    "-----\n",
    "\n",
    "\n",
    "><font size=\"5\" color=\"#00A0B2\"  face=\"verdana\"> <B>Student will be able to</B></font>\n",
    "- use Python 3 in Jupyter notebooks\n",
    "- write working code using `print()` and `#` comments  \n",
    "- write working code using `type()` and variables\n",
    "- combine Strings using string addition (+)\n",
    "- **add numbers in code (+)**  \n",
    "- **troubleshoot errors**  \n",
    "- create character art"
   ],
   "metadata": {
    "slideshow": {
     "slide_type": "slide"
    }
   }
  },
  {
   "cell_type": "markdown",
   "source": [
    "# &nbsp;\n",
    "<font size=\"6\" color=\"#00A0B2\"  face=\"verdana\"> <B>Concepts</B></font>\n",
    "## Addition: Numbers and Strings  \n",
    "\n",
    "### Numeric addition\n",
    "**Numeric addition** Single line *math equations*, run in a code cell, will output a sum \n",
    "```python\n",
    "# adding a pair of single digit Integers\n",
    "3 + 5  \n",
    "```  \n",
    "## String addition\n",
    "**string addition** single line *equations*, run in a code cell, will output a single concatenated string  \n",
    "> **Tip:** all strings must be in quotes  \n",
    "    \n",
    "```python\n",
    "# adding a pair of strings\n",
    "\"I wear \" + \"a hat\"  \n",
    "```  \n",
    "We can also **add variables** as long as we add strings to strings and numbers to numbers"
   ],
   "metadata": {}
  },
  {
   "cell_type": "markdown",
   "source": [
    "\n",
    "<font size=\"4\" color=\"#00A0B2\"  face=\"verdana\"> <B>Examples</B></font>\n",
    "## String and Number Addition"
   ],
   "metadata": {}
  },
  {
   "cell_type": "code",
   "execution_count": null,
   "source": [
    "# [ ] Review and run code for adding a pair of 2 digit Integers\r\n",
    "23 + 18"
   ],
   "outputs": [],
   "metadata": {}
  },
  {
   "cell_type": "code",
   "execution_count": null,
   "source": [
    "# [ ] Review and run code for adding 2 strings\r\n",
    "\"my name is \" + \"Alyssa\"  "
   ],
   "outputs": [],
   "metadata": {}
  },
  {
   "cell_type": "code",
   "execution_count": null,
   "source": [
    "# [ ] Review and run code for adding a variable string and a literal string\r\n",
    "shoe_color = \"brown\"\r\n",
    "\"my shoe color is \" + shoe_color"
   ],
   "outputs": [],
   "metadata": {}
  },
  {
   "cell_type": "markdown",
   "source": [
    "\n",
    "<font size=\"6\" color=\"#B24C00\"  face=\"verdana\"> <B>Task 15</B></font>\n",
    "## String and Number Addition"
   ],
   "metadata": {}
  },
  {
   "cell_type": "code",
   "execution_count": null,
   "source": [
    "# [ ] add 3 integer numbers\r\n",
    "\r\n"
   ],
   "outputs": [],
   "metadata": {}
  },
  {
   "cell_type": "code",
   "execution_count": null,
   "source": [
    "# [ ] add a float number and an integer number\r\n",
    "\r\n"
   ],
   "outputs": [],
   "metadata": {}
  },
  {
   "cell_type": "code",
   "execution_count": null,
   "source": [
    "# [ ] Add the string \"This notebook belongs to \" and a string with your first name\r\n",
    "\r\n"
   ],
   "outputs": [],
   "metadata": {}
  },
  {
   "cell_type": "code",
   "execution_count": null,
   "source": [
    "# [ ] Create variables sm_number and big_number and assign numbers then add the numbers\r\n",
    "\r\n"
   ],
   "outputs": [],
   "metadata": {}
  },
  {
   "cell_type": "markdown",
   "source": [
    "# Module 1 Part 8\n",
    "## Strings: input, testing, formatting\n",
    "- input() - gathering user input  \n",
    "- **print() formatting**  \n",
    "- Quotes inside strings\n",
    "- Boolean string tests methods\n",
    "- String formatting methods\n",
    "- Formatting string input()\n",
    "- Boolean `in` keyword \n",
    "\n",
    "-----\n",
    "\n",
    "><font size=\"5\" color=\"#00A0B2\"  face=\"verdana\"> <B>Student will be able to</B></font>\n",
    "- gather, store and use string `input()`  \n",
    "- **format `print()` output**  \n",
    "- test string characteristics\n",
    "- format string output\n",
    "- search for a string in a string"
   ],
   "metadata": {
    "collapsed": true
   }
  },
  {
   "cell_type": "markdown",
   "source": [
    "# &nbsp;\n",
    "<font size=\"6\" color=\"#00A0B2\"  face=\"verdana\"> <B>Concepts</B></font>  \n",
    "## comma print formatting\n",
    "### print() comma separated strings \n",
    "Python provides several methods of formatting strings in the **`print()`** function beyond **string addition**   \n",
    "  \n",
    "**`print()`** provides using **commas** to combine stings for output  \n",
    "by comma separating strings  **`print()`** will output each separated by a space by default\n",
    "#### comma formatted `print()`\n",
    "- **[ ]** print 3 strings on the same line using commas inside the `print()` function "
   ],
   "metadata": {
    "collapsed": true
   }
  },
  {
   "cell_type": "markdown",
   "source": [
    "\n",
    "<font size=\"4\" color=\"#00A0B2\"  face=\"verdana\"> <B>Examples</B></font>"
   ],
   "metadata": {}
  },
  {
   "cell_type": "code",
   "execution_count": null,
   "source": [
    "# review and run code\r\n",
    "\r\n",
    "name = \"Collette\"\r\n",
    "\r\n",
    "# string addition \r\n",
    "print(\"Hello \" + name + \"!\")\r\n",
    "\r\n",
    "# comma separation formatting\r\n",
    "print(\"Hello to\",name,\"who is from the city\")"
   ],
   "outputs": [],
   "metadata": {}
  },
  {
   "cell_type": "markdown",
   "source": [
    "\n",
    "<font size=\"6\" color=\"#B24C00\"  face=\"verdana\"> <B>Task 16</B></font>  \n",
    "**print 3 strings on the same line using commas inside the print() function**"
   ],
   "metadata": {}
  },
  {
   "cell_type": "code",
   "execution_count": null,
   "source": [
    "# [ ] print 3 strings on the same line using commas inside the print() function \r\n",
    "\r\n"
   ],
   "outputs": [],
   "metadata": {}
  },
  {
   "cell_type": "markdown",
   "source": [
    "# &nbsp;\n",
    "<font size=\"6\" color=\"#00A0B2\"  face=\"verdana\"> <B>Concepts</B></font>  \n",
    "## using commas in `print()` with strings and numbers together\n",
    "- **`print()`** function formatting with comma separation works different than with string addition.\n",
    "- **`print()`**  using comma separation can mix numbers (int & float) and strings without a TypeError\n",
    "\n",
    "#### `print()` with numbers and strings together using commas\n",
    "- **[ ]** use a **`print()`** function with comma separation to combine 2 numbers and 2 strings"
   ],
   "metadata": {}
  },
  {
   "cell_type": "markdown",
   "source": [
    "\n",
    "<font size=\"4\" color=\"#00A0B2\"  face=\"verdana\"> <B>Examples</B></font>"
   ],
   "metadata": {}
  },
  {
   "cell_type": "code",
   "execution_count": null,
   "source": [
    "# review and run code\r\n",
    "print(\"I will pick you up @\",6,\"for the party\")"
   ],
   "outputs": [],
   "metadata": {}
  },
  {
   "cell_type": "code",
   "execution_count": null,
   "source": [
    "# review and run code\r\n",
    "number_errors = 0\r\n",
    "print(\"An Integer of\", 14, \"combined with strings causes\",number_errors,\"TypeErrors in comma formatted print!\")"
   ],
   "outputs": [],
   "metadata": {}
  },
  {
   "cell_type": "markdown",
   "source": [
    "\n",
    "<font size=\"6\" color=\"#B24C00\"  face=\"verdana\"> <B>Task 16</B></font>  \n",
    "**use a print() function with comma separation to combine 2 numbers and 2 strings**"
   ],
   "metadata": {}
  },
  {
   "cell_type": "code",
   "execution_count": null,
   "source": [
    "# [ ] use a print() function with comma separation to combine 2 numbers and 2 strings\r\n",
    "\r\n"
   ],
   "outputs": [],
   "metadata": {}
  },
  {
   "cell_type": "markdown",
   "source": [
    "<font size=\"6\" color=\"#B24C00\"  face=\"verdana\"> <B>Task 17</B></font>  \n",
    "**print() comma separated mixing of strings and variables**  \n",
    "by comma separating strings and/or string variables **`print()`** will output each separated by a space by default\n",
    "  \n",
    "**display text describing an address, made from stings and variables of different types**\n",
    "- initialize variables with input()\n",
    "  - street\n",
    "  - st_number\n",
    "- Display a message about the street and street number using comma separation formatting"
   ],
   "metadata": {
    "collapsed": true
   }
  },
  {
   "cell_type": "code",
   "execution_count": null,
   "source": [
    "# [ ] get user input for a street name in the variable, street\r\n",
    "\r\n",
    "# [ ] get user input for a street number in the variable, st_number\r\n",
    "\r\n",
    "# [ ] display a message about the street and st_number\r\n",
    "\r\n",
    "\r\n"
   ],
   "outputs": [],
   "metadata": {}
  },
  {
   "cell_type": "markdown",
   "source": [
    "<font size=\"6\" color=\"#B24C00\"  face=\"verdana\"> <B>Task 18</B></font>  \n",
    "**`print()` number, strings, variables from input**\n",
    "- [ ] display text made from combining a variable, a literal string and a number"
   ],
   "metadata": {}
  },
  {
   "cell_type": "code",
   "execution_count": null,
   "source": [
    "# [ ] define a variable with a string or numeric value\n",
    "\n",
    "# [ ] display a message combining the variable, 1 or more literal strings and a number\n",
    "\n",
    "\n"
   ],
   "outputs": [],
   "metadata": {}
  },
  {
   "cell_type": "markdown",
   "source": [
    "<font size=\"6\" color=\"#B24C00\"  face=\"verdana\"> <B>Task 19</B></font>   \n",
    "## Program: How many for the training?\n",
    "Create a program that prints out a reservation for a training class.  Gather the name of the party, the number attending and the time.\n",
    ">**example** of what input/output might look like:\n",
    "```\n",
    "enter name for contact person for training group: Hiroto Yamaguchi  \n",
    "enter the total number attending the course: 7  \n",
    "enter the training time selected: 3:25 PM  \n",
    "------------------------------  \n",
    "Reminder: training is schedule at 3:25 PM for the Hiroto Yamaguchi group of 7 attendees  \n",
    "Please arrive 10 minutes early for the first class  \n",
    "```  \n",
    "  \n",
    "Design and Create your own reminder style  \n",
    "- **[ ]** get user input for variables:\n",
    "  - **owner**: name of person the reservation is for  \n",
    "  - **num_people**: how many are attending  \n",
    "  - **training_time**: class time\n",
    "- **[ ]** create an integer variable **min_early**: number of minutes early the party should arrive\n",
    "- **[ ]** using comma separation, print reminder text\n",
    "  - use all of the variables in the text\n",
    "  - use additional strings as needed\n",
    "  - use multiple print statements to format message on multiple lines (optional)"
   ],
   "metadata": {
    "collapsed": true
   }
  },
  {
   "cell_type": "code",
   "execution_count": null,
   "source": [
    "# [ ] get input for variables: owner, num_people, training_time  - use descriptive prompt text\r\n",
    "owner = \r\n",
    "num_people = \r\n",
    "training_time = \r\n",
    "# [ ] create a integer variable min_early and \"hard code\" the integer value (e.g. - 5, 10 or 15)\r\n",
    "min_early = \r\n",
    "# [ ] print reminder text using all variables & add additional strings -  use comma separated print formatting\r\n",
    "\r\n",
    "\r\n"
   ],
   "outputs": [],
   "metadata": {}
  },
  {
   "cell_type": "code",
   "execution_count": null,
   "source": [
    "# [ ] assign a string value to the variable first_name and add to the string \", remember to save the notebook frequently\"\r\n"
   ],
   "outputs": [],
   "metadata": {}
  },
  {
   "cell_type": "markdown",
   "source": [
    "# Module 1 Part 9 - Same items as M1 P8 but iterate, change them\n",
    "## Strings: input, testing, formatting\n",
    "- input() - gathering user input  \n",
    "- **print() formatting**  \n",
    "- Quotes inside strings\n",
    "- Boolean string tests methods\n",
    "- String formatting methods\n",
    "- Formatting string input()\n",
    "- Boolean `in` keyword \n",
    "\n",
    "-----\n",
    "\n",
    "><font size=\"5\" color=\"#00A0B2\"  face=\"verdana\"> <B>Student will be able to</B></font>\n",
    "- gather, store and use string `input()`  \n",
    "- **format `print()` output**  \n",
    "- test string characteristics\n",
    "- format string output\n",
    "- search for a string in a string"
   ],
   "metadata": {
    "collapsed": true
   }
  },
  {
   "cell_type": "markdown",
   "source": [
    "# &nbsp;\n",
    "<font size=\"6\" color=\"#00A0B2\"  face=\"verdana\"> <B>Concepts</B></font>  \n",
    "## comma print formatting\n",
    "### print() comma separated strings \n",
    "Python provides several methods of formatting strings in the **`print()`** function beyond **string addition**   \n",
    "  \n",
    "**`print()`** provides using **commas** to combine stings for output  \n",
    "by comma separating strings  **`print()`** will output each separated by a space by default\n",
    "\n",
    "#### comma formatted `print()`\n",
    "- **[ ]** print 3 strings on the same line using commas inside the `print()` function "
   ],
   "metadata": {
    "collapsed": true
   }
  },
  {
   "cell_type": "markdown",
   "source": [
    "\n",
    "<font size=\"4\" color=\"#00A0B2\"  face=\"verdana\"> <B>Examples</B></font>"
   ],
   "metadata": {}
  },
  {
   "cell_type": "code",
   "execution_count": null,
   "source": [
    "# review and run code\n",
    "\n",
    "name = \"Collette\"\n",
    "\n",
    "# string addition \n",
    "print(\"Hello \" + name + \"!\")\n",
    "\n",
    "# comma separation formatting\n",
    "print(\"Hello to\",name,\"who is from the city\")"
   ],
   "outputs": [],
   "metadata": {}
  },
  {
   "cell_type": "markdown",
   "source": [
    "\n",
    "<font size=\"6\" color=\"#B24C00\"  face=\"verdana\"> <B>Task 20</B></font>  \n",
    "**print 3 strings on the same line using commas inside the print() function**"
   ],
   "metadata": {}
  },
  {
   "cell_type": "code",
   "execution_count": null,
   "source": [
    "# [ ] print 3 strings on the same line using commas inside the print() function \n",
    "\n"
   ],
   "outputs": [],
   "metadata": {}
  },
  {
   "cell_type": "markdown",
   "source": [
    "# &nbsp;\n",
    "<font size=\"6\" color=\"#00A0B2\"  face=\"verdana\"> <B>Concepts</B></font>  \n",
    "## using commas in `print()` with strings and numbers together\n",
    "- **`print()`** function formatting with comma separation works different than with string addition.\n",
    "- **`print()`**  using comma separation can mix numbers (int & float) and strings without a TypeError\n",
    "\n",
    "#### `print()` with numbers and strings together using commas\n",
    "- **[ ]** use a **`print()`** function with comma separation to combine 2 numbers and 2 strings"
   ],
   "metadata": {}
  },
  {
   "cell_type": "markdown",
   "source": [
    "\n",
    "<font size=\"4\" color=\"#00A0B2\"  face=\"verdana\"> <B>Examples</B></font>"
   ],
   "metadata": {}
  },
  {
   "cell_type": "code",
   "execution_count": null,
   "source": [
    "# review and run code\n",
    "print(\"I will pick you up @\",6,\"for the party\")"
   ],
   "outputs": [],
   "metadata": {}
  },
  {
   "cell_type": "code",
   "execution_count": null,
   "source": [
    "# review and run code\n",
    "number_errors = 0\n",
    "print(\"An Integer of\", 14, \"combined with strings causes\",number_errors,\"TypeErrors in comma formatted print!\")"
   ],
   "outputs": [],
   "metadata": {}
  },
  {
   "cell_type": "markdown",
   "source": [
    "\n",
    "<font size=\"6\" color=\"#B24C00\"  face=\"verdana\"> <B>Task 21</B></font>  \n",
    "**use a print() function with comma separation to combine 2 numbers and 2 strings**"
   ],
   "metadata": {}
  },
  {
   "cell_type": "code",
   "execution_count": null,
   "source": [
    "# [ ] use a print() function with comma separation to combine 2 numbers and 2 strings\n",
    "\n"
   ],
   "outputs": [],
   "metadata": {}
  },
  {
   "cell_type": "markdown",
   "source": [
    "<font size=\"6\" color=\"#B24C00\"  face=\"verdana\"> <B>Task 22</B></font>  \n",
    "**print() comma separated mixing of strings and variables**  \n",
    "by comma separating strings and/or string variables **`print()`** will output each separated by a space by default\n",
    "  \n",
    "**display text describing an address, made from stings and variables of different types**\n",
    "- initialize variables with input()\n",
    "  - street\n",
    "  - st_number\n",
    "- Display a message about the street and street number using comma separation formatting"
   ],
   "metadata": {
    "collapsed": true
   }
  },
  {
   "cell_type": "code",
   "execution_count": null,
   "source": [
    "# [ ] get user input for a street name in the variable, street\n",
    "\n",
    "# [ ] get user input for a street number in the variable, st_number\n",
    "\n",
    "# [ ] display a message about the street and st_number\n",
    "\n",
    "\n"
   ],
   "outputs": [],
   "metadata": {}
  },
  {
   "cell_type": "markdown",
   "source": [
    "<font size=\"6\" color=\"#B24C00\"  face=\"verdana\"> <B>Task 23</B></font>  \n",
    "**`print()` number, strings, variables from input**\n",
    "- [ ] display text made from combining a variable, a literal string and a number"
   ],
   "metadata": {}
  },
  {
   "cell_type": "code",
   "execution_count": null,
   "source": [
    "# [ ] define a variable with a string or numeric value\n",
    "\n",
    "# [ ] display a message combining the variable, 1 or more literal strings and a number\n",
    "\n",
    "\n"
   ],
   "outputs": [],
   "metadata": {}
  },
  {
   "cell_type": "markdown",
   "source": [
    "<font size=\"6\" color=\"#B24C00\"  face=\"verdana\"> <B>Task 24</B></font>   \n",
    "## Program: How many for the training?\n",
    "Create a program that prints out a reservation for a training class.  Gather the name of the party, the number attending and the time.\n",
    ">**example** of what input/output might look like:\n",
    "```\n",
    "enter name for contact person for training group: Hiroto Yamaguchi  \n",
    "enter the total number attending the course: 7  \n",
    "enter the training time selected: 3:25 PM  \n",
    "------------------------------  \n",
    "Reminder: training is schedule at 3:25 PM for the Hiroto Yamaguchi group of 7 attendees  \n",
    "Please arrive 10 minutes early for the first class  \n",
    "```  \n",
    "  \n",
    "Design and Create your own reminder style  \n",
    "- **[ ]** get user input for variables:\n",
    "  - **owner**: name of person the reservation is for  \n",
    "  - **num_people**: how many are attending  \n",
    "  - **training_time**: class time\n",
    "- **[ ]** create an integer variable **min_early**: number of minutes early the party should arrive\n",
    "- **[ ]** using comma separation, print reminder text\n",
    "  - use all of the variables in the text\n",
    "  - use additional strings as needed\n",
    "  - use multiple print statements to format message on multiple lines (optional)"
   ],
   "metadata": {
    "collapsed": true
   }
  },
  {
   "cell_type": "code",
   "execution_count": null,
   "source": [
    "# [ ] get input for variables: owner, num_people, training_time  - use descriptive prompt text\n",
    "owner = \n",
    "num_people = \n",
    "training_time = \n",
    "# [ ] create a integer variable min_early and \"hard code\" the integer value (e.g. - 5, 10 or 15)\n",
    "min_early = \n",
    "# [ ] print reminder text using all variables & add additional strings -  use comma separated print formatting\n",
    "\n",
    "\n"
   ],
   "outputs": [],
   "metadata": {}
  },
  {
   "cell_type": "markdown",
   "source": [
    "# Module 1 Part 10\n",
    "## Strings: input, testing, formatting\n",
    "- input() - gathering user input  \n",
    "- print() formatting  \n",
    "- **Quotes inside strings** \n",
    "- **Boolean string tests methods**  \n",
    "- String formatting methods\n",
    "- Formatting string input()\n",
    "- Boolean `in` keyword \n",
    "\n",
    "-----\n",
    "\n",
    "><font size=\"5\" color=\"#00A0B2\"  face=\"verdana\"> <B>Student will be able to</B></font>\n",
    "- gather, store and use string `input()`  \n",
    "- format `print()` output  \n",
    "- **test string characteristics**  \n",
    "- format string output\n",
    "- search for a string in a string"
   ],
   "metadata": {
    "collapsed": true
   }
  },
  {
   "cell_type": "markdown",
   "source": [
    "# &nbsp;\n",
    "<font size=\"6\" color=\"#00A0B2\"  face=\"verdana\"> <B>Concepts</B></font>  \n",
    "## quotes inside strings \n",
    "### single quotes in double quotes\n",
    "to display single quotes **`'`** in a string - double quotes can be used as the outer quotes: **`\"it's time\"`**\n",
    "### double quotes in single quotes\n",
    "to display double quotes **`\"`** in a string- single quotes can be used as the outer quotes: **`'Alton said \"Hello\"'`**"
   ],
   "metadata": {
    "collapsed": true
   }
  },
  {
   "cell_type": "markdown",
   "source": [
    "\n",
    "<font size=\"4\" color=\"#00A0B2\"  face=\"verdana\"> <B>Examples</B></font>"
   ],
   "metadata": {}
  },
  {
   "cell_type": "code",
   "execution_count": null,
   "source": [
    "# review and run the code\n",
    "\n",
    "# Single quote surrounded by Double\n",
    "print(\"It's time to save your code\")\n",
    "\n",
    "# Double quote surrounded by Single\n",
    "print('I said to the class \"sometimes you need to shut down and restart a notebook when cells refuse to run\"')"
   ],
   "outputs": [],
   "metadata": {}
  },
  {
   "cell_type": "markdown",
   "source": [
    "\n",
    "<font size=\"6\" color=\"#B24C00\"  face=\"verdana\"> <B>Task 25</B></font>  \n",
    "- **[ ] `print()`** strings that display double and single quotation marks"
   ],
   "metadata": {}
  },
  {
   "cell_type": "code",
   "execution_count": null,
   "source": [
    "# [ ] using a print statement, display the text: Where's the homework?\n",
    "\n"
   ],
   "outputs": [],
   "metadata": {}
  },
  {
   "cell_type": "code",
   "execution_count": null,
   "source": [
    "# [ ] output with double quotes: \"Education is what remains after one has forgotten what one has learned in school\" - Albert Einstein\n",
    "\n"
   ],
   "outputs": [],
   "metadata": {}
  },
  {
   "cell_type": "markdown",
   "source": [
    ">**note:**: Quotes in quotes handles only simple cases of displaying quotation marks.  More complex case are covered later under *escape sequences.*"
   ],
   "metadata": {
    "collapsed": true
   }
  },
  {
   "cell_type": "markdown",
   "source": [
    "# &nbsp;\n",
    "<font size=\"6\" color=\"#00A0B2\"  face=\"verdana\"> <B>Concepts</B></font>  \n",
    "## Boolean string tests\n",
    "methods\n",
    "- .isalpha()\n",
    "- .isalnum()\n",
    "- .istitle()\n",
    "- .isdigit()\n",
    "- .islower()\n",
    "- .isupper()\n",
    "- .startswith()\n",
    "\n",
    "type **`str`** has methods that return a Boolean (True or False) for different tests on the properties of stings.\n",
    ">```python\n",
    "\"Hello\".isapha()\n",
    "```\n",
    "out:[ ] &nbsp; &nbsp; `True`  \n",
    "  \n",
    "`.isalpha()` returns True if all characters in the string (\"Hello\") are alphabetical, otherwise returns False\n"
   ],
   "metadata": {
    "collapsed": true
   }
  },
  {
   "cell_type": "markdown",
   "source": [
    "\n",
    "<font size=\"4\" color=\"#00A0B2\"  face=\"verdana\"> <B>Examples</B></font> \n",
    "## Boolean String Tests\n",
    "- **[ ] review and run code in each cell**"
   ],
   "metadata": {}
  },
  {
   "cell_type": "code",
   "execution_count": null,
   "source": [
    "\"Python\".isalpha()"
   ],
   "outputs": [],
   "metadata": {}
  },
  {
   "cell_type": "code",
   "execution_count": null,
   "source": [
    "\"3rd\".isalnum()"
   ],
   "outputs": [],
   "metadata": {}
  },
  {
   "cell_type": "code",
   "execution_count": null,
   "source": [
    "\"A Cold Stromy Night\".istitle()"
   ],
   "outputs": [],
   "metadata": {}
  },
  {
   "cell_type": "code",
   "execution_count": null,
   "source": [
    "\"1003\".isdigit()"
   ],
   "outputs": [],
   "metadata": {}
  },
  {
   "cell_type": "code",
   "execution_count": null,
   "source": [
    "cm_height = \"176\"\r\n",
    "print(\"cm height:\",cm_height, \"is all digits =\",cm_height.isdigit())"
   ],
   "outputs": [],
   "metadata": {}
  },
  {
   "cell_type": "code",
   "execution_count": null,
   "source": [
    "print(\"SAVE\".islower())\r\n",
    "print(\"SAVE\".isupper())"
   ],
   "outputs": [],
   "metadata": {}
  },
  {
   "cell_type": "code",
   "execution_count": null,
   "source": [
    "\"Boolean\".startswith(\"B\")"
   ],
   "outputs": [],
   "metadata": {}
  },
  {
   "cell_type": "markdown",
   "source": [
    "\n",
    "<font size=\"6\" color=\"#B24C00\"  face=\"verdana\"> <B>Task 26</B></font>  \n",
    " ### test stings with **`.isalpha()`**"
   ],
   "metadata": {}
  },
  {
   "cell_type": "code",
   "execution_count": null,
   "source": [
    "# [ ] Use .isalpha() on the string \"alphabetical\"\r\n",
    "\r\n"
   ],
   "outputs": [],
   "metadata": {}
  },
  {
   "cell_type": "code",
   "execution_count": null,
   "source": [
    "# [ ] Use .isalpha() on the string: \"Are spaces and punctuation Alphabetical?\"\r\n",
    "\r\n"
   ],
   "outputs": [],
   "metadata": {}
  },
  {
   "cell_type": "markdown",
   "source": [
    "# Module 1 Part 11 - Same items as M1 P10, iterate, try something new\n",
    "## Strings: input, testing, formatting\n",
    "- input() - gathering user input  \n",
    "- print() formatting  \n",
    "- **Quotes inside strings** \n",
    "- **Boolean string tests methods**  \n",
    "- String formatting methods\n",
    "- Formatting string input()\n",
    "- Boolean `in` keyword \n",
    "\n",
    "-----\n",
    "\n",
    "><font size=\"5\" color=\"#00A0B2\"  face=\"verdana\"> <B>Student will be able to</B></font>\n",
    "- gather, store and use string `input()`  \n",
    "- format `print()` output  \n",
    "- **test string characteristics**  \n",
    "- format string output\n",
    "- search for a string in a string"
   ],
   "metadata": {
    "collapsed": true
   }
  },
  {
   "cell_type": "markdown",
   "source": [
    "# &nbsp;\n",
    "<font size=\"6\" color=\"#00A0B2\"  face=\"verdana\"> <B>Concepts</B></font>  \n",
    "## quotes inside strings \n",
    "### single quotes in double quotes\n",
    "to display single quotes **`'`** in a string - double quotes can be used as the outer quotes: **`\"it's time\"`**\n",
    "### double quotes in single quotes\n",
    "to display double quotes **`\"`** in a string- single quotes can be used as the outer quotes: **`'Alton said \"Hello\"'`**"
   ],
   "metadata": {
    "collapsed": true
   }
  },
  {
   "cell_type": "markdown",
   "source": [
    "\n",
    "<font size=\"4\" color=\"#00A0B2\"  face=\"verdana\"> <B>Examples</B></font>"
   ],
   "metadata": {}
  },
  {
   "cell_type": "code",
   "execution_count": null,
   "source": [
    "# review and run the code\r\n",
    "\r\n",
    "# Single quote surrounded by Double\r\n",
    "print(\"It's time to save your code\")\r\n",
    "\r\n",
    "# Double quote surrounded by Single\r\n",
    "print('I said to the class \"sometimes you need to shut down and restart a notebook when cells refuse to run\"')"
   ],
   "outputs": [],
   "metadata": {}
  },
  {
   "cell_type": "markdown",
   "source": [
    "\n",
    "<font size=\"6\" color=\"#B24C00\"  face=\"verdana\"> <B>Task 27</B></font>  \n",
    "- **[ ] `print()`** strings that display double and single quotation marks"
   ],
   "metadata": {}
  },
  {
   "cell_type": "code",
   "execution_count": null,
   "source": [
    "# [ ] using a print statement, display the text: Where's the homework?\r\n",
    "\r\n"
   ],
   "outputs": [],
   "metadata": {}
  },
  {
   "cell_type": "code",
   "execution_count": null,
   "source": [
    "# [ ] output with double quotes: \"Education is what remains after one has forgotten what one has learned in school\" - Albert Einstein\r\n",
    "\r\n"
   ],
   "outputs": [],
   "metadata": {}
  },
  {
   "cell_type": "markdown",
   "source": [
    ">**note:**: Quotes in quotes handles only simple cases of displaying quotation marks.  More complex case are covered later under *escape sequences.*"
   ],
   "metadata": {
    "collapsed": true
   }
  },
  {
   "cell_type": "markdown",
   "source": [
    "# &nbsp;\n",
    "<font size=\"6\" color=\"#00A0B2\"  face=\"verdana\"> <B>Concepts</B></font>  \n",
    "## Boolean string tests... a bit more detail\n",
    "\n",
    "methods\n",
    "- .isalpha()\n",
    "- .isalnum()\n",
    "- .istitle()\n",
    "- .isdigit()\n",
    "- .islower()\n",
    "- .isupper()\n",
    "- .startswith()\n",
    "\n",
    "type **`str`** has methods that return a Boolean (True or False) for different tests on the properties of stings.\n",
    ">```python\n",
    "\"Hello\".isapha()\n",
    "```\n",
    "out:[ ] &nbsp; &nbsp; `True`  \n",
    "  \n",
    "`.isalpha()` returns True if all characters in the string (\"Hello\") are alphabetical, otherwise returns False\n"
   ],
   "metadata": {
    "collapsed": true
   }
  },
  {
   "cell_type": "markdown",
   "source": [
    "\n",
    "<font size=\"4\" color=\"#00A0B2\"  face=\"verdana\"> <B>Examples</B></font> \n",
    "## Boolean String Tests\n",
    "- **[ ] review and run code in each cell**"
   ],
   "metadata": {}
  },
  {
   "cell_type": "code",
   "execution_count": null,
   "source": [
    "\"Python\".isalpha()"
   ],
   "outputs": [],
   "metadata": {}
  },
  {
   "cell_type": "code",
   "execution_count": null,
   "source": [
    "\"3rd\".isalnum()"
   ],
   "outputs": [],
   "metadata": {}
  },
  {
   "cell_type": "code",
   "execution_count": null,
   "source": [
    "\"A Cold Stromy Night\".istitle()"
   ],
   "outputs": [],
   "metadata": {}
  },
  {
   "cell_type": "code",
   "execution_count": null,
   "source": [
    "\"1003\".isdigit()"
   ],
   "outputs": [],
   "metadata": {}
  },
  {
   "cell_type": "code",
   "execution_count": null,
   "source": [
    "cm_height = \"176\"\r\n",
    "print(\"cm height:\",cm_height, \"is all digits =\",cm_height.isdigit())"
   ],
   "outputs": [],
   "metadata": {}
  },
  {
   "cell_type": "code",
   "execution_count": null,
   "source": [
    "print(\"SAVE\".islower())\r\n",
    "print(\"SAVE\".isupper())"
   ],
   "outputs": [],
   "metadata": {}
  },
  {
   "cell_type": "code",
   "execution_count": null,
   "source": [
    "\"Boolean\".startswith(\"B\")"
   ],
   "outputs": [],
   "metadata": {}
  },
  {
   "cell_type": "markdown",
   "source": [
    "\n",
    "<font size=\"6\" color=\"#B24C00\"  face=\"verdana\"> <B>Task 28</B></font>  \n",
    " ### test stings with **`.isalpha()`**"
   ],
   "metadata": {}
  },
  {
   "cell_type": "code",
   "execution_count": null,
   "source": [
    "# [ ] Use .isalpha() on the string \"alphabetical\"\r\n",
    "\r\n"
   ],
   "outputs": [],
   "metadata": {}
  },
  {
   "cell_type": "code",
   "execution_count": null,
   "source": [
    "# [ ] Use .isalpha() on the string: \"Are spaces and punctuation Alphabetical?\"\r\n",
    "\r\n"
   ],
   "outputs": [],
   "metadata": {}
  },
  {
   "cell_type": "code",
   "execution_count": null,
   "source": [
    "# [ ] initailize variable alpha_test with input\r\n",
    "\r\n",
    "# [ ] use .isalpha() on string variable alpha_test\r\n",
    "\r\n"
   ],
   "outputs": [],
   "metadata": {}
  },
  {
   "cell_type": "markdown",
   "source": [
    "# Module 1 Part 12\n",
    "## Strings: input, testing, formatting\n",
    "- input() - gathering user input  \n",
    "- print() formatting   \n",
    "- Quotes inside strings \n",
    "- Boolean string tests methods   \n",
    "- **String formatting methods**  \n",
    "- **Formatting string input()**  \n",
    "- **Boolean `in` keyword**  \n",
    "\n",
    "-----\n",
    "\n",
    "><font size=\"5\" color=\"#00A0B2\"  face=\"verdana\"> <B>Student will be able to</B></font>\n",
    "- gather, store and use string `input()`  \n",
    "- format `print()` output  \n",
    "- test string characteristics  \n",
    "- **format string output**  \n",
    "- **search for a string in a string**  "
   ],
   "metadata": {
    "collapsed": true
   }
  },
  {
   "cell_type": "markdown",
   "source": [
    "# &nbsp;\n",
    "<font size=\"6\" color=\"#00A0B2\"  face=\"verdana\"> <B>Concepts</B></font>  \n",
    "## String formatting methods\n",
    "the following methods are applied to string objects\n",
    "- **.capitalize()** - capitalizes the first character of a string\n",
    "- **.lower()** - all characters of a string are made lowercase\n",
    "- **.upper()** - all characters of a string are made uppercase\n",
    "- **.swapcase()** - all characters of a string are made to switch case upper becomes lower and vice versa  \n",
    "- **.title()** - each 'word' separated by a space is capitalized"
   ],
   "metadata": {
    "collapsed": true
   }
  },
  {
   "cell_type": "markdown",
   "source": [
    "\n",
    "<font size=\"4\" color=\"#00A0B2\"  face=\"verdana\"> <B>Examples</B></font>  \n",
    "### String Formatting Methods"
   ],
   "metadata": {}
  },
  {
   "cell_type": "code",
   "execution_count": null,
   "source": [
    "print(\"ms. Browning is in her office.\".capitalize())"
   ],
   "outputs": [],
   "metadata": {}
  },
  {
   "cell_type": "code",
   "execution_count": null,
   "source": [
    "fav_color = \"green\"\r\n",
    "print(fav_color.capitalize(), fav_color, fav_color,\"and\", fav_color.upper()+\"!\")"
   ],
   "outputs": [],
   "metadata": {}
  },
  {
   "cell_type": "markdown",
   "source": [
    "\n",
    "<font size=\"6\" color=\"#B24C00\"  face=\"verdana\"> <B>Task 29</B></font> \n",
    "### [ ] format with `.capitalize(), .lower(), .upper(), .swapcase()`\n",
    "> **Note:** use **print()**"
   ],
   "metadata": {}
  },
  {
   "cell_type": "code",
   "execution_count": null,
   "source": [
    "# [ ] get input for a variable, fav_food, that describes a favorite food\r\n",
    "\r\n",
    "# [ ] display fav_food as ALL CAPS, used in a sentence\r\n",
    "\r\n",
    "\r\n",
    "# [ ] dispaly fav_food as all lower case, used in a sentence\r\n",
    "\r\n",
    "\r\n",
    "# [] display fav_food with swapped case, used in a sentence\r\n",
    "\r\n",
    "\r\n",
    "# [] display fav_food with capitalization, used in a sentence\r\n",
    "\r\n",
    "\r\n",
    "\r\n"
   ],
   "outputs": [],
   "metadata": {}
  },
  {
   "cell_type": "code",
   "execution_count": null,
   "source": [
    "fav_color = \"Forest Green\"\r\n",
    "# [] display the fav_color variable as upper, lower, swapcase, and capitalize formatting in a single print() statement\r\n",
    "\r\n"
   ],
   "outputs": [],
   "metadata": {}
  },
  {
   "cell_type": "markdown",
   "source": [
    "# &nbsp;\n",
    "<font size=\"6\" color=\"#00A0B2\"  face=\"verdana\"> <B>Concepts</B></font>\n",
    "## Formatting string input()\n",
    "When storing input, sometimes a specific format is needed and formatting is applied to the **`input()`** function\n",
    "> **Note:** this technique overwrites the original user input in the variable with the formatted value "
   ],
   "metadata": {
    "collapsed": true
   }
  },
  {
   "cell_type": "markdown",
   "source": [
    "<font size=\"4\" color=\"#00A0B2\"  face=\"verdana\"> <B>Example</B></font>"
   ],
   "metadata": {
    "collapsed": true
   }
  },
  {
   "cell_type": "code",
   "execution_count": null,
   "source": [
    "# review and run code - test a capitalized color input\r\n",
    "fav_color = input('What is your favorite color?: ').lower()\r\n",
    "print(fav_color)"
   ],
   "outputs": [],
   "metadata": {}
  },
  {
   "cell_type": "markdown",
   "source": [
    "\n",
    "<font size=\"6\" color=\"#B24C00\"  face=\"verdana\"> <B>Task 30</B></font>  \n",
    "### [ ] format &nbsp; ` input()` with ` .upper()`"
   ],
   "metadata": {}
  },
  {
   "cell_type": "code",
   "execution_count": null,
   "source": [
    "# [] input variable fav_color as upper\r\n",
    "\r\n",
    "# [] print fav_color\r\n",
    "\r\n",
    "\r\n"
   ],
   "outputs": [],
   "metadata": {}
  },
  {
   "cell_type": "markdown",
   "source": [
    "# &nbsp;\n",
    "<font size=\"6\" color=\"#00A0B2\"  face=\"verdana\"> <B>Concepts</B></font>  \n",
    "## Boolean `in` keyword \n",
    "the **`in`** keyword can be used as a simple search returning **`True`** or **`False`** indication if a string is included in a target sequence.  \n",
    "### comparing strings is case sensitive\n",
    "`'Hello'` is not the same as `'hello'`  "
   ],
   "metadata": {
    "collapsed": true
   }
  },
  {
   "cell_type": "markdown",
   "source": [
    "<font size=\"4\" color=\"#00A0B2\"  face=\"verdana\"> <B>Examples</B></font>"
   ],
   "metadata": {}
  },
  {
   "cell_type": "code",
   "execution_count": 52,
   "source": [
    "# review and run code to test if a string is to be found in another string\r\n",
    "menu = \"salad, pasta, sandwich, pizza, drinks, dessert\"\r\n",
    "print('pizza' in menu)"
   ],
   "outputs": [
    {
     "output_type": "stream",
     "name": "stdout",
     "text": [
      "True\n"
     ]
    }
   ],
   "metadata": {
    "scrolled": true
   }
  },
  {
   "cell_type": "code",
   "execution_count": 53,
   "source": [
    "# review and run code to test case sensitive examples \r\n",
    "greeting = \"Hello World!\"\r\n",
    "print(\"'hello' in greeting = \",'hello' in greeting)\r\n",
    "print(\"'Hello' in greeting = \", 'Hello' in greeting)"
   ],
   "outputs": [
    {
     "output_type": "stream",
     "name": "stdout",
     "text": [
      "'hello' in greeting =  False\n",
      "'Hello' in greeting =  True\n"
     ]
    }
   ],
   "metadata": {}
  },
  {
   "cell_type": "markdown",
   "source": [
    "example below: **remove case sensitivity from a string comparison**"
   ],
   "metadata": {}
  },
  {
   "cell_type": "code",
   "execution_count": 54,
   "source": [
    "# review and run code to test removing case sensitivity from a string comparison\r\n",
    "greeting = \"Hello World!\"\r\n",
    "print(\"'hello' in greeting = \",'hello' in greeting)\r\n",
    "print(\"'Hello' in greeting = \", 'Hello' in greeting)\r\n",
    "print(\"'hello' in greeting if lower used = \", 'hello'.lower() in greeting.lower())"
   ],
   "outputs": [
    {
     "output_type": "stream",
     "name": "stdout",
     "text": [
      "'hello' in greeting =  False\n",
      "'Hello' in greeting =  True\n",
      "'hello' in greeting if lower used =  True\n"
     ]
    }
   ],
   "metadata": {}
  },
  {
   "cell_type": "markdown",
   "source": [
    "\n",
    "<font size=\"6\" color=\"#B24C00\"  face=\"verdana\"> <B>Task 31</B></font>  \n",
    "**[ ] add code below** testing the **`menu`** string variable for `'pizza'`, `'soup'`, and `'dessert'` using keyword &nbsp; **`in`**\n",
    "- print each test on a separate line\n",
    "- print a description for each test &nbsp; (e.g. - \"`Pizza in menu = True`\")"
   ],
   "metadata": {}
  },
  {
   "cell_type": "code",
   "execution_count": 57,
   "source": [
    "# [] print 3 tests, with description text, testing the menu variable for 'pizza', 'soup' and 'dessert'\r\n",
    "menu = \"salad, pasta, sandwich, pizza, drinks, dessert\"\r\n",
    "print( \"pasta\" in menu )\r\n",
    "print(\"pizza\" in menu)\r\n",
    "print(\"drinks\" in menu)\r\n"
   ],
   "outputs": [
    {
     "output_type": "stream",
     "name": "stdout",
     "text": [
      "True\n",
      "True\n",
      "True\n"
     ]
    }
   ],
   "metadata": {}
  },
  {
   "cell_type": "markdown",
   "source": [
    "## Program: What is on the menu\n",
    "### [ ] Create a program where a user can check if an item is on the menu\n",
    "- store the user response in a variable menu_ask\n",
    "- use the menu from above and add some additional items\n",
    "- the program should be able to ignore case mismatch so that \"hello\" is found in \"Hello World!\""
   ],
   "metadata": {}
  },
  {
   "cell_type": "code",
   "execution_count": 58,
   "source": [
    "# Create a program where the user supplies input to search the menu\r\n",
    "new_menu = menu + \", cookies, koolaid\"\r\n",
    "user_input = input()\r\n",
    "print(user_input in new_menu)\r\n"
   ],
   "outputs": [
    {
     "output_type": "stream",
     "name": "stdout",
     "text": [
      "True\n"
     ]
    }
   ],
   "metadata": {}
  },
  {
   "cell_type": "markdown",
   "source": [
    "### [ ] Challenge: Add to the menu\n",
    "- print the current menu\n",
    "- get user input for add_item variable\n",
    "- new_menu use string addition to add add_item to menu\n",
    "- print the new_menu\n",
    "testing\n",
    "- add a cell below add menu\n",
    "- check if an item is on the menu, check for previous items and the item you added"
   ],
   "metadata": {}
  },
  {
   "cell_type": "code",
   "execution_count": 70,
   "source": [
    "# add to menu\r\n",
    "print(new_menu)\r\n",
    "usr_add_item = input()\r\n",
    "usr_menu = new_menu + \", \" +  usr_add_item\r\n"
   ],
   "outputs": [
    {
     "output_type": "stream",
     "name": "stdout",
     "text": [
      "salad, pasta, sandwich, pizza, drinks, dessert, cookies, koolaid\n"
     ]
    }
   ],
   "metadata": {}
  },
  {
   "cell_type": "code",
   "execution_count": 63,
   "source": [
    "# Testing Add to Menu - create user input to search for an item on the new menu\r\n",
    "print('ceral' in new_menu)\r\n",
    "print('ceral'\r\n",
    " in usr_add_item)"
   ],
   "outputs": [
    {
     "output_type": "stream",
     "name": "stdout",
     "text": [
      "False\n",
      "True\n"
     ]
    }
   ],
   "metadata": {}
  },
  {
   "cell_type": "markdown",
   "source": [
    "\n",
    "<font size=\"6\" color=\"#B24C00\"  face=\"verdana\"> <B>Task 32</B></font>\n",
    "## Fix The Error"
   ],
   "metadata": {}
  },
  {
   "cell_type": "code",
   "execution_count": 74,
   "source": [
    "# [ ] fix the error\r\n",
    "paint_colors = \"red, blue, green, black, orange, pink\"\r\n",
    "# print('Red in paint colors = ',red in paint_colors)\r\n",
    "\r\n",
    "# This is the fix to the error above\r\n",
    "print('Red in paint colors = ' + 'red' in paint_colors)"
   ],
   "outputs": [
    {
     "output_type": "stream",
     "name": "stdout",
     "text": [
      "False\n"
     ]
    }
   ],
   "metadata": {}
  },
  {
   "cell_type": "code",
   "execution_count": 72,
   "source": [],
   "outputs": [
    {
     "output_type": "stream",
     "name": "stdout",
     "text": [
      "False\n"
     ]
    }
   ],
   "metadata": {}
  },
  {
   "cell_type": "markdown",
   "source": [
    "© 2017 Microsoft adapted with Permission by Dominic Thomas"
   ],
   "metadata": {}
  }
 ],
 "metadata": {
  "anaconda-cloud": {},
  "kernelspec": {
   "name": "python3",
   "display_name": "Python 3.9.0 64-bit"
  },
  "language_info": {
   "codemirror_mode": {
    "name": "ipython",
    "version": 3
   },
   "file_extension": ".py",
   "mimetype": "text/x-python",
   "name": "python",
   "nbconvert_exporter": "python",
   "pygments_lexer": "ipython3",
   "version": "3.9.0"
  },
  "interpreter": {
   "hash": "352250d72fbe74f1a4acf37601ef1631e612adb35eaa4136c077520ae8357c0b"
  }
 },
 "nbformat": 4,
 "nbformat_minor": 1
}