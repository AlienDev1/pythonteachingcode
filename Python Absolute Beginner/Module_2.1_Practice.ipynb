{
 "cells": [
  {
   "cell_type": "markdown",
   "source": [
    "# Module 2 Practice\n",
    "## Functions Arguments & Parameters\n",
    "<font size=\"5\" color=\"#00A0B2\"  face=\"verdana\"> <B>Student will be able to</B></font>  \n",
    "- **create functions with a parameter**  \n",
    "- **create functions with a `return` value** \n",
    "- **create functions with multiple parameters**\n",
    "- **use knowledge of sequence in coding tasks**  \n",
    "- **use coding best practices** "
   ],
   "metadata": {}
  },
  {
   "cell_type": "markdown",
   "source": [
    "## &nbsp;\n",
    "<font size=\"6\" color=\"#B24C00\"  face=\"verdana\"> <B>Tasks</B></font>"
   ],
   "metadata": {}
  },
  {
   "cell_type": "code",
   "execution_count": 4,
   "source": [
    "# [ ] define and call a function short_rhyme() that prints a 2 line rhyme\r\n",
    "def short_rhyme():\r\n",
    "    print(\"\"\"\r\n",
    "    Rose are red\r\n",
    "    Violets are blue!\r\n",
    "    \"\"\")\r\n",
    "\r\n",
    "short_rhyme()       "
   ],
   "outputs": [
    {
     "output_type": "stream",
     "name": "stdout",
     "text": [
      "\n",
      "    Rose are red\n",
      "    Violets are blue!\n",
      "    \n"
     ]
    }
   ],
   "metadata": {}
  },
  {
   "cell_type": "code",
   "execution_count": 6,
   "source": [
    "# [ ] define (def) a simple function: title_it() and call the function\r\n",
    "# - has a string parameter: msg\r\n",
    "# - prints msg in Title Case\r\n",
    "\r\n",
    "def title_it(msg):\r\n",
    "    print(msg)\r\n",
    "    \r\n",
    "title_it(\"this is the message!\")\r\n",
    "\r\n"
   ],
   "outputs": [
    {
     "output_type": "stream",
     "name": "stdout",
     "text": [
      "this is the message!\n"
     ]
    }
   ],
   "metadata": {}
  },
  {
   "cell_type": "code",
   "execution_count": 7,
   "source": [
    "# [ ] get user input with prompt \"what is the title?\" \r\n",
    "# [ ] call title_it() using input for the string argument\r\n",
    "\r\n",
    "print(\"what is the title?\")\r\n",
    "title = input()\r\n",
    "title_it(title)"
   ],
   "outputs": [
    {
     "output_type": "stream",
     "name": "stdout",
     "text": [
      "what is the title?\n",
      "Hello World!\n"
     ]
    }
   ],
   "metadata": {}
  },
  {
   "cell_type": "code",
   "execution_count": 8,
   "source": [
    "# [ ] define title_it_rtn() which returns a titled string instead of printing\r\n",
    "# [ ] call title_it_rtn() using input for the string argumetnt and print the result\r\n",
    "\r\n",
    "def title_it_rtn(str):\r\n",
    "    return str\r\n",
    "\r\n",
    "rtn = title_it_rtn(\"The Orginal People!\")\r\n",
    "print(rtn)\r\n",
    "\r\n",
    "\r\n",
    "\r\n"
   ],
   "outputs": [
    {
     "output_type": "stream",
     "name": "stdout",
     "text": [
      "The Orginal People!\n"
     ]
    }
   ],
   "metadata": {}
  },
  {
   "cell_type": "markdown",
   "source": [
    "## Program: bookstore()\n",
    "create and test bookstore()\n",
    "- **bookstore() takes 2 string arguments: book & price**\n",
    "- **bookstore returns a string in sentence form** \n",
    "- **bookstore() should call title_it_rtn()** with book parameter  \n",
    "- **gather input for book_entry and price_entry to use in calling bookstore()**\n",
    "- **print the return value of bookstore()**\n",
    ">example of output: **`Title: The Adventures Of Sherlock Holmes, costs $12.99`**"
   ],
   "metadata": {}
  },
  {
   "cell_type": "code",
   "execution_count": 10,
   "source": [
    "# [ ] create, call and test bookstore() function\r\n",
    "def bookstore(book, price):\r\n",
    "    return \"Title: \" + book + \", costs $\" + price\r\n",
    "\r\n",
    "print(bookstore(\"I Luv Python\", '23.77'))"
   ],
   "outputs": [
    {
     "output_type": "stream",
     "name": "stdout",
     "text": [
      "Title: I Luv Python, costs $23.77\n"
     ]
    }
   ],
   "metadata": {}
  },
  {
   "cell_type": "markdown",
   "source": [
    "### Fix the error"
   ],
   "metadata": {}
  },
  {
   "cell_type": "code",
   "execution_count": 12,
   "source": [
    "def make_greeting(name, greeting = \"Hello\"):\r\n",
    "    return (greeting + \" \" + name + \"!\")\r\n",
    "\r\n",
    "\r\n",
    "def get_name():\r\n",
    "    name_entry = input(\"enter a name: \")\r\n",
    "    return name_entry\r\n",
    "\r\n",
    "def get_greeting():\r\n",
    "    greeting_entry = input(\"enter a greeting: \")\r\n",
    "    return greeting_entry\r\n",
    "\r\n",
    "\r\n",
    "# get name and greeting, send to make_greeting \r\n",
    "print(make_greeting(get_name(), get_greeting()))\r\n",
    "\r\n",
    "\r\n"
   ],
   "outputs": [
    {
     "output_type": "stream",
     "name": "stdout",
     "text": [
      "Doe John!\n"
     ]
    }
   ],
   "metadata": {}
  },
  {
   "cell_type": "markdown",
   "source": [
    "\n",
    "[Terms of use](http://go.microsoft.com/fwlink/?LinkID=206977) &nbsp; [Privacy & cookies](https://go.microsoft.com/fwlink/?LinkId=521839) &nbsp; © 2017 Microsoft"
   ],
   "metadata": {}
  }
 ],
 "metadata": {
  "anaconda-cloud": {},
  "kernelspec": {
   "name": "python3",
   "display_name": "Python 3.9.0 64-bit"
  },
  "language_info": {
   "codemirror_mode": {
    "name": "ipython",
    "version": 3
   },
   "file_extension": ".py",
   "mimetype": "text/x-python",
   "name": "python",
   "nbconvert_exporter": "python",
   "pygments_lexer": "ipython3",
   "version": "3.9.0"
  },
  "interpreter": {
   "hash": "352250d72fbe74f1a4acf37601ef1631e612adb35eaa4136c077520ae8357c0b"
  }
 },
 "nbformat": 4,
 "nbformat_minor": 1
}