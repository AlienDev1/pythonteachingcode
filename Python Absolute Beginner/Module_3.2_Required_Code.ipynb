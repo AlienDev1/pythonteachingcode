{
  "cells": [
    {
      "cell_type": "markdown",
      "source": [
        "#  Module 3 Required Coding Activity  \n",
        "Introduction to Python Unit 1 \n",
        "\n",
        "This is an activity based on code similar to the Jupyter Notebook **`Practice_MOD03_1-4_IntroPy.ipynb`** and **`Practice_MOD03_1-5_IntroPy.ipynb`** which you may have completed as practice.\n",
        "\n",
        "> **NOTE:** This program requires the use of **`if, elif, else`**, and casting between strings and numbers. The program should use the various code syntax covered in module 3.  \n",
        ">  \n",
        ">The program must result in print output using numeric input similar to that shown in the sample below.\n",
        "\n",
        "## Program: Cheese Order Function   \n",
        "- define function with max, min, price, and order_amount parameters\n",
        "- set default values for maximum and minimum order parameters  \n",
        "- set default value for price parameter\n",
        "- cast order_amount and other arguments to numbers  \n",
        "- check order_amount and give message checking against  \n",
        "  - over maximum\n",
        "  - under minimum\n",
        "- else within maximum and minimum give message with calculated price \n",
        "- call your function using order weight input from user\n",
        "\n",
        "\n",
        "Sample input and output:\n",
        "```\n",
        "Enter cheese order weight (numeric value): 113\n",
        "113.0 is more than currently available stock\n",
        "```\n",
        "\n",
        "```\n",
        "Enter cheese order weight (numeric value): .15\n",
        "0.15 is below minimum order amount\n",
        "```  \n",
        "\n",
        "```\n",
        "Enter cheese order weight (numeric value): 2\n",
        "2.0 costs $15.98\n",
        "```  "
      ],
      "metadata": {
        "collapsed": true
      }
    },
    {
      "cell_type": "code",
      "execution_count": 3,
      "source": [
        "# [ ] create, call and test \r\n",
        "def Cheese_Order(max, min, price, order_amount):\r\n",
        "    maxDefault = 1000\r\n",
        "    minDefault = 0\r\n",
        "    priceDefault = 0.00\r\n",
        "    max = int(max)\r\n",
        "    min = int(min)\r\n",
        "    price = float(price)\r\n",
        "    order_amount = int(order_amount)\r\n",
        "\r\n",
        "    if(max > maxDefault):\r\n",
        "        print(\"Over Max\")\r\n",
        "    elif(min < minDefault):\r\n",
        "        print(\"under min\")\r\n",
        "    else:\r\n",
        "        newPrice = price * order_amount\r\n",
        "        return order_amount + \" costs $\" + int(newPrice) * order_amount\r\n",
        "\r\n",
        "print(\"Enter cheese order weight (numeric value): \")\r\n",
        "usr = input()\r\n",
        "Cheese_Order(100, 4, 22.48, int(usr))\r\n"
      ],
      "outputs": [
        {
          "output_type": "stream",
          "name": "stdout",
          "text": [
            "Enter cheese order weight (numeric value): \n"
          ]
        },
        {
          "output_type": "execute_result",
          "data": {
            "text/plain": [
              "2540.2400000000002"
            ]
          },
          "metadata": {},
          "execution_count": 3
        }
      ],
      "metadata": {
        "trusted": false
      }
    },
    {
      "cell_type": "markdown",
      "source": [
        "Submit this by creating a python file (.py) and submitting it in D2L. Be sure to test that it works."
      ],
      "metadata": {}
    }
  ],
  "metadata": {
    "kernelspec": {
      "name": "python3",
      "display_name": "Python 3.9.0 64-bit"
    },
    "language_info": {
      "codemirror_mode": {
        "name": "ipython",
        "version": 3
      },
      "file_extension": ".py",
      "mimetype": "text/x-python",
      "name": "python",
      "nbconvert_exporter": "python",
      "pygments_lexer": "ipython3",
      "version": "3.9.0"
    },
    "interpreter": {
      "hash": "352250d72fbe74f1a4acf37601ef1631e612adb35eaa4136c077520ae8357c0b"
    }
  },
  "nbformat": 4,
  "nbformat_minor": 1
}