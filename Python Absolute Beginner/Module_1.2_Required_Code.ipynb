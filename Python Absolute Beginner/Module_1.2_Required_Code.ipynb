{
 "cells": [
  {
   "cell_type": "markdown",
   "source": [
    "#  Module 1 Required Coding Activity  \n",
    "Work through the Module 1 Tutorials and Practices prior to attempting this activity.\n",
    "\n",
    "> **NOTE:** This program requires print output and code syntax used in module 1\n",
    "\n",
    "| Some Assignment Requirements |  \n",
    "|:-------------------------------|  \n",
    "| **NOTE:** This program requires `print` output and using code syntax used in module 1 such as variable assignment, `input`, `in` keyword, `.lower()` or `.upper()` method  |  \n",
    "\n",
    "\n",
    "## Program: Allergy Check  \n",
    "\n",
    "1. **[ ]** get user **`input`** for categories of food eaten in the last 24 hours  \n",
    " save in a variable called **input_test**  \n",
    "2. **[ ]** print **`True`** if \"dairy\" is in the **input_test** string  \n",
    "3. **[ ]** Test the code so far  \n",
    "4. **[ ]** repeat the process checking the input for \"nuts\", **challenge** add \"Seafood\" and \"chocolate\"  \n",
    "5. **[ ]** Test your code  \n",
    "6. **[ ] challenge:** make your code work for input regardless of case, e.g. - print **`True`** for \"Nuts\", \"NuTs\", \"NUTS\" or \"nuts\"  \n"
   ],
   "metadata": {
    "collapsed": true
   }
  },
  {
   "cell_type": "code",
   "execution_count": 1,
   "source": [
    "# Create Allergy check code\r\n",
    "\r\n",
    "# [ ] get input for input_test variable\r\n",
    "food_categories = \"nuts, \"\r\n",
    "print(\"what are some foods you have eaten in the past 24 hrs seperate with commas\")\r\n",
    "input_test = input().lower()\r\n",
    "new_list = food_categories + input_test\r\n",
    "# [ ] print \"True\" message if \"dairy\" is in the input or False message if not\r\n",
    "print(\"dariy\" in new_list)\r\n",
    "# [ ] print True message if \"nuts\" is in the input or False if not\r\n",
    "print(\"nuts\" in new_list)\r\n",
    "# [ ] Challenge: Check if \"seafood\" is in the input - print message\r\n",
    "checker = \"seafood\" in new_list\r\n",
    "\r\n",
    "# [ ] Challenge: Check if \"chocolate\" is in the input - print message\r\n",
    "checker = \"chololate\" in new_list"
   ],
   "outputs": [],
   "metadata": {
    "collapsed": true
   }
  },
  {
   "cell_type": "markdown",
   "source": [],
   "metadata": {}
  },
  {
   "cell_type": "markdown",
   "source": [
    "When finished and tested, copy your code to the clipboard on your computer. Then, create a python file (.py) in Visual Studio Code by selecting New File and saving the file with a .py extension. Then, paste in your code and test it. Finally, save the file and upload it to D2L to submit. Be sure to test that it works. Use this same process for all Required Code Activities."
   ],
   "metadata": {}
  }
 ],
 "metadata": {
  "kernelspec": {
   "name": "python3",
   "display_name": "Python 3.9.0 64-bit"
  },
  "language_info": {
   "codemirror_mode": {
    "name": "ipython",
    "version": 3
   },
   "file_extension": ".py",
   "mimetype": "text/x-python",
   "name": "python",
   "nbconvert_exporter": "python",
   "pygments_lexer": "ipython3",
   "version": "3.9.0"
  },
  "interpreter": {
   "hash": "352250d72fbe74f1a4acf37601ef1631e612adb35eaa4136c077520ae8357c0b"
  }
 },
 "nbformat": 4,
 "nbformat_minor": 1
}